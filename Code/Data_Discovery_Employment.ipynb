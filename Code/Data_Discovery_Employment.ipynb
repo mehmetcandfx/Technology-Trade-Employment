{
 "cells": [
  {
   "attachments": {},
   "cell_type": "markdown",
   "metadata": {},
   "source": [
    "# <span style=\"color:#d3d1df\">Ms Thesis Employment Data Discovery</span>"
   ]
  },
  {
   "attachments": {},
   "cell_type": "markdown",
   "metadata": {},
   "source": [
    "**To-Do's:** <br>\n",
    "*Data Discovery for:*\n",
    "\n",
    " 1. Wage Data\n",
    " 2. <span style=\"color:#00ff21\">Employment Data</span>\n",
    " 3. Trade Data\n",
    " 4. FDI Data\n",
    " 5. Sectoral Output Data\n",
    " 6. Penn Table *(Controls)*\n",
    " 7. Price Indexes *(Optional depend on data availability of Penn Table)*\n"
   ]
  },
  {
   "attachments": {},
   "cell_type": "markdown",
   "metadata": {},
   "source": [
    "## <span style=\"color:#f1c232\">Environment</span>"
   ]
  },
  {
   "cell_type": "code",
   "execution_count": 1,
   "metadata": {},
   "outputs": [],
   "source": [
    "#Packages\n",
    "\n",
    "import pandas as pd\n",
    "from Utilities import wages \n",
    "import eurostat\n",
    "\n",
    "#Variables\n",
    "\n",
    "\n"
   ]
  },
  {
   "attachments": {},
   "cell_type": "markdown",
   "metadata": {},
   "source": [
    "## <span style=\"color:#f1c232\">Employment Data</span>"
   ]
  },
  {
   "attachments": {},
   "cell_type": "markdown",
   "metadata": {},
   "source": [
    "### <span style=\"color:#900a37\">**Population by educational attainment level, sex, age and country of birth (%)**</span>"
   ]
  },
  {
   "cell_type": "code",
   "execution_count": 13,
   "metadata": {},
   "outputs": [
    {
     "name": "stdout",
     "output_type": "stream",
     "text": [
      "freq : ['A']\n",
      "unit : ['PC']\n",
      "sex : ['T', 'M', 'F']\n",
      "isced11 : ['ED0-2', 'ED3-8', 'ED3_4', 'ED3_4GEN', 'ED3_4VOC', 'ED5-8']\n",
      "c_birth : ['EU27_2020_FOR', 'NEU27_2020_FOR', 'FOR', 'NAT', 'TOTAL', 'NRP']\n",
      "age : ['Y15-24', 'Y15-64', 'Y15-69', 'Y15-74', 'Y18-24', 'Y18-64', 'Y18-69', 'Y18-74', 'Y20-24', 'Y25-34', 'Y25-54', 'Y25-64', 'Y25-69', 'Y25-74', 'Y30-34', 'Y55-74']\n",
      "geo : ['EU27_2020', 'EA20', 'BE', 'BG', 'CZ', 'DK', 'DE', 'EE', 'IE', 'EL', 'ES', 'FR', 'HR', 'IT', 'CY', 'LV', 'LT', 'LU', 'HU', 'MT', 'NL', 'AT', 'PL', 'PT', 'RO', 'SI', 'SK', 'FI', 'SE', 'IS', 'NO', 'CH', 'UK', 'ME', 'MK', 'RS', 'TR']\n"
     ]
    }
   ],
   "source": [
    "for i in eurostat.get_pars(\"EDAT_LFS_9912\"):\n",
    "    print(i,\":\", eurostat.get_par_values(\"EDAT_LFS_9912\",i))\n"
   ]
  },
  {
   "cell_type": "code",
   "execution_count": 8,
   "metadata": {},
   "outputs": [
    {
     "data": {
      "text/plain": [
       "Index(['freq', 'unit', 'sex', 'isced11', 'c_birth', 'age', 'geo\\TIME_PERIOD',\n",
       "       '2004_value', '2004_flag', '2005_value', '2005_flag', '2006_value',\n",
       "       '2006_flag', '2007_value', '2007_flag', '2008_value', '2008_flag',\n",
       "       '2009_value', '2009_flag', '2010_value', '2010_flag', '2011_value',\n",
       "       '2011_flag', '2012_value', '2012_flag', '2013_value', '2013_flag',\n",
       "       '2014_value', '2014_flag', '2015_value', '2015_flag', '2016_value',\n",
       "       '2016_flag', '2017_value', '2017_flag', '2018_value', '2018_flag',\n",
       "       '2019_value', '2019_flag', '2020_value', '2020_flag', '2021_value',\n",
       "       '2021_flag', '2022_value', '2022_flag'],\n",
       "      dtype='object')"
      ]
     },
     "execution_count": 8,
     "metadata": {},
     "output_type": "execute_result"
    }
   ],
   "source": [
    "eurostat.get_data_df(\"EDAT_LFS_9912\", True).columns"
   ]
  },
  {
   "attachments": {},
   "cell_type": "markdown",
   "metadata": {},
   "source": [
    "### <span style=\"color:#900a37\">**Employment by sex, age, professional status and occupation (1 000)**</span>"
   ]
  },
  {
   "cell_type": "code",
   "execution_count": 15,
   "metadata": {},
   "outputs": [
    {
     "name": "stdout",
     "output_type": "stream",
     "text": [
      "freq : ['A']\n",
      "unit : ['THS_PER']\n",
      "sex : ['T', 'M', 'F']\n",
      "age : ['Y15-24', 'Y15-39', 'Y15-59', 'Y15-64', 'Y15-74', 'Y_GE15', 'Y20-64', 'Y25-49', 'Y25-54', 'Y25-59', 'Y25-64', 'Y25-74', 'Y_GE25', 'Y40-59', 'Y40-64', 'Y50-59', 'Y50-64', 'Y50-74', 'Y_GE50', 'Y55-64', 'Y55-74', 'Y_GE65', 'Y_GE75']\n",
      "wstatus : ['EMP', 'CFAM', 'NCFAM', 'NRP']\n",
      "isco08 : ['TOTAL', 'OC1', 'OC2', 'OC3', 'OC4', 'OC5', 'OC6', 'OC7', 'OC8', 'OC9', 'OC0', 'NRP']\n",
      "geo : ['EU27_2020', 'EA20', 'BE', 'BG', 'CZ', 'DK', 'DE', 'EE', 'IE', 'EL', 'ES', 'FR', 'HR', 'IT', 'CY', 'LV', 'LT', 'LU', 'HU', 'MT', 'NL', 'AT', 'PL', 'PT', 'RO', 'SI', 'SK', 'FI', 'SE', 'IS', 'NO', 'CH', 'UK', 'ME', 'MK', 'RS', 'TR']\n"
     ]
    }
   ],
   "source": [
    "for i in eurostat.get_pars(\"LFSA_EGAIS\"):\n",
    "    print(i,\":\", eurostat.get_par_values(\"LFSA_EGAIS\",i))\n"
   ]
  },
  {
   "cell_type": "code",
   "execution_count": 16,
   "metadata": {},
   "outputs": [
    {
     "data": {
      "text/plain": [
       "Index(['freq', 'unit', 'sex', 'age', 'wstatus', 'isco08', 'geo\\TIME_PERIOD',\n",
       "       '1983_value', '1983_flag', '1984_value', '1984_flag', '1985_value',\n",
       "       '1985_flag', '1986_value', '1986_flag', '1987_value', '1987_flag',\n",
       "       '1988_value', '1988_flag', '1989_value', '1989_flag', '1990_value',\n",
       "       '1990_flag', '1991_value', '1991_flag', '1992_value', '1992_flag',\n",
       "       '1993_value', '1993_flag', '1994_value', '1994_flag', '1995_value',\n",
       "       '1995_flag', '1996_value', '1996_flag', '1997_value', '1997_flag',\n",
       "       '1998_value', '1998_flag', '1999_value', '1999_flag', '2000_value',\n",
       "       '2000_flag', '2001_value', '2001_flag', '2002_value', '2002_flag',\n",
       "       '2003_value', '2003_flag', '2004_value', '2004_flag', '2005_value',\n",
       "       '2005_flag', '2006_value', '2006_flag', '2007_value', '2007_flag',\n",
       "       '2008_value', '2008_flag', '2009_value', '2009_flag', '2010_value',\n",
       "       '2010_flag', '2011_value', '2011_flag', '2012_value', '2012_flag',\n",
       "       '2013_value', '2013_flag', '2014_value', '2014_flag', '2015_value',\n",
       "       '2015_flag', '2016_value', '2016_flag', '2017_value', '2017_flag',\n",
       "       '2018_value', '2018_flag', '2019_value', '2019_flag', '2020_value',\n",
       "       '2020_flag', '2021_value', '2021_flag', '2022_value', '2022_flag'],\n",
       "      dtype='object')"
      ]
     },
     "execution_count": 16,
     "metadata": {},
     "output_type": "execute_result"
    }
   ],
   "source": [
    "eurostat.get_data_df(\"LFSA_EGAIS\", True).columns"
   ]
  },
  {
   "cell_type": "code",
   "execution_count": 29,
   "metadata": {},
   "outputs": [
    {
     "data": {
      "text/plain": [
       "[('TOTAL', 'Total'),\n",
       " ('OC1', 'Managers'),\n",
       " ('OC2', 'Professionals'),\n",
       " ('OC3', 'Technicians and associate professionals'),\n",
       " ('OC4', 'Clerical support workers'),\n",
       " ('OC5', 'Service and sales workers'),\n",
       " ('OC6', 'Skilled agricultural, forestry and fishery workers'),\n",
       " ('OC7', 'Craft and related trades workers'),\n",
       " ('OC8', 'Plant and machine operators and assemblers'),\n",
       " ('OC9', 'Elementary occupations'),\n",
       " ('OC0', 'Armed forces occupations'),\n",
       " ('NRP', 'No response')]"
      ]
     },
     "execution_count": 29,
     "metadata": {},
     "output_type": "execute_result"
    }
   ],
   "source": [
    "eurostat.get_dic(\"LFSA_EGAIS\",\"isco08\", full=False)"
   ]
  },
  {
   "attachments": {},
   "cell_type": "markdown",
   "metadata": {},
   "source": [
    "### <span style=\"color:#900a37\">**Employment by sex, age, occupation and economic activity (from 2008 onwards, NACE Rev. 2) (1 000)**</span>"
   ]
  },
  {
   "cell_type": "code",
   "execution_count": 17,
   "metadata": {},
   "outputs": [
    {
     "name": "stdout",
     "output_type": "stream",
     "text": [
      "freq : ['A']\n",
      "age : ['Y15-24', 'Y15-39', 'Y15-59', 'Y15-64', 'Y15-74', 'Y_GE15', 'Y20-64', 'Y25-49', 'Y25-54', 'Y25-59', 'Y25-64', 'Y25-74', 'Y_GE25', 'Y40-59', 'Y40-64', 'Y50-59', 'Y50-64', 'Y50-74', 'Y_GE50', 'Y55-64', 'Y55-74', 'Y_GE65', 'Y_GE75']\n",
      "sex : ['T', 'M', 'F']\n",
      "nace_r2 : []\n",
      "isco08 : ['TOTAL', 'OC1', 'OC2', 'OC3', 'OC4', 'OC5', 'OC6', 'OC7', 'OC8', 'OC9', 'OC0', 'NRP']\n",
      "unit : ['THS_PER']\n",
      "geo : ['EU27_2020', 'EA20', 'BE', 'BG', 'CZ', 'DK', 'DE', 'EE', 'IE', 'EL', 'ES', 'FR', 'HR', 'IT', 'CY', 'LV', 'LT', 'LU', 'HU', 'MT', 'NL', 'AT', 'PL', 'PT', 'RO', 'SI', 'SK', 'FI', 'SE', 'IS', 'NO', 'CH', 'UK', 'ME', 'MK', 'RS', 'TR']\n"
     ]
    }
   ],
   "source": [
    "for i in eurostat.get_pars(\"LFSA_EISN2\"):\n",
    "    print(i,\":\", eurostat.get_par_values(\"LFSA_EGAIS\",i))"
   ]
  },
  {
   "cell_type": "code",
   "execution_count": 38,
   "metadata": {},
   "outputs": [
    {
     "data": {
      "text/plain": [
       "Index(['freq', 'age', 'sex', 'nace_r2', 'isco08', 'unit', 'geo\\TIME_PERIOD',\n",
       "       '2008_value', '2008_flag', '2009_value', '2009_flag', '2010_value',\n",
       "       '2010_flag', '2011_value', '2011_flag', '2012_value', '2012_flag',\n",
       "       '2013_value', '2013_flag', '2014_value', '2014_flag', '2015_value',\n",
       "       '2015_flag', '2016_value', '2016_flag', '2017_value', '2017_flag',\n",
       "       '2018_value', '2018_flag', '2019_value', '2019_flag', '2020_value',\n",
       "       '2020_flag', '2021_value', '2021_flag', '2022_value', '2022_flag'],\n",
       "      dtype='object')"
      ]
     },
     "execution_count": 38,
     "metadata": {},
     "output_type": "execute_result"
    }
   ],
   "source": [
    "eurostat.get_data_df(\"LFSA_EISN2\", True).columns"
   ]
  },
  {
   "cell_type": "code",
   "execution_count": 30,
   "metadata": {},
   "outputs": [
    {
     "data": {
      "text/plain": [
       "array(['A', 'B', 'C', 'D', 'E', 'F', 'G', 'H', 'I', 'J', 'K', 'L', 'M',\n",
       "       'N', 'NRP', 'O', 'P', 'Q', 'R', 'S', 'T', 'TOTAL', 'U'],\n",
       "      dtype=object)"
      ]
     },
     "execution_count": 30,
     "metadata": {},
     "output_type": "execute_result"
    }
   ],
   "source": [
    "eurostat.get_data_df(\"LFSA_EGAN2\", True)[\"nace_r2\"].unique()"
   ]
  },
  {
   "cell_type": "code",
   "execution_count": 37,
   "metadata": {},
   "outputs": [
    {
     "data": {
      "text/plain": [
       "[('TOTAL', 'Total - all NACE activities'),\n",
       " ('A', 'Agriculture, forestry and fishing'),\n",
       " ('B', 'Mining and quarrying'),\n",
       " ('C', 'Manufacturing'),\n",
       " ('D', 'Electricity, gas, steam and air conditioning supply'),\n",
       " ('E', 'Water supply; sewerage, waste management and remediation activities'),\n",
       " ('F', 'Construction'),\n",
       " ('G', 'Wholesale and retail trade; repair of motor vehicles and motorcycles'),\n",
       " ('H', 'Transportation and storage'),\n",
       " ('I', 'Accommodation and food service activities'),\n",
       " ('J', 'Information and communication'),\n",
       " ('K', 'Financial and insurance activities'),\n",
       " ('L', 'Real estate activities'),\n",
       " ('M', 'Professional, scientific and technical activities'),\n",
       " ('N', 'Administrative and support service activities'),\n",
       " ('O', 'Public administration and defence; compulsory social security'),\n",
       " ('P', 'Education'),\n",
       " ('Q', 'Human health and social work activities'),\n",
       " ('R', 'Arts, entertainment and recreation'),\n",
       " ('S', 'Other service activities'),\n",
       " ('T',\n",
       "  'Activities of households as employers; undifferentiated goods- and services-producing activities of households for own use'),\n",
       " ('U', 'Activities of extraterritorial organisations and bodies'),\n",
       " ('NRP', 'No response')]"
      ]
     },
     "execution_count": 37,
     "metadata": {},
     "output_type": "execute_result"
    }
   ],
   "source": [
    "eurostat.get_dic(\"LFSA_EISN2\",\"nace_r2\", full=False)"
   ]
  },
  {
   "cell_type": "code",
   "execution_count": 40,
   "metadata": {},
   "outputs": [
    {
     "data": {
      "text/plain": [
       "[('TOTAL', 'Total'),\n",
       " ('OC1', 'Managers'),\n",
       " ('OC2', 'Professionals'),\n",
       " ('OC3', 'Technicians and associate professionals'),\n",
       " ('OC4', 'Clerical support workers'),\n",
       " ('OC5', 'Service and sales workers'),\n",
       " ('OC6', 'Skilled agricultural, forestry and fishery workers'),\n",
       " ('OC7', 'Craft and related trades workers'),\n",
       " ('OC8', 'Plant and machine operators and assemblers'),\n",
       " ('OC9', 'Elementary occupations'),\n",
       " ('OC0', 'Armed forces occupations'),\n",
       " ('NRP', 'No response')]"
      ]
     },
     "execution_count": 40,
     "metadata": {},
     "output_type": "execute_result"
    }
   ],
   "source": [
    "eurostat.get_dic(\"LFSA_EISN2\",\"isco08\", full=False)"
   ]
  },
  {
   "cell_type": "code",
   "execution_count": null,
   "metadata": {},
   "outputs": [],
   "source": []
  },
  {
   "cell_type": "code",
   "execution_count": null,
   "metadata": {},
   "outputs": [],
   "source": []
  },
  {
   "cell_type": "code",
   "execution_count": null,
   "metadata": {},
   "outputs": [],
   "source": []
  },
  {
   "cell_type": "code",
   "execution_count": 3,
   "metadata": {},
   "outputs": [
    {
     "data": {
      "text/plain": [
       "['freq', 'unit', 'citizen', 'wstatus', 'age', 'geo']"
      ]
     },
     "execution_count": 3,
     "metadata": {},
     "output_type": "execute_result"
    }
   ],
   "source": [
    "eurostat.get_pars('LFSA_ENEWASN')"
   ]
  },
  {
   "cell_type": "code",
   "execution_count": 4,
   "metadata": {},
   "outputs": [
    {
     "data": {
      "text/plain": [
       "['freq', 's_adj', 'nace_r2', 'sizeclas', 'indic_em', 'geo']"
      ]
     },
     "execution_count": 4,
     "metadata": {},
     "output_type": "execute_result"
    }
   ],
   "source": [
    "eurostat.get_pars('JVS_Q_NACE2')"
   ]
  },
  {
   "cell_type": "code",
   "execution_count": 5,
   "metadata": {},
   "outputs": [
    {
     "data": {
      "text/plain": [
       "['freq', 'unit', 'sex', 'isced11', 'c_birth', 'age', 'geo']"
      ]
     },
     "execution_count": 5,
     "metadata": {},
     "output_type": "execute_result"
    }
   ],
   "source": [
    "eurostat.get_pars('EDAT_LFS_9912')"
   ]
  },
  {
   "cell_type": "code",
   "execution_count": 6,
   "metadata": {},
   "outputs": [
    {
     "data": {
      "text/plain": [
       "['freq', 'age', 'sex', 'nace_r2', 'isco08', 'unit', 'geo']"
      ]
     },
     "execution_count": 6,
     "metadata": {},
     "output_type": "execute_result"
    }
   ],
   "source": [
    "eurostat.get_pars('LFSA_EISN2')"
   ]
  },
  {
   "cell_type": "code",
   "execution_count": 7,
   "metadata": {},
   "outputs": [
    {
     "data": {
      "text/plain": [
       "['freq', 'unit', 'sex', 'age', 'wstatus', 'isco08', 'geo']"
      ]
     },
     "execution_count": 7,
     "metadata": {},
     "output_type": "execute_result"
    }
   ],
   "source": [
    "eurostat.get_pars('LFSA_EGAIS')"
   ]
  },
  {
   "cell_type": "code",
   "execution_count": 8,
   "metadata": {},
   "outputs": [
    {
     "data": {
      "text/plain": [
       "['freq', 'unit', 'sex', 'age', 'isco08', 'worktime', 'geo']"
      ]
     },
     "execution_count": 8,
     "metadata": {},
     "output_type": "execute_result"
    }
   ],
   "source": [
    "eurostat.get_pars('LFSA_EPGAIS')"
   ]
  },
  {
   "cell_type": "code",
   "execution_count": null,
   "metadata": {},
   "outputs": [],
   "source": []
  }
 ],
 "metadata": {
  "kernelspec": {
   "display_name": "Python 3",
   "language": "python",
   "name": "python3"
  },
  "language_info": {
   "codemirror_mode": {
    "name": "ipython",
    "version": 3
   },
   "file_extension": ".py",
   "mimetype": "text/x-python",
   "name": "python",
   "nbconvert_exporter": "python",
   "pygments_lexer": "ipython3",
   "version": "3.9.6"
  },
  "orig_nbformat": 4
 },
 "nbformat": 4,
 "nbformat_minor": 2
}
