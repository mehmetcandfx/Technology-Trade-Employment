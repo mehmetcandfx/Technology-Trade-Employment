{
 "cells": [
  {
   "attachments": {},
   "cell_type": "markdown",
   "metadata": {},
   "source": [
    "# <span style=\"color:#d3d1df\">Ms Thesis Employment Data Discovery</span>"
   ]
  },
  {
   "attachments": {},
   "cell_type": "markdown",
   "metadata": {},
   "source": [
    "**To-Do's:** <br>\n",
    "*Data Discovery for:*\n",
    "\n",
    " 1. Wage Data\n",
    " 2. <span style=\"color:#00ff21\">Employment Data</span>\n",
    " 3. Trade Data\n",
    " 4. FDI Data\n",
    " 5. Sectoral Output Data\n",
    " 6. Penn Table *(Controls)*\n",
    " 7. Price Indexes *(Optional depend on data availability of Penn Table)*\n"
   ]
  },
  {
   "attachments": {},
   "cell_type": "markdown",
   "metadata": {},
   "source": [
    "## <span style=\"color:#f1c232\">Environment</span>"
   ]
  },
  {
   "cell_type": "code",
   "execution_count": 1,
   "metadata": {},
   "outputs": [],
   "source": [
    "#Packages\n",
    "\n",
    "import pandas as pd\n",
    "from Utilities import wages \n",
    "import eurostat\n",
    "\n",
    "#Variables\n",
    "\n",
    "EARN_SES_14=[\"EARN_SES_AGT14\",\"EARN_SES06_14\",\"EARN_SES10_14\",\"EARN_SES14_14\",\"EARN_SES18_14\"]\n",
    "\n",
    "EARN_SES_47=[\"EARN_SES06_47\",\"EARN_SES10_47\",\"EARN_SES14_47\",\"EARN_SES18_47\"]\n",
    "\n",
    "EARN_SES_16=[\"EARN_SES_AGT16\",\"EARN_SES06_16\",\"EARN_SES10_16\",\"EARN_SES14_16\",\"EARN_SES18_16\"]\n"
   ]
  },
  {
   "attachments": {},
   "cell_type": "markdown",
   "metadata": {},
   "source": [
    "## <span style=\"color:#f1c232\">Wage Data</span>"
   ]
  },
  {
   "attachments": {},
   "cell_type": "markdown",
   "metadata": {},
   "source": []
  },
  {
   "cell_type": "code",
   "execution_count": 2,
   "metadata": {},
   "outputs": [
    {
     "data": {
      "text/plain": [
       "['freq', 'unit', 'sex', 'isced11', 'c_birth', 'age', 'geo']"
      ]
     },
     "execution_count": 2,
     "metadata": {},
     "output_type": "execute_result"
    }
   ],
   "source": [
    "eurostat.get_pars('EDAT_LFS_9912')"
   ]
  },
  {
   "cell_type": "code",
   "execution_count": 3,
   "metadata": {},
   "outputs": [
    {
     "data": {
      "text/plain": [
       "['freq', 'unit', 'citizen', 'wstatus', 'age', 'geo']"
      ]
     },
     "execution_count": 3,
     "metadata": {},
     "output_type": "execute_result"
    }
   ],
   "source": [
    "eurostat.get_pars('LFSA_ENEWASN')"
   ]
  },
  {
   "cell_type": "code",
   "execution_count": 4,
   "metadata": {},
   "outputs": [
    {
     "data": {
      "text/plain": [
       "['freq', 's_adj', 'nace_r2', 'sizeclas', 'indic_em', 'geo']"
      ]
     },
     "execution_count": 4,
     "metadata": {},
     "output_type": "execute_result"
    }
   ],
   "source": [
    "eurostat.get_pars('JVS_Q_NACE2')"
   ]
  },
  {
   "cell_type": "code",
   "execution_count": 5,
   "metadata": {},
   "outputs": [
    {
     "data": {
      "text/plain": [
       "['freq', 'unit', 'sex', 'isced11', 'c_birth', 'age', 'geo']"
      ]
     },
     "execution_count": 5,
     "metadata": {},
     "output_type": "execute_result"
    }
   ],
   "source": [
    "eurostat.get_pars('EDAT_LFS_9912')"
   ]
  },
  {
   "cell_type": "code",
   "execution_count": 6,
   "metadata": {},
   "outputs": [
    {
     "data": {
      "text/plain": [
       "['freq', 'age', 'sex', 'nace_r2', 'isco08', 'unit', 'geo']"
      ]
     },
     "execution_count": 6,
     "metadata": {},
     "output_type": "execute_result"
    }
   ],
   "source": [
    "eurostat.get_pars('LFSA_EISN2')"
   ]
  },
  {
   "cell_type": "code",
   "execution_count": 7,
   "metadata": {},
   "outputs": [
    {
     "data": {
      "text/plain": [
       "['freq', 'unit', 'sex', 'age', 'wstatus', 'isco08', 'geo']"
      ]
     },
     "execution_count": 7,
     "metadata": {},
     "output_type": "execute_result"
    }
   ],
   "source": [
    "eurostat.get_pars('LFSA_EGAIS')"
   ]
  },
  {
   "cell_type": "code",
   "execution_count": 8,
   "metadata": {},
   "outputs": [
    {
     "data": {
      "text/plain": [
       "['freq', 'unit', 'sex', 'age', 'isco08', 'worktime', 'geo']"
      ]
     },
     "execution_count": 8,
     "metadata": {},
     "output_type": "execute_result"
    }
   ],
   "source": [
    "eurostat.get_pars('LFSA_EPGAIS')"
   ]
  },
  {
   "cell_type": "code",
   "execution_count": null,
   "metadata": {},
   "outputs": [],
   "source": []
  }
 ],
 "metadata": {
  "kernelspec": {
   "display_name": "Python 3",
   "language": "python",
   "name": "python3"
  },
  "language_info": {
   "codemirror_mode": {
    "name": "ipython",
    "version": 3
   },
   "file_extension": ".py",
   "mimetype": "text/x-python",
   "name": "python",
   "nbconvert_exporter": "python",
   "pygments_lexer": "ipython3",
   "version": "3.9.6"
  },
  "orig_nbformat": 4
 },
 "nbformat": 4,
 "nbformat_minor": 2
}
