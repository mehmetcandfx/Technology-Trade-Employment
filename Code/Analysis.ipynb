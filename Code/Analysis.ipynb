{
 "cells": [
  {
   "attachments": {},
   "cell_type": "markdown",
   "metadata": {},
   "source": [
    "## <span style=\"color:#f1c232\">Environment</span>"
   ]
  },
  {
   "cell_type": "code",
   "execution_count": 15,
   "metadata": {},
   "outputs": [],
   "source": [
    "#Packages\n",
    "\n",
    "import pandas as pd\n",
    "import numpy as np\n",
    "from Utilities import preptools as pt\n",
    "import eurostat"
   ]
  },
  {
   "attachments": {},
   "cell_type": "markdown",
   "metadata": {},
   "source": [
    "---------------------------------------------------------------------------------------------------------------------------------------------------------------------------------"
   ]
  },
  {
   "attachments": {},
   "cell_type": "markdown",
   "metadata": {},
   "source": [
    "## <span style=\"color:#f1c232\">Data analysis</span>"
   ]
  },
  {
   "attachments": {},
   "cell_type": "markdown",
   "metadata": {},
   "source": [
    "To understand how different patterns of service outsourcing affect the distribution of labor earnings, we start our analysis by understanding the levels."
   ]
  },
  {
   "cell_type": "code",
   "execution_count": 16,
   "metadata": {},
   "outputs": [
    {
     "data": {
      "text/html": [
       "<div>\n",
       "<style scoped>\n",
       "    .dataframe tbody tr th:only-of-type {\n",
       "        vertical-align: middle;\n",
       "    }\n",
       "\n",
       "    .dataframe tbody tr th {\n",
       "        vertical-align: top;\n",
       "    }\n",
       "\n",
       "    .dataframe thead th {\n",
       "        text-align: right;\n",
       "    }\n",
       "</style>\n",
       "<table border=\"1\" class=\"dataframe\">\n",
       "  <thead>\n",
       "    <tr style=\"text-align: right;\">\n",
       "      <th></th>\n",
       "      <th></th>\n",
       "      <th></th>\n",
       "      <th>stk_flow</th>\n",
       "      <th>unit</th>\n",
       "      <th>value</th>\n",
       "      <th>flag</th>\n",
       "    </tr>\n",
       "    <tr>\n",
       "      <th>code</th>\n",
       "      <th>year</th>\n",
       "      <th>nace_r2</th>\n",
       "      <th></th>\n",
       "      <th></th>\n",
       "      <th></th>\n",
       "      <th></th>\n",
       "    </tr>\n",
       "  </thead>\n",
       "  <tbody>\n",
       "    <tr>\n",
       "      <th>AT</th>\n",
       "      <th>2013.0</th>\n",
       "      <th>A_B</th>\n",
       "      <td>EXP</td>\n",
       "      <td>THS_EUR</td>\n",
       "      <td>16173.0</td>\n",
       "      <td></td>\n",
       "    </tr>\n",
       "    <tr>\n",
       "      <th>BE</th>\n",
       "      <th>2013.0</th>\n",
       "      <th>A_B</th>\n",
       "      <td>EXP</td>\n",
       "      <td>THS_EUR</td>\n",
       "      <td>NaN</td>\n",
       "      <td>:</td>\n",
       "    </tr>\n",
       "    <tr>\n",
       "      <th>CZ</th>\n",
       "      <th>2013.0</th>\n",
       "      <th>A_B</th>\n",
       "      <td>EXP</td>\n",
       "      <td>THS_EUR</td>\n",
       "      <td>18035.0</td>\n",
       "      <td></td>\n",
       "    </tr>\n",
       "    <tr>\n",
       "      <th>DK</th>\n",
       "      <th>2013.0</th>\n",
       "      <th>A_B</th>\n",
       "      <td>EXP</td>\n",
       "      <td>THS_EUR</td>\n",
       "      <td>215102.0</td>\n",
       "      <td></td>\n",
       "    </tr>\n",
       "    <tr>\n",
       "      <th>EE</th>\n",
       "      <th>2013.0</th>\n",
       "      <th>A_B</th>\n",
       "      <td>EXP</td>\n",
       "      <td>THS_EUR</td>\n",
       "      <td>6259.0</td>\n",
       "      <td></td>\n",
       "    </tr>\n",
       "    <tr>\n",
       "      <th>...</th>\n",
       "      <th>...</th>\n",
       "      <th>...</th>\n",
       "      <td>...</td>\n",
       "      <td>...</td>\n",
       "      <td>...</td>\n",
       "      <td>...</td>\n",
       "    </tr>\n",
       "    <tr>\n",
       "      <th>LU</th>\n",
       "      <th>2019.0</th>\n",
       "      <th>UNK</th>\n",
       "      <td>IMP</td>\n",
       "      <td>THS_EUR</td>\n",
       "      <td>NaN</td>\n",
       "      <td>:</td>\n",
       "    </tr>\n",
       "    <tr>\n",
       "      <th>NL</th>\n",
       "      <th>2019.0</th>\n",
       "      <th>UNK</th>\n",
       "      <td>IMP</td>\n",
       "      <td>THS_EUR</td>\n",
       "      <td>NaN</td>\n",
       "      <td>:</td>\n",
       "    </tr>\n",
       "    <tr>\n",
       "      <th>NO</th>\n",
       "      <th>2019.0</th>\n",
       "      <th>UNK</th>\n",
       "      <td>IMP</td>\n",
       "      <td>THS_EUR</td>\n",
       "      <td>21375144.0</td>\n",
       "      <td></td>\n",
       "    </tr>\n",
       "    <tr>\n",
       "      <th>PL</th>\n",
       "      <th>2019.0</th>\n",
       "      <th>UNK</th>\n",
       "      <td>IMP</td>\n",
       "      <td>THS_EUR</td>\n",
       "      <td>0.0</td>\n",
       "      <td></td>\n",
       "    </tr>\n",
       "    <tr>\n",
       "      <th>SE</th>\n",
       "      <th>2019.0</th>\n",
       "      <th>UNK</th>\n",
       "      <td>IMP</td>\n",
       "      <td>THS_EUR</td>\n",
       "      <td>NaN</td>\n",
       "      <td>:</td>\n",
       "    </tr>\n",
       "  </tbody>\n",
       "</table>\n",
       "<p>2730 rows × 4 columns</p>\n",
       "</div>"
      ],
      "text/plain": [
       "                    stk_flow     unit       value flag\n",
       "code year   nace_r2                                   \n",
       "AT   2013.0 A_B          EXP  THS_EUR     16173.0     \n",
       "BE   2013.0 A_B          EXP  THS_EUR         NaN    :\n",
       "CZ   2013.0 A_B          EXP  THS_EUR     18035.0     \n",
       "DK   2013.0 A_B          EXP  THS_EUR    215102.0     \n",
       "EE   2013.0 A_B          EXP  THS_EUR      6259.0     \n",
       "...                      ...      ...         ...  ...\n",
       "LU   2019.0 UNK          IMP  THS_EUR         NaN    :\n",
       "NL   2019.0 UNK          IMP  THS_EUR         NaN    :\n",
       "NO   2019.0 UNK          IMP  THS_EUR  21375144.0     \n",
       "PL   2019.0 UNK          IMP  THS_EUR         0.0     \n",
       "SE   2019.0 UNK          IMP  THS_EUR         NaN    :\n",
       "\n",
       "[2730 rows x 4 columns]"
      ]
     },
     "execution_count": 16,
     "metadata": {},
     "output_type": "execute_result"
    }
   ],
   "source": [
    "pt.trade_getter()"
   ]
  },
  {
   "cell_type": "code",
   "execution_count": 18,
   "metadata": {},
   "outputs": [
    {
     "ename": "AttributeError",
     "evalue": "module 'Utilities.preptools' has no attribute 'output_getter'",
     "output_type": "error",
     "traceback": [
      "\u001b[0;31m---------------------------------------------------------------------------\u001b[0m",
      "\u001b[0;31mAttributeError\u001b[0m                            Traceback (most recent call last)",
      "Cell \u001b[0;32mIn[18], line 1\u001b[0m\n\u001b[0;32m----> 1\u001b[0m pt\u001b[39m.\u001b[39;49moutput_getter()\n",
      "\u001b[0;31mAttributeError\u001b[0m: module 'Utilities.preptools' has no attribute 'output_getter'"
     ]
    }
   ],
   "source": [
    "pt.output_getter()"
   ]
  }
 ],
 "metadata": {
  "kernelspec": {
   "display_name": "Python 3",
   "language": "python",
   "name": "python3"
  },
  "language_info": {
   "codemirror_mode": {
    "name": "ipython",
    "version": 3
   },
   "file_extension": ".py",
   "mimetype": "text/x-python",
   "name": "python",
   "nbconvert_exporter": "python",
   "pygments_lexer": "ipython3",
   "version": "3.9.6"
  },
  "orig_nbformat": 4
 },
 "nbformat": 4,
 "nbformat_minor": 2
}
