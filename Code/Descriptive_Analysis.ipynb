{
 "cells": [
  {
   "attachments": {},
   "cell_type": "markdown",
   "metadata": {},
   "source": [
    "## <span style=\"color:#f1c232\">Environment</span>"
   ]
  },
  {
   "cell_type": "code",
   "execution_count": 1,
   "metadata": {},
   "outputs": [],
   "source": [
    "#Packages\n",
    "\n",
    "import random\n",
    "import eurostat\n",
    "import numpy as np\n",
    "import pandas as pd\n",
    "import matplotlib.pyplot as plt\n",
    "import plotly.graph_objects as go\n",
    "from Utilities import preptools as pt\n",
    "\n",
    "pd.options.display.float_format = '{:,.2f}'.format"
   ]
  },
  {
   "cell_type": "code",
   "execution_count": 2,
   "metadata": {},
   "outputs": [],
   "source": [
    "occupation=pd.DataFrame({\n",
    "  'isco08': ['OC0', 'OC1', 'OC1-5', 'OC2', 'OC3', 'OC4', 'OC5', 'OC6', 'OC6-8', 'OC7', 'OC7-9', 'OC8', 'OC9','TOTAL'],\n",
    "  'description': ['Armed forces occupations', 'Managers', 'Non manual workers', 'Professionals', 'Technicians and associate professionals', 'Clerical support workers', 'Service and sales workers', 'Skilled agricultural, forestry and fishery workers', 'Skilled manual workers', 'Craft and related trades workers', 'Manual workers', 'Plant and machine operators and assemblers', 'Elementary occupations','Total']\n",
    "          })\n",
    "sector = pd.DataFrame(eurostat.get_dic(\"LFSA_EISN2\",\"nace_r2\", full=False)\n",
    "                      ,columns=['nace_r2', 'description'])\n"
   ]
  },
  {
   "attachments": {},
   "cell_type": "markdown",
   "metadata": {},
   "source": [
    "---------------------------------------------------------------------------------------------------------------------------------------------------------------------------------"
   ]
  },
  {
   "attachments": {},
   "cell_type": "markdown",
   "metadata": {},
   "source": [
    "### Flag Check"
   ]
  },
  {
   "attachments": {},
   "cell_type": "markdown",
   "metadata": {},
   "source": [
    "For potential problems, it is good to check the data quality prior. Thereby we will import the data including the Flags which are:\n",
    " * b = break in time series, c = confidential, d = definition differs, see metadata, e = estimated, f = forecast, n = not significant, p = provisional, r = revised, s = Eurostat estimate, u = low reliability, z = not applicable.\n",
    "\n",
    "I will check  ***n,p,u*** among these flags for wage and employment data from Eurostat and record it to the data catalog. "
   ]
  },
  {
   "cell_type": "code",
   "execution_count": null,
   "metadata": {},
   "outputs": [
    {
     "data": {
      "text/plain": [
       "geo\\TIME_PERIOD\n",
       "EA12    672\n",
       "EU15    672\n",
       "EU25    672\n",
       "Name: unit, dtype: int64"
      ]
     },
     "metadata": {},
     "output_type": "display_data"
    }
   ],
   "source": [
    "df.query('f == \"s\"').groupby(['geo\\TIME_PERIOD'])['unit'].count()"
   ]
  },
  {
   "cell_type": "code",
   "execution_count": null,
   "metadata": {},
   "outputs": [
    {
     "data": {
      "text/plain": [
       "1800000"
      ]
     },
     "metadata": {},
     "output_type": "display_data"
    }
   ],
   "source": [
    "50*60*60*10"
   ]
  },
  {
   "cell_type": "code",
   "execution_count": null,
   "metadata": {},
   "outputs": [
    {
     "name": "stdout",
     "output_type": "stream",
     "text": [
      " hello 3\n"
     ]
    }
   ],
   "source": []
  },
  {
   "attachments": {},
   "cell_type": "markdown",
   "metadata": {},
   "source": [
    "## <span style=\"color:#f1c232\">Data Gathering and Preperation</span>"
   ]
  },
  {
   "attachments": {},
   "cell_type": "markdown",
   "metadata": {},
   "source": [
    "To understand how service outsourcing affects the distribution of labor earnings, we start our analysis by understanding the service trade picture in Europe. In other words, we need to understand which sectors and countries are importing services relatively more. Afterward, we will be able to have suspects to check how the wages are behaving in these sector-country pairs."
   ]
  },
  {
   "attachments": {},
   "cell_type": "markdown",
   "metadata": {},
   "source": [
    "### <span style=\"color:#909a07\">**Trade in Services**</span>"
   ]
  },
  {
   "cell_type": "code",
   "execution_count": 44,
   "metadata": {},
   "outputs": [
    {
     "data": {
      "text/html": [
       "<div>\n",
       "<style scoped>\n",
       "    .dataframe tbody tr th:only-of-type {\n",
       "        vertical-align: middle;\n",
       "    }\n",
       "\n",
       "    .dataframe tbody tr th {\n",
       "        vertical-align: top;\n",
       "    }\n",
       "\n",
       "    .dataframe thead th {\n",
       "        text-align: right;\n",
       "    }\n",
       "</style>\n",
       "<table border=\"1\" class=\"dataframe\">\n",
       "  <thead>\n",
       "    <tr style=\"text-align: right;\">\n",
       "      <th></th>\n",
       "      <th></th>\n",
       "      <th></th>\n",
       "      <th>stk_flow</th>\n",
       "      <th>unit</th>\n",
       "      <th>value</th>\n",
       "      <th>flag</th>\n",
       "    </tr>\n",
       "    <tr>\n",
       "      <th>code</th>\n",
       "      <th>year</th>\n",
       "      <th>nace_r2</th>\n",
       "      <th></th>\n",
       "      <th></th>\n",
       "      <th></th>\n",
       "      <th></th>\n",
       "    </tr>\n",
       "  </thead>\n",
       "  <tbody>\n",
       "    <tr>\n",
       "      <th>AT</th>\n",
       "      <th>2013</th>\n",
       "      <th>A_B</th>\n",
       "      <td>EXP</td>\n",
       "      <td>THS_EUR</td>\n",
       "      <td>16173.0</td>\n",
       "      <td></td>\n",
       "    </tr>\n",
       "    <tr>\n",
       "      <th>BE</th>\n",
       "      <th>2013</th>\n",
       "      <th>A_B</th>\n",
       "      <td>EXP</td>\n",
       "      <td>THS_EUR</td>\n",
       "      <td>NaN</td>\n",
       "      <td>:</td>\n",
       "    </tr>\n",
       "    <tr>\n",
       "      <th>CZ</th>\n",
       "      <th>2013</th>\n",
       "      <th>A_B</th>\n",
       "      <td>EXP</td>\n",
       "      <td>THS_EUR</td>\n",
       "      <td>18035.0</td>\n",
       "      <td></td>\n",
       "    </tr>\n",
       "    <tr>\n",
       "      <th>DK</th>\n",
       "      <th>2013</th>\n",
       "      <th>A_B</th>\n",
       "      <td>EXP</td>\n",
       "      <td>THS_EUR</td>\n",
       "      <td>215102.0</td>\n",
       "      <td></td>\n",
       "    </tr>\n",
       "    <tr>\n",
       "      <th>EE</th>\n",
       "      <th>2013</th>\n",
       "      <th>A_B</th>\n",
       "      <td>EXP</td>\n",
       "      <td>THS_EUR</td>\n",
       "      <td>6259.0</td>\n",
       "      <td></td>\n",
       "    </tr>\n",
       "    <tr>\n",
       "      <th>...</th>\n",
       "      <th>...</th>\n",
       "      <th>...</th>\n",
       "      <td>...</td>\n",
       "      <td>...</td>\n",
       "      <td>...</td>\n",
       "      <td>...</td>\n",
       "    </tr>\n",
       "    <tr>\n",
       "      <th>LU</th>\n",
       "      <th>2019</th>\n",
       "      <th>UNK</th>\n",
       "      <td>IMP</td>\n",
       "      <td>THS_EUR</td>\n",
       "      <td>NaN</td>\n",
       "      <td>:</td>\n",
       "    </tr>\n",
       "    <tr>\n",
       "      <th>NL</th>\n",
       "      <th>2019</th>\n",
       "      <th>UNK</th>\n",
       "      <td>IMP</td>\n",
       "      <td>THS_EUR</td>\n",
       "      <td>NaN</td>\n",
       "      <td>:</td>\n",
       "    </tr>\n",
       "    <tr>\n",
       "      <th>NO</th>\n",
       "      <th>2019</th>\n",
       "      <th>UNK</th>\n",
       "      <td>IMP</td>\n",
       "      <td>THS_EUR</td>\n",
       "      <td>21375144.0</td>\n",
       "      <td></td>\n",
       "    </tr>\n",
       "    <tr>\n",
       "      <th>PL</th>\n",
       "      <th>2019</th>\n",
       "      <th>UNK</th>\n",
       "      <td>IMP</td>\n",
       "      <td>THS_EUR</td>\n",
       "      <td>0.0</td>\n",
       "      <td></td>\n",
       "    </tr>\n",
       "    <tr>\n",
       "      <th>SE</th>\n",
       "      <th>2019</th>\n",
       "      <th>UNK</th>\n",
       "      <td>IMP</td>\n",
       "      <td>THS_EUR</td>\n",
       "      <td>NaN</td>\n",
       "      <td>:</td>\n",
       "    </tr>\n",
       "  </tbody>\n",
       "</table>\n",
       "<p>2730 rows × 4 columns</p>\n",
       "</div>"
      ],
      "text/plain": [
       "                  stk_flow     unit       value flag\n",
       "code year nace_r2                                   \n",
       "AT   2013 A_B          EXP  THS_EUR     16173.0     \n",
       "BE   2013 A_B          EXP  THS_EUR         NaN    :\n",
       "CZ   2013 A_B          EXP  THS_EUR     18035.0     \n",
       "DK   2013 A_B          EXP  THS_EUR    215102.0     \n",
       "EE   2013 A_B          EXP  THS_EUR      6259.0     \n",
       "...                    ...      ...         ...  ...\n",
       "LU   2019 UNK          IMP  THS_EUR         NaN    :\n",
       "NL   2019 UNK          IMP  THS_EUR         NaN    :\n",
       "NO   2019 UNK          IMP  THS_EUR  21375144.0     \n",
       "PL   2019 UNK          IMP  THS_EUR         0.0     \n",
       "SE   2019 UNK          IMP  THS_EUR         NaN    :\n",
       "\n",
       "[2730 rows x 4 columns]"
      ]
     },
     "execution_count": 44,
     "metadata": {},
     "output_type": "execute_result"
    }
   ],
   "source": [
    "trade=pt.trade_getter()\n",
    "trade"
   ]
  },
  {
   "cell_type": "code",
   "execution_count": 45,
   "metadata": {},
   "outputs": [
    {
     "data": {
      "text/plain": [
       "array(['A_B', 'C', 'D_E', 'F', 'G', 'H', 'I_L_O-U', 'J', 'K', 'M', 'N',\n",
       "       'TOTAL', 'UNK'], dtype=object)"
      ]
     },
     "execution_count": 45,
     "metadata": {},
     "output_type": "execute_result"
    }
   ],
   "source": [
    "trade.reset_index().nace_r2.unique()"
   ]
  },
  {
   "cell_type": "code",
   "execution_count": 46,
   "metadata": {},
   "outputs": [
    {
     "data": {
      "text/html": [
       "<div>\n",
       "<style scoped>\n",
       "    .dataframe tbody tr th:only-of-type {\n",
       "        vertical-align: middle;\n",
       "    }\n",
       "\n",
       "    .dataframe tbody tr th {\n",
       "        vertical-align: top;\n",
       "    }\n",
       "\n",
       "    .dataframe thead th {\n",
       "        text-align: right;\n",
       "    }\n",
       "</style>\n",
       "<table border=\"1\" class=\"dataframe\">\n",
       "  <thead>\n",
       "    <tr style=\"text-align: right;\">\n",
       "      <th></th>\n",
       "      <th></th>\n",
       "      <th></th>\n",
       "      <th>unit</th>\n",
       "      <th>value</th>\n",
       "      <th>flag</th>\n",
       "    </tr>\n",
       "    <tr>\n",
       "      <th>code</th>\n",
       "      <th>year</th>\n",
       "      <th>nace_r2</th>\n",
       "      <th></th>\n",
       "      <th></th>\n",
       "      <th></th>\n",
       "    </tr>\n",
       "  </thead>\n",
       "  <tbody>\n",
       "    <tr>\n",
       "      <th>AT</th>\n",
       "      <th>2013</th>\n",
       "      <th>A_B</th>\n",
       "      <td>THS_EUR</td>\n",
       "      <td>80303.0</td>\n",
       "      <td></td>\n",
       "    </tr>\n",
       "    <tr>\n",
       "      <th>BE</th>\n",
       "      <th>2013</th>\n",
       "      <th>A_B</th>\n",
       "      <td>THS_EUR</td>\n",
       "      <td>NaN</td>\n",
       "      <td>:</td>\n",
       "    </tr>\n",
       "    <tr>\n",
       "      <th>CZ</th>\n",
       "      <th>2013</th>\n",
       "      <th>A_B</th>\n",
       "      <td>THS_EUR</td>\n",
       "      <td>47656.0</td>\n",
       "      <td></td>\n",
       "    </tr>\n",
       "    <tr>\n",
       "      <th>DK</th>\n",
       "      <th>2013</th>\n",
       "      <th>A_B</th>\n",
       "      <td>THS_EUR</td>\n",
       "      <td>753079.0</td>\n",
       "      <td></td>\n",
       "    </tr>\n",
       "    <tr>\n",
       "      <th>EE</th>\n",
       "      <th>2013</th>\n",
       "      <th>A_B</th>\n",
       "      <td>THS_EUR</td>\n",
       "      <td>25356.0</td>\n",
       "      <td></td>\n",
       "    </tr>\n",
       "    <tr>\n",
       "      <th>...</th>\n",
       "      <th>...</th>\n",
       "      <th>...</th>\n",
       "      <td>...</td>\n",
       "      <td>...</td>\n",
       "      <td>...</td>\n",
       "    </tr>\n",
       "    <tr>\n",
       "      <th>LU</th>\n",
       "      <th>2019</th>\n",
       "      <th>UNK</th>\n",
       "      <td>THS_EUR</td>\n",
       "      <td>NaN</td>\n",
       "      <td>:</td>\n",
       "    </tr>\n",
       "    <tr>\n",
       "      <th>NL</th>\n",
       "      <th>2019</th>\n",
       "      <th>UNK</th>\n",
       "      <td>THS_EUR</td>\n",
       "      <td>NaN</td>\n",
       "      <td>:</td>\n",
       "    </tr>\n",
       "    <tr>\n",
       "      <th>NO</th>\n",
       "      <th>2019</th>\n",
       "      <th>UNK</th>\n",
       "      <td>THS_EUR</td>\n",
       "      <td>21375144.0</td>\n",
       "      <td></td>\n",
       "    </tr>\n",
       "    <tr>\n",
       "      <th>PL</th>\n",
       "      <th>2019</th>\n",
       "      <th>UNK</th>\n",
       "      <td>THS_EUR</td>\n",
       "      <td>0.0</td>\n",
       "      <td></td>\n",
       "    </tr>\n",
       "    <tr>\n",
       "      <th>SE</th>\n",
       "      <th>2019</th>\n",
       "      <th>UNK</th>\n",
       "      <td>THS_EUR</td>\n",
       "      <td>NaN</td>\n",
       "      <td>:</td>\n",
       "    </tr>\n",
       "  </tbody>\n",
       "</table>\n",
       "<p>1365 rows × 3 columns</p>\n",
       "</div>"
      ],
      "text/plain": [
       "                      unit       value flag\n",
       "code year nace_r2                          \n",
       "AT   2013 A_B      THS_EUR     80303.0     \n",
       "BE   2013 A_B      THS_EUR         NaN    :\n",
       "CZ   2013 A_B      THS_EUR     47656.0     \n",
       "DK   2013 A_B      THS_EUR    753079.0     \n",
       "EE   2013 A_B      THS_EUR     25356.0     \n",
       "...                    ...         ...  ...\n",
       "LU   2019 UNK      THS_EUR         NaN    :\n",
       "NL   2019 UNK      THS_EUR         NaN    :\n",
       "NO   2019 UNK      THS_EUR  21375144.0     \n",
       "PL   2019 UNK      THS_EUR         0.0     \n",
       "SE   2019 UNK      THS_EUR         NaN    :\n",
       "\n",
       "[1365 rows x 3 columns]"
      ]
     },
     "execution_count": 46,
     "metadata": {},
     "output_type": "execute_result"
    }
   ],
   "source": [
    "trade=trade[(trade.stk_flow=='IMP')].drop(columns=['stk_flow'], axis=1)\n",
    "trade"
   ]
  },
  {
   "cell_type": "code",
   "execution_count": 6,
   "metadata": {},
   "outputs": [
    {
     "data": {
      "text/plain": [
       "[('TOTAL', 'Total - all NACE activities'),\n",
       " ('A_B', 'Agriculture, forestry and fishing; mining and quarrying'),\n",
       " ('C', 'Manufacturing'),\n",
       " ('D_E',\n",
       "  'Electricity, gas, steam and air conditioning supply; water supply; sewerage, waste management and remediation activities'),\n",
       " ('F', 'Construction'),\n",
       " ('G', 'Wholesale and retail trade; repair of motor vehicles and motorcycles'),\n",
       " ('H', 'Transportation and storage'),\n",
       " ('I_L_O-U',\n",
       "  'Accommodation and food service activities; real estate activities; public administration, defence; compulsory social security; education; human health and social work activities; other services'),\n",
       " ('J', 'Information and communication'),\n",
       " ('K', 'Financial and insurance activities'),\n",
       " ('M', 'Professional, scientific and technical activities'),\n",
       " ('N', 'Administrative and support service activities'),\n",
       " ('UNK', 'Unknown NACE activity')]"
      ]
     },
     "execution_count": 6,
     "metadata": {},
     "output_type": "execute_result"
    }
   ],
   "source": [
    "eurostat.get_dic('EXT_STEC01','nace_r2', full=False)"
   ]
  },
  {
   "attachments": {},
   "cell_type": "markdown",
   "metadata": {},
   "source": [
    "### <span style=\"color:#909a07\">**Output**</span>"
   ]
  },
  {
   "cell_type": "code",
   "execution_count": 52,
   "metadata": {},
   "outputs": [
    {
     "data": {
      "text/html": [
       "<div>\n",
       "<style scoped>\n",
       "    .dataframe tbody tr th:only-of-type {\n",
       "        vertical-align: middle;\n",
       "    }\n",
       "\n",
       "    .dataframe tbody tr th {\n",
       "        vertical-align: top;\n",
       "    }\n",
       "\n",
       "    .dataframe thead th {\n",
       "        text-align: right;\n",
       "    }\n",
       "</style>\n",
       "<table border=\"1\" class=\"dataframe\">\n",
       "  <thead>\n",
       "    <tr style=\"text-align: right;\">\n",
       "      <th></th>\n",
       "      <th></th>\n",
       "      <th></th>\n",
       "      <th>unit</th>\n",
       "      <th>value</th>\n",
       "      <th>flag</th>\n",
       "    </tr>\n",
       "    <tr>\n",
       "      <th>code</th>\n",
       "      <th>nace_r2</th>\n",
       "      <th>year</th>\n",
       "      <th></th>\n",
       "      <th></th>\n",
       "      <th></th>\n",
       "    </tr>\n",
       "  </thead>\n",
       "  <tbody>\n",
       "    <tr>\n",
       "      <th>AL</th>\n",
       "      <th>A</th>\n",
       "      <th>2002</th>\n",
       "      <td>CP_MEUR</td>\n",
       "      <td>1015.9</td>\n",
       "      <td></td>\n",
       "    </tr>\n",
       "    <tr>\n",
       "      <th>AT</th>\n",
       "      <th>A</th>\n",
       "      <th>2002</th>\n",
       "      <td>CP_MEUR</td>\n",
       "      <td>3543.4</td>\n",
       "      <td></td>\n",
       "    </tr>\n",
       "    <tr>\n",
       "      <th>BA</th>\n",
       "      <th>A</th>\n",
       "      <th>2002</th>\n",
       "      <td>CP_MEUR</td>\n",
       "      <td>634.4</td>\n",
       "      <td></td>\n",
       "    </tr>\n",
       "    <tr>\n",
       "      <th>BE</th>\n",
       "      <th>A</th>\n",
       "      <th>2002</th>\n",
       "      <td>CP_MEUR</td>\n",
       "      <td>2823.1</td>\n",
       "      <td></td>\n",
       "    </tr>\n",
       "    <tr>\n",
       "      <th>BG</th>\n",
       "      <th>A</th>\n",
       "      <th>2002</th>\n",
       "      <td>CP_MEUR</td>\n",
       "      <td>1697.2</td>\n",
       "      <td></td>\n",
       "    </tr>\n",
       "    <tr>\n",
       "      <th>...</th>\n",
       "      <th>...</th>\n",
       "      <th>...</th>\n",
       "      <td>...</td>\n",
       "      <td>...</td>\n",
       "      <td>...</td>\n",
       "    </tr>\n",
       "    <tr>\n",
       "      <th>RO</th>\n",
       "      <th>U</th>\n",
       "      <th>2018</th>\n",
       "      <td>CP_MEUR</td>\n",
       "      <td>0.0</td>\n",
       "      <td></td>\n",
       "    </tr>\n",
       "    <tr>\n",
       "      <th>RS</th>\n",
       "      <th>U</th>\n",
       "      <th>2018</th>\n",
       "      <td>CP_MEUR</td>\n",
       "      <td>NaN</td>\n",
       "      <td>:</td>\n",
       "    </tr>\n",
       "    <tr>\n",
       "      <th>SE</th>\n",
       "      <th>U</th>\n",
       "      <th>2018</th>\n",
       "      <td>CP_MEUR</td>\n",
       "      <td>0.0</td>\n",
       "      <td></td>\n",
       "    </tr>\n",
       "    <tr>\n",
       "      <th>SI</th>\n",
       "      <th>U</th>\n",
       "      <th>2018</th>\n",
       "      <td>CP_MEUR</td>\n",
       "      <td>0.0</td>\n",
       "      <td></td>\n",
       "    </tr>\n",
       "    <tr>\n",
       "      <th>SK</th>\n",
       "      <th>U</th>\n",
       "      <th>2018</th>\n",
       "      <td>CP_MEUR</td>\n",
       "      <td>0.0</td>\n",
       "      <td></td>\n",
       "    </tr>\n",
       "  </tbody>\n",
       "</table>\n",
       "<p>65926 rows × 3 columns</p>\n",
       "</div>"
      ],
      "text/plain": [
       "                      unit   value flag\n",
       "code nace_r2 year                      \n",
       "AL   A       2002  CP_MEUR  1015.9     \n",
       "AT   A       2002  CP_MEUR  3543.4     \n",
       "BA   A       2002  CP_MEUR   634.4     \n",
       "BE   A       2002  CP_MEUR  2823.1     \n",
       "BG   A       2002  CP_MEUR  1697.2     \n",
       "...                    ...     ...  ...\n",
       "RO   U       2018  CP_MEUR     0.0     \n",
       "RS   U       2018  CP_MEUR     NaN    :\n",
       "SE   U       2018  CP_MEUR     0.0     \n",
       "SI   U       2018  CP_MEUR     0.0     \n",
       "SK   U       2018  CP_MEUR     0.0     \n",
       "\n",
       "[65926 rows x 3 columns]"
      ]
     },
     "execution_count": 52,
     "metadata": {},
     "output_type": "execute_result"
    }
   ],
   "source": [
    "output=pt.output_getter()\n",
    "output"
   ]
  },
  {
   "cell_type": "code",
   "execution_count": 8,
   "metadata": {},
   "outputs": [
    {
     "data": {
      "text/html": [
       "<div>\n",
       "<style scoped>\n",
       "    .dataframe tbody tr th:only-of-type {\n",
       "        vertical-align: middle;\n",
       "    }\n",
       "\n",
       "    .dataframe tbody tr th {\n",
       "        vertical-align: top;\n",
       "    }\n",
       "\n",
       "    .dataframe thead th {\n",
       "        text-align: right;\n",
       "    }\n",
       "</style>\n",
       "<table border=\"1\" class=\"dataframe\">\n",
       "  <thead>\n",
       "    <tr style=\"text-align: right;\">\n",
       "      <th></th>\n",
       "      <th>unit</th>\n",
       "      <th>value</th>\n",
       "      <th>flag</th>\n",
       "    </tr>\n",
       "    <tr>\n",
       "      <th>nace_r2</th>\n",
       "      <th></th>\n",
       "      <th></th>\n",
       "      <th></th>\n",
       "    </tr>\n",
       "  </thead>\n",
       "  <tbody>\n",
       "    <tr>\n",
       "      <th>A</th>\n",
       "      <td>CP_MEUR</td>\n",
       "      <td>10412.0</td>\n",
       "      <td></td>\n",
       "    </tr>\n",
       "    <tr>\n",
       "      <th>A01</th>\n",
       "      <td>CP_MEUR</td>\n",
       "      <td>9969.0</td>\n",
       "      <td></td>\n",
       "    </tr>\n",
       "    <tr>\n",
       "      <th>A02</th>\n",
       "      <td>CP_MEUR</td>\n",
       "      <td>86.0</td>\n",
       "      <td></td>\n",
       "    </tr>\n",
       "    <tr>\n",
       "      <th>A03</th>\n",
       "      <td>CP_MEUR</td>\n",
       "      <td>357.0</td>\n",
       "      <td></td>\n",
       "    </tr>\n",
       "    <tr>\n",
       "      <th>B</th>\n",
       "      <td>CP_MEUR</td>\n",
       "      <td>10576.0</td>\n",
       "      <td></td>\n",
       "    </tr>\n",
       "    <tr>\n",
       "      <th>...</th>\n",
       "      <td>...</td>\n",
       "      <td>...</td>\n",
       "      <td>...</td>\n",
       "    </tr>\n",
       "    <tr>\n",
       "      <th>S94</th>\n",
       "      <td>CP_MEUR</td>\n",
       "      <td>2710.0</td>\n",
       "      <td></td>\n",
       "    </tr>\n",
       "    <tr>\n",
       "      <th>S95</th>\n",
       "      <td>CP_MEUR</td>\n",
       "      <td>322.0</td>\n",
       "      <td></td>\n",
       "    </tr>\n",
       "    <tr>\n",
       "      <th>S96</th>\n",
       "      <td>CP_MEUR</td>\n",
       "      <td>2609.0</td>\n",
       "      <td></td>\n",
       "    </tr>\n",
       "    <tr>\n",
       "      <th>T</th>\n",
       "      <td>CP_MEUR</td>\n",
       "      <td>115.0</td>\n",
       "      <td></td>\n",
       "    </tr>\n",
       "    <tr>\n",
       "      <th>TOTAL</th>\n",
       "      <td>CP_MEUR</td>\n",
       "      <td>448394.0</td>\n",
       "      <td></td>\n",
       "    </tr>\n",
       "  </tbody>\n",
       "</table>\n",
       "<p>90 rows × 3 columns</p>\n",
       "</div>"
      ],
      "text/plain": [
       "            unit     value flag\n",
       "nace_r2                        \n",
       "A        CP_MEUR   10412.0     \n",
       "A01      CP_MEUR    9969.0     \n",
       "A02      CP_MEUR      86.0     \n",
       "A03      CP_MEUR     357.0     \n",
       "B        CP_MEUR   10576.0     \n",
       "...          ...       ...  ...\n",
       "S94      CP_MEUR    2710.0     \n",
       "S95      CP_MEUR     322.0     \n",
       "S96      CP_MEUR    2609.0     \n",
       "T        CP_MEUR     115.0     \n",
       "TOTAL    CP_MEUR  448394.0     \n",
       "\n",
       "[90 rows x 3 columns]"
      ]
     },
     "execution_count": 8,
     "metadata": {},
     "output_type": "execute_result"
    }
   ],
   "source": [
    "output.loc['NL',:,2002]"
   ]
  },
  {
   "cell_type": "code",
   "execution_count": 10,
   "metadata": {},
   "outputs": [],
   "source": [
    "df1=output.loc[:,['A','B'],:].groupby(['code','year','unit']).sum().assign(nace_r2='A_B').reset_index().set_index(['code','nace_r2','year'])\n",
    "df2=output.loc[:,['D','E'],:].groupby(['code','year','unit']).sum().assign(nace_r2='D_E').reset_index().set_index(['code','nace_r2','year'])\n",
    "df3=output.loc[:,['I','L','O','U'],:].groupby(['code','year','unit']).sum().assign(nace_r2='I_L_O-U').reset_index().set_index(['code','nace_r2','year'])\n",
    "output=pd.concat([output,df1,df2,df3])\n",
    "output=output.loc[:,['A_B', 'C', 'D_E', 'F', 'G', 'H', 'I_L_O-U', 'J', 'K', 'M', 'N','TOTAL'],:]\n",
    "#df4.loc['CZ',2002,['A_B','D_E','I_L_O-U']]\n",
    "del df1, df2, df3"
   ]
  },
  {
   "cell_type": "code",
   "execution_count": 11,
   "metadata": {},
   "outputs": [
    {
     "data": {
      "text/plain": [
       "array(['A_B', 'C', 'D_E', 'F', 'G', 'H', 'I_L_O-U', 'J', 'K', 'M', 'N',\n",
       "       'TOTAL'], dtype=object)"
      ]
     },
     "execution_count": 11,
     "metadata": {},
     "output_type": "execute_result"
    }
   ],
   "source": [
    "output.reset_index().nace_r2.unique()"
   ]
  },
  {
   "cell_type": "code",
   "execution_count": 12,
   "metadata": {},
   "outputs": [
    {
     "data": {
      "text/html": [
       "<div>\n",
       "<style scoped>\n",
       "    .dataframe tbody tr th:only-of-type {\n",
       "        vertical-align: middle;\n",
       "    }\n",
       "\n",
       "    .dataframe tbody tr th {\n",
       "        vertical-align: top;\n",
       "    }\n",
       "\n",
       "    .dataframe thead th {\n",
       "        text-align: right;\n",
       "    }\n",
       "</style>\n",
       "<table border=\"1\" class=\"dataframe\">\n",
       "  <thead>\n",
       "    <tr style=\"text-align: right;\">\n",
       "      <th></th>\n",
       "      <th></th>\n",
       "      <th></th>\n",
       "      <th>unit</th>\n",
       "      <th>value</th>\n",
       "      <th>flag</th>\n",
       "    </tr>\n",
       "    <tr>\n",
       "      <th>code</th>\n",
       "      <th>nace_r2</th>\n",
       "      <th>year</th>\n",
       "      <th></th>\n",
       "      <th></th>\n",
       "      <th></th>\n",
       "    </tr>\n",
       "  </thead>\n",
       "  <tbody>\n",
       "    <tr>\n",
       "      <th rowspan=\"5\" valign=\"top\">AL</th>\n",
       "      <th rowspan=\"5\" valign=\"top\">A_B</th>\n",
       "      <th>2002</th>\n",
       "      <td>CP_MEURCP_MEUR</td>\n",
       "      <td>1054.6</td>\n",
       "      <td></td>\n",
       "    </tr>\n",
       "    <tr>\n",
       "      <th>2003</th>\n",
       "      <td>CP_MEURCP_MEUR</td>\n",
       "      <td>1117.3</td>\n",
       "      <td></td>\n",
       "    </tr>\n",
       "    <tr>\n",
       "      <th>2004</th>\n",
       "      <td>CP_MEURCP_MEUR</td>\n",
       "      <td>1235.5</td>\n",
       "      <td></td>\n",
       "    </tr>\n",
       "    <tr>\n",
       "      <th>2005</th>\n",
       "      <td>CP_MEURCP_MEUR</td>\n",
       "      <td>1310.5</td>\n",
       "      <td></td>\n",
       "    </tr>\n",
       "    <tr>\n",
       "      <th>2006</th>\n",
       "      <td>CP_MEURCP_MEUR</td>\n",
       "      <td>1347.9</td>\n",
       "      <td></td>\n",
       "    </tr>\n",
       "    <tr>\n",
       "      <th>...</th>\n",
       "      <th>...</th>\n",
       "      <th>...</th>\n",
       "      <td>...</td>\n",
       "      <td>...</td>\n",
       "      <td>...</td>\n",
       "    </tr>\n",
       "    <tr>\n",
       "      <th>SE</th>\n",
       "      <th>TOTAL</th>\n",
       "      <th>2018</th>\n",
       "      <td>CP_MEUR</td>\n",
       "      <td>417117.7</td>\n",
       "      <td></td>\n",
       "    </tr>\n",
       "    <tr>\n",
       "      <th>SI</th>\n",
       "      <th>TOTAL</th>\n",
       "      <th>2018</th>\n",
       "      <td>CP_MEUR</td>\n",
       "      <td>39961.4</td>\n",
       "      <td></td>\n",
       "    </tr>\n",
       "    <tr>\n",
       "      <th>SK</th>\n",
       "      <th>TOTAL</th>\n",
       "      <th>2018</th>\n",
       "      <td>CP_MEUR</td>\n",
       "      <td>80517.3</td>\n",
       "      <td></td>\n",
       "    </tr>\n",
       "    <tr>\n",
       "      <th>TR</th>\n",
       "      <th>TOTAL</th>\n",
       "      <th>2018</th>\n",
       "      <td>CP_MEUR</td>\n",
       "      <td>590360.2</td>\n",
       "      <td></td>\n",
       "    </tr>\n",
       "    <tr>\n",
       "      <th>UK</th>\n",
       "      <th>TOTAL</th>\n",
       "      <th>2018</th>\n",
       "      <td>CP_MEUR</td>\n",
       "      <td>2159178.7</td>\n",
       "      <td></td>\n",
       "    </tr>\n",
       "  </tbody>\n",
       "</table>\n",
       "<p>8976 rows × 3 columns</p>\n",
       "</div>"
      ],
      "text/plain": [
       "                             unit      value flag\n",
       "code nace_r2 year                                \n",
       "AL   A_B     2002  CP_MEURCP_MEUR     1054.6     \n",
       "             2003  CP_MEURCP_MEUR     1117.3     \n",
       "             2004  CP_MEURCP_MEUR     1235.5     \n",
       "             2005  CP_MEURCP_MEUR     1310.5     \n",
       "             2006  CP_MEURCP_MEUR     1347.9     \n",
       "...                           ...        ...  ...\n",
       "SE   TOTAL   2018         CP_MEUR   417117.7     \n",
       "SI   TOTAL   2018         CP_MEUR    39961.4     \n",
       "SK   TOTAL   2018         CP_MEUR    80517.3     \n",
       "TR   TOTAL   2018         CP_MEUR   590360.2     \n",
       "UK   TOTAL   2018         CP_MEUR  2159178.7     \n",
       "\n",
       "[8976 rows x 3 columns]"
      ]
     },
     "execution_count": 12,
     "metadata": {},
     "output_type": "execute_result"
    }
   ],
   "source": [
    "output"
   ]
  },
  {
   "attachments": {},
   "cell_type": "markdown",
   "metadata": {},
   "source": [
    "## <span style=\"color:#f1c232\">Data Analysis</span>"
   ]
  },
  {
   "attachments": {},
   "cell_type": "markdown",
   "metadata": {},
   "source": [
    "Before carrying on the analysis of earning inequality among different occupations it would be practical to provide some theoretical foundation that will be complementary to this Analysis.\n",
    "</br>\n",
    "\n",
    "The framework (or model) that this research aims is to describe the patterns in the distribution of earnings among different types of labor employed in the economy. Different rationales have been proposed and examined by the economist _(refer _to _Literature__ Review)_ to explain the wage differences among different employees and the change in this inequality. Though in this research I will be focusing on two factors namely: **skill-biased-technical-change** and **Offshoring**. Surely both parts of the study will be analyzing both of these factors. Though, while the theoretical part of this thesis will relatively focus more on technical change and task-technology structure leading to the  *(occupations)* wage disparity, offshoring will be under the spotlight in the descriptive studies. \n",
    "\n",
    "Moreover, since the analysis *(and the theory as well)* is focusing mainly on human *(labor)* activity, it is quite beneficial *(simple)* to approach the production process *(function)* in the economy as an aggregation of human activity *(Tasks)*. This is an important perspective that will affect the course of this descriptive study as well. since the theory is founded on the task, it will be more convenient to study the service trade as an empirical reflection of trade in tasks. Even though trade in tasks is hidden in the trade of goods as well, for practical reasons and the scope of this study, the descriptive analysis will be focusing on trade in services.\n",
    "\n",
    "Lastly employment-wages-\n",
    "\n",
    "\n",
    "\n",
    "\n",
    "\n",
    "For this analysis document, no further theoretical explanation is required.\n",
    "</br>\n",
    "\n",
    "\n",
    "\n",
    "\n"
   ]
  },
  {
   "attachments": {},
   "cell_type": "markdown",
   "metadata": {},
   "source": [
    "In the data analysis part we will start by doing two simple descriptive analyses on:\n",
    "\n",
    "1. Employment and wages\n",
    "2. Search for the effect of Offshoring\n",
    "3. Search for the effect of SBTC"
   ]
  },
  {
   "attachments": {},
   "cell_type": "markdown",
   "metadata": {},
   "source": [
    "### <span style=\"color:#909a07\">**Employment**</span>"
   ]
  },
  {
   "attachments": {},
   "cell_type": "markdown",
   "metadata": {},
   "source": [
    "Since the analysis is mainly about the labor activities in the economy, it would be proper and virtuous to initiate the analysis by understanding the demographics of occupations in different countries and sectors. \n",
    "As mentioned in the literature on the labor market and earning inequalities had relied on definitions of different skill characteristics for the labor force (low, middle and high skills or a continuum of skills) and, more recently, definitions of different task characteristics in the production process such as routine, manual and abstract tasks. \n",
    "However, the analysis that we will be examining in this research will be focusing on occupation as the characteristic to evaluate. This focus of ours emerges a need to relate the tasks and skills structure that had been applied with the concept of occupation in our analysis.\n",
    "To get a simple and theoretically applicable insight into the occupational earning patterns in Europe we will need to check some descriptive statistics answering the following questions:\n",
    "* What are the percentages of different occupations in each sector?\n",
    "* Can those occupations employed in the sectors be clustered in formerly mentioned classification categories?\n",
    "* What are the trends in the occupational labor supply Aggregately in Europe in the last 20 years?\n",
    "* Which sectors share a common occupation are they paying similar wages, what can be the theoretical understanding that can be derived from this wage (dis)parity? \n",
    "\n"
   ]
  },
  {
   "cell_type": "code",
   "execution_count": 3,
   "metadata": {},
   "outputs": [
    {
     "data": {
      "text/html": [
       "<div>\n",
       "<style scoped>\n",
       "    .dataframe tbody tr th:only-of-type {\n",
       "        vertical-align: middle;\n",
       "    }\n",
       "\n",
       "    .dataframe tbody tr th {\n",
       "        vertical-align: top;\n",
       "    }\n",
       "\n",
       "    .dataframe thead th {\n",
       "        text-align: right;\n",
       "    }\n",
       "</style>\n",
       "<table border=\"1\" class=\"dataframe\">\n",
       "  <thead>\n",
       "    <tr style=\"text-align: right;\">\n",
       "      <th></th>\n",
       "      <th></th>\n",
       "      <th></th>\n",
       "      <th>isco08</th>\n",
       "      <th>unit</th>\n",
       "      <th>value</th>\n",
       "      <th>flag</th>\n",
       "    </tr>\n",
       "    <tr>\n",
       "      <th>code</th>\n",
       "      <th>nace_r2</th>\n",
       "      <th>year</th>\n",
       "      <th></th>\n",
       "      <th></th>\n",
       "      <th></th>\n",
       "      <th></th>\n",
       "    </tr>\n",
       "  </thead>\n",
       "  <tbody>\n",
       "    <tr>\n",
       "      <th>CH</th>\n",
       "      <th>A</th>\n",
       "      <th>2008</th>\n",
       "      <td>NRP</td>\n",
       "      <td>THS_PER</td>\n",
       "      <td>NaN</td>\n",
       "      <td>: bu</td>\n",
       "    </tr>\n",
       "    <tr>\n",
       "      <th>DE</th>\n",
       "      <th>A</th>\n",
       "      <th>2008</th>\n",
       "      <td>NRP</td>\n",
       "      <td>THS_PER</td>\n",
       "      <td>NaN</td>\n",
       "      <td>: bu</td>\n",
       "    </tr>\n",
       "    <tr>\n",
       "      <th>DK</th>\n",
       "      <th>A</th>\n",
       "      <th>2008</th>\n",
       "      <td>NRP</td>\n",
       "      <td>THS_PER</td>\n",
       "      <td>NaN</td>\n",
       "      <td>:</td>\n",
       "    </tr>\n",
       "    <tr>\n",
       "      <th>EA20</th>\n",
       "      <th>A</th>\n",
       "      <th>2008</th>\n",
       "      <td>NRP</td>\n",
       "      <td>THS_PER</td>\n",
       "      <td>NaN</td>\n",
       "      <td>: bu</td>\n",
       "    </tr>\n",
       "    <tr>\n",
       "      <th>EU27_2020</th>\n",
       "      <th>A</th>\n",
       "      <th>2008</th>\n",
       "      <td>NRP</td>\n",
       "      <td>THS_PER</td>\n",
       "      <td>NaN</td>\n",
       "      <td>: bu</td>\n",
       "    </tr>\n",
       "    <tr>\n",
       "      <th>...</th>\n",
       "      <th>...</th>\n",
       "      <th>...</th>\n",
       "      <td>...</td>\n",
       "      <td>...</td>\n",
       "      <td>...</td>\n",
       "      <td>...</td>\n",
       "    </tr>\n",
       "    <tr>\n",
       "      <th>SE</th>\n",
       "      <th>U</th>\n",
       "      <th>2022</th>\n",
       "      <td>TOTAL</td>\n",
       "      <td>THS_PER</td>\n",
       "      <td>NaN</td>\n",
       "      <td>: u</td>\n",
       "    </tr>\n",
       "    <tr>\n",
       "      <th>SI</th>\n",
       "      <th>U</th>\n",
       "      <th>2022</th>\n",
       "      <td>TOTAL</td>\n",
       "      <td>THS_PER</td>\n",
       "      <td>NaN</td>\n",
       "      <td>: u</td>\n",
       "    </tr>\n",
       "    <tr>\n",
       "      <th>SK</th>\n",
       "      <th>U</th>\n",
       "      <th>2022</th>\n",
       "      <td>TOTAL</td>\n",
       "      <td>THS_PER</td>\n",
       "      <td>NaN</td>\n",
       "      <td>: u</td>\n",
       "    </tr>\n",
       "    <tr>\n",
       "      <th>TR</th>\n",
       "      <th>U</th>\n",
       "      <th>2022</th>\n",
       "      <td>TOTAL</td>\n",
       "      <td>THS_PER</td>\n",
       "      <td>NaN</td>\n",
       "      <td>:</td>\n",
       "    </tr>\n",
       "    <tr>\n",
       "      <th>UK</th>\n",
       "      <th>U</th>\n",
       "      <th>2022</th>\n",
       "      <td>TOTAL</td>\n",
       "      <td>THS_PER</td>\n",
       "      <td>NaN</td>\n",
       "      <td>:</td>\n",
       "    </tr>\n",
       "  </tbody>\n",
       "</table>\n",
       "<p>136200 rows × 4 columns</p>\n",
       "</div>"
      ],
      "text/plain": [
       "                       isco08     unit  value  flag\n",
       "code      nace_r2 year                             \n",
       "CH        A       2008    NRP  THS_PER    NaN  : bu\n",
       "DE        A       2008    NRP  THS_PER    NaN  : bu\n",
       "DK        A       2008    NRP  THS_PER    NaN     :\n",
       "EA20      A       2008    NRP  THS_PER    NaN  : bu\n",
       "EU27_2020 A       2008    NRP  THS_PER    NaN  : bu\n",
       "...                       ...      ...    ...   ...\n",
       "SE        U       2022  TOTAL  THS_PER    NaN   : u\n",
       "SI        U       2022  TOTAL  THS_PER    NaN   : u\n",
       "SK        U       2022  TOTAL  THS_PER    NaN   : u\n",
       "TR        U       2022  TOTAL  THS_PER    NaN     :\n",
       "UK        U       2022  TOTAL  THS_PER    NaN     :\n",
       "\n",
       "[136200 rows x 4 columns]"
      ]
     },
     "execution_count": 3,
     "metadata": {},
     "output_type": "execute_result"
    }
   ],
   "source": [
    "\n",
    "emp=pt.lsupply_getter()\n",
    "emp"
   ]
  },
  {
   "cell_type": "code",
   "execution_count": 7,
   "metadata": {},
   "outputs": [
    {
     "data": {
      "text/plain": [
       "array([2008, 2009, 2010, 2011, 2012, 2013, 2014, 2015, 2016, 2017, 2018,\n",
       "       2019, 2020, 2021, 2022])"
      ]
     },
     "execution_count": 7,
     "metadata": {},
     "output_type": "execute_result"
    }
   ],
   "source": [
    "emp.loc['EU27_2020',:,:].reset_index().year.unique()"
   ]
  },
  {
   "attachments": {},
   "cell_type": "markdown",
   "metadata": {},
   "source": [
    "### Occupational Distribution\n",
    "\n",
    "\n",
    "We will remove NRP,OC0, TOTAL"
   ]
  },
  {
   "cell_type": "code",
   "execution_count": 41,
   "metadata": {},
   "outputs": [],
   "source": [
    "try:\n",
    "    del df,fig\n",
    "except:\n",
    "    pass"
   ]
  },
  {
   "cell_type": "code",
   "execution_count": 42,
   "metadata": {},
   "outputs": [
    {
     "data": {
      "text/html": [
       "<div>\n",
       "<style scoped>\n",
       "    .dataframe tbody tr th:only-of-type {\n",
       "        vertical-align: middle;\n",
       "    }\n",
       "\n",
       "    .dataframe tbody tr th {\n",
       "        vertical-align: top;\n",
       "    }\n",
       "\n",
       "    .dataframe thead th {\n",
       "        text-align: right;\n",
       "    }\n",
       "</style>\n",
       "<table border=\"1\" class=\"dataframe\">\n",
       "  <thead>\n",
       "    <tr style=\"text-align: right;\">\n",
       "      <th></th>\n",
       "      <th>nace_r2</th>\n",
       "      <th>isco08</th>\n",
       "      <th>unit</th>\n",
       "      <th>value</th>\n",
       "      <th>flag</th>\n",
       "      <th>perc</th>\n",
       "    </tr>\n",
       "  </thead>\n",
       "  <tbody>\n",
       "    <tr>\n",
       "      <th>0</th>\n",
       "      <td>A</td>\n",
       "      <td>OC1</td>\n",
       "      <td>THS_PER</td>\n",
       "      <td>122.70</td>\n",
       "      <td></td>\n",
       "      <td>1.82</td>\n",
       "    </tr>\n",
       "    <tr>\n",
       "      <th>1</th>\n",
       "      <td>A</td>\n",
       "      <td>OC2</td>\n",
       "      <td>THS_PER</td>\n",
       "      <td>138.60</td>\n",
       "      <td></td>\n",
       "      <td>2.05</td>\n",
       "    </tr>\n",
       "    <tr>\n",
       "      <th>2</th>\n",
       "      <td>A</td>\n",
       "      <td>OC3</td>\n",
       "      <td>THS_PER</td>\n",
       "      <td>189.60</td>\n",
       "      <td></td>\n",
       "      <td>2.81</td>\n",
       "    </tr>\n",
       "    <tr>\n",
       "      <th>3</th>\n",
       "      <td>A</td>\n",
       "      <td>OC4</td>\n",
       "      <td>THS_PER</td>\n",
       "      <td>143.30</td>\n",
       "      <td></td>\n",
       "      <td>2.12</td>\n",
       "    </tr>\n",
       "    <tr>\n",
       "      <th>4</th>\n",
       "      <td>A</td>\n",
       "      <td>OC5</td>\n",
       "      <td>THS_PER</td>\n",
       "      <td>115.10</td>\n",
       "      <td></td>\n",
       "      <td>1.70</td>\n",
       "    </tr>\n",
       "    <tr>\n",
       "      <th>...</th>\n",
       "      <td>...</td>\n",
       "      <td>...</td>\n",
       "      <td>...</td>\n",
       "      <td>...</td>\n",
       "      <td>...</td>\n",
       "      <td>...</td>\n",
       "    </tr>\n",
       "    <tr>\n",
       "      <th>202</th>\n",
       "      <td>U</td>\n",
       "      <td>OC5</td>\n",
       "      <td>THS_PER</td>\n",
       "      <td>NaN</td>\n",
       "      <td>: u</td>\n",
       "      <td>NaN</td>\n",
       "    </tr>\n",
       "    <tr>\n",
       "      <th>203</th>\n",
       "      <td>U</td>\n",
       "      <td>OC6</td>\n",
       "      <td>THS_PER</td>\n",
       "      <td>NaN</td>\n",
       "      <td>: u</td>\n",
       "      <td>NaN</td>\n",
       "    </tr>\n",
       "    <tr>\n",
       "      <th>204</th>\n",
       "      <td>U</td>\n",
       "      <td>OC7</td>\n",
       "      <td>THS_PER</td>\n",
       "      <td>NaN</td>\n",
       "      <td>: u</td>\n",
       "      <td>NaN</td>\n",
       "    </tr>\n",
       "    <tr>\n",
       "      <th>205</th>\n",
       "      <td>U</td>\n",
       "      <td>OC8</td>\n",
       "      <td>THS_PER</td>\n",
       "      <td>NaN</td>\n",
       "      <td>: u</td>\n",
       "      <td>NaN</td>\n",
       "    </tr>\n",
       "    <tr>\n",
       "      <th>206</th>\n",
       "      <td>U</td>\n",
       "      <td>OC9</td>\n",
       "      <td>THS_PER</td>\n",
       "      <td>NaN</td>\n",
       "      <td>: u</td>\n",
       "      <td>NaN</td>\n",
       "    </tr>\n",
       "  </tbody>\n",
       "</table>\n",
       "<p>198 rows × 6 columns</p>\n",
       "</div>"
      ],
      "text/plain": [
       "    nace_r2 isco08     unit  value flag  perc\n",
       "0         A    OC1  THS_PER 122.70       1.82\n",
       "1         A    OC2  THS_PER 138.60       2.05\n",
       "2         A    OC3  THS_PER 189.60       2.81\n",
       "3         A    OC4  THS_PER 143.30       2.12\n",
       "4         A    OC5  THS_PER 115.10       1.70\n",
       "..      ...    ...      ...    ...  ...   ...\n",
       "202       U    OC5  THS_PER    NaN  : u   NaN\n",
       "203       U    OC6  THS_PER    NaN  : u   NaN\n",
       "204       U    OC7  THS_PER    NaN  : u   NaN\n",
       "205       U    OC8  THS_PER    NaN  : u   NaN\n",
       "206       U    OC9  THS_PER    NaN  : u   NaN\n",
       "\n",
       "[198 rows x 6 columns]"
      ]
     },
     "execution_count": 42,
     "metadata": {},
     "output_type": "execute_result"
    }
   ],
   "source": [
    "df=emp.loc['EU27_2020',:,2022]\n",
    "df=df[~(df['isco08'].isin(['OC0','NRP','TOTAL']))].reset_index()\n",
    "df=df[~(df['nace_r2'].isin(['NRP']))]\n",
    "#.drop(['code','year'], axis=1)\n",
    "\n",
    "df['perc'] = 100 * df['value'] / df.groupby('nace_r2')['value'].transform('sum')\n",
    "#df=df.set_index('isco08')\n",
    "df\n",
    "#df.reset_index().set_index([])"
   ]
  },
  {
   "cell_type": "code",
   "execution_count": 43,
   "metadata": {},
   "outputs": [
    {
     "data": {
      "text/html": [
       "<div>\n",
       "<style scoped>\n",
       "    .dataframe tbody tr th:only-of-type {\n",
       "        vertical-align: middle;\n",
       "    }\n",
       "\n",
       "    .dataframe tbody tr th {\n",
       "        vertical-align: top;\n",
       "    }\n",
       "\n",
       "    .dataframe thead th {\n",
       "        text-align: right;\n",
       "    }\n",
       "</style>\n",
       "<table border=\"1\" class=\"dataframe\">\n",
       "  <thead>\n",
       "    <tr style=\"text-align: right;\">\n",
       "      <th>nace_r2</th>\n",
       "      <th>A</th>\n",
       "      <th>B</th>\n",
       "      <th>C</th>\n",
       "      <th>D</th>\n",
       "      <th>E</th>\n",
       "      <th>F</th>\n",
       "      <th>G</th>\n",
       "      <th>H</th>\n",
       "      <th>I</th>\n",
       "      <th>J</th>\n",
       "      <th>...</th>\n",
       "      <th>M</th>\n",
       "      <th>N</th>\n",
       "      <th>O</th>\n",
       "      <th>P</th>\n",
       "      <th>Q</th>\n",
       "      <th>R</th>\n",
       "      <th>S</th>\n",
       "      <th>T</th>\n",
       "      <th>TOTAL</th>\n",
       "      <th>U</th>\n",
       "    </tr>\n",
       "    <tr>\n",
       "      <th>isco08</th>\n",
       "      <th></th>\n",
       "      <th></th>\n",
       "      <th></th>\n",
       "      <th></th>\n",
       "      <th></th>\n",
       "      <th></th>\n",
       "      <th></th>\n",
       "      <th></th>\n",
       "      <th></th>\n",
       "      <th></th>\n",
       "      <th></th>\n",
       "      <th></th>\n",
       "      <th></th>\n",
       "      <th></th>\n",
       "      <th></th>\n",
       "      <th></th>\n",
       "      <th></th>\n",
       "      <th></th>\n",
       "      <th></th>\n",
       "      <th></th>\n",
       "      <th></th>\n",
       "    </tr>\n",
       "  </thead>\n",
       "  <tbody>\n",
       "    <tr>\n",
       "      <th>OC1</th>\n",
       "      <td>1.82</td>\n",
       "      <td>4.47</td>\n",
       "      <td>4.79</td>\n",
       "      <td>6.06</td>\n",
       "      <td>4.70</td>\n",
       "      <td>5.99</td>\n",
       "      <td>6.99</td>\n",
       "      <td>4.24</td>\n",
       "      <td>11.53</td>\n",
       "      <td>7.55</td>\n",
       "      <td>...</td>\n",
       "      <td>5.58</td>\n",
       "      <td>4.92</td>\n",
       "      <td>4.94</td>\n",
       "      <td>3.00</td>\n",
       "      <td>2.20</td>\n",
       "      <td>7.00</td>\n",
       "      <td>4.67</td>\n",
       "      <td>NaN</td>\n",
       "      <td>5.18</td>\n",
       "      <td>10.55</td>\n",
       "    </tr>\n",
       "    <tr>\n",
       "      <th>OC2</th>\n",
       "      <td>2.05</td>\n",
       "      <td>12.07</td>\n",
       "      <td>12.10</td>\n",
       "      <td>25.77</td>\n",
       "      <td>8.27</td>\n",
       "      <td>5.47</td>\n",
       "      <td>7.87</td>\n",
       "      <td>5.30</td>\n",
       "      <td>1.70</td>\n",
       "      <td>57.42</td>\n",
       "      <td>...</td>\n",
       "      <td>53.95</td>\n",
       "      <td>7.57</td>\n",
       "      <td>23.97</td>\n",
       "      <td>70.99</td>\n",
       "      <td>31.84</td>\n",
       "      <td>29.68</td>\n",
       "      <td>16.12</td>\n",
       "      <td>NaN</td>\n",
       "      <td>22.19</td>\n",
       "      <td>52.00</td>\n",
       "    </tr>\n",
       "    <tr>\n",
       "      <th>OC3</th>\n",
       "      <td>2.81</td>\n",
       "      <td>13.54</td>\n",
       "      <td>15.20</td>\n",
       "      <td>25.36</td>\n",
       "      <td>16.64</td>\n",
       "      <td>10.53</td>\n",
       "      <td>12.55</td>\n",
       "      <td>8.91</td>\n",
       "      <td>4.44</td>\n",
       "      <td>21.82</td>\n",
       "      <td>...</td>\n",
       "      <td>23.82</td>\n",
       "      <td>10.30</td>\n",
       "      <td>24.64</td>\n",
       "      <td>6.46</td>\n",
       "      <td>29.25</td>\n",
       "      <td>27.48</td>\n",
       "      <td>11.24</td>\n",
       "      <td>0.86</td>\n",
       "      <td>16.24</td>\n",
       "      <td>21.72</td>\n",
       "    </tr>\n",
       "    <tr>\n",
       "      <th>OC4</th>\n",
       "      <td>2.12</td>\n",
       "      <td>6.92</td>\n",
       "      <td>8.59</td>\n",
       "      <td>14.41</td>\n",
       "      <td>11.95</td>\n",
       "      <td>5.90</td>\n",
       "      <td>10.25</td>\n",
       "      <td>22.17</td>\n",
       "      <td>5.61</td>\n",
       "      <td>7.49</td>\n",
       "      <td>...</td>\n",
       "      <td>11.60</td>\n",
       "      <td>14.54</td>\n",
       "      <td>20.57</td>\n",
       "      <td>4.66</td>\n",
       "      <td>5.77</td>\n",
       "      <td>13.04</td>\n",
       "      <td>8.82</td>\n",
       "      <td>NaN</td>\n",
       "      <td>10.21</td>\n",
       "      <td>15.72</td>\n",
       "    </tr>\n",
       "    <tr>\n",
       "      <th>OC5</th>\n",
       "      <td>1.70</td>\n",
       "      <td>NaN</td>\n",
       "      <td>2.44</td>\n",
       "      <td>1.69</td>\n",
       "      <td>1.67</td>\n",
       "      <td>0.62</td>\n",
       "      <td>41.58</td>\n",
       "      <td>3.87</td>\n",
       "      <td>56.71</td>\n",
       "      <td>1.79</td>\n",
       "      <td>...</td>\n",
       "      <td>1.35</td>\n",
       "      <td>17.86</td>\n",
       "      <td>16.17</td>\n",
       "      <td>8.82</td>\n",
       "      <td>22.48</td>\n",
       "      <td>12.55</td>\n",
       "      <td>41.36</td>\n",
       "      <td>35.83</td>\n",
       "      <td>15.69</td>\n",
       "      <td>NaN</td>\n",
       "    </tr>\n",
       "    <tr>\n",
       "      <th>OC6</th>\n",
       "      <td>65.83</td>\n",
       "      <td>NaN</td>\n",
       "      <td>0.15</td>\n",
       "      <td>NaN</td>\n",
       "      <td>NaN</td>\n",
       "      <td>0.14</td>\n",
       "      <td>0.21</td>\n",
       "      <td>NaN</td>\n",
       "      <td>0.23</td>\n",
       "      <td>NaN</td>\n",
       "      <td>...</td>\n",
       "      <td>0.14</td>\n",
       "      <td>5.91</td>\n",
       "      <td>0.87</td>\n",
       "      <td>NaN</td>\n",
       "      <td>0.13</td>\n",
       "      <td>1.09</td>\n",
       "      <td>0.70</td>\n",
       "      <td>1.51</td>\n",
       "      <td>2.80</td>\n",
       "      <td>NaN</td>\n",
       "    </tr>\n",
       "    <tr>\n",
       "      <th>OC7</th>\n",
       "      <td>1.83</td>\n",
       "      <td>19.01</td>\n",
       "      <td>29.60</td>\n",
       "      <td>20.79</td>\n",
       "      <td>11.07</td>\n",
       "      <td>57.02</td>\n",
       "      <td>9.67</td>\n",
       "      <td>3.80</td>\n",
       "      <td>1.65</td>\n",
       "      <td>2.61</td>\n",
       "      <td>...</td>\n",
       "      <td>2.07</td>\n",
       "      <td>4.46</td>\n",
       "      <td>2.10</td>\n",
       "      <td>0.59</td>\n",
       "      <td>0.73</td>\n",
       "      <td>3.07</td>\n",
       "      <td>7.51</td>\n",
       "      <td>NaN</td>\n",
       "      <td>11.64</td>\n",
       "      <td>NaN</td>\n",
       "    </tr>\n",
       "    <tr>\n",
       "      <th>OC8</th>\n",
       "      <td>4.89</td>\n",
       "      <td>39.26</td>\n",
       "      <td>20.76</td>\n",
       "      <td>3.98</td>\n",
       "      <td>20.62</td>\n",
       "      <td>6.52</td>\n",
       "      <td>3.89</td>\n",
       "      <td>42.87</td>\n",
       "      <td>1.67</td>\n",
       "      <td>0.36</td>\n",
       "      <td>...</td>\n",
       "      <td>0.57</td>\n",
       "      <td>3.07</td>\n",
       "      <td>1.21</td>\n",
       "      <td>0.19</td>\n",
       "      <td>1.15</td>\n",
       "      <td>0.54</td>\n",
       "      <td>4.00</td>\n",
       "      <td>NaN</td>\n",
       "      <td>7.77</td>\n",
       "      <td>NaN</td>\n",
       "    </tr>\n",
       "    <tr>\n",
       "      <th>OC9</th>\n",
       "      <td>16.95</td>\n",
       "      <td>4.73</td>\n",
       "      <td>6.37</td>\n",
       "      <td>1.93</td>\n",
       "      <td>25.08</td>\n",
       "      <td>7.81</td>\n",
       "      <td>6.99</td>\n",
       "      <td>8.85</td>\n",
       "      <td>16.46</td>\n",
       "      <td>0.96</td>\n",
       "      <td>...</td>\n",
       "      <td>0.92</td>\n",
       "      <td>31.37</td>\n",
       "      <td>5.52</td>\n",
       "      <td>5.28</td>\n",
       "      <td>6.44</td>\n",
       "      <td>5.56</td>\n",
       "      <td>5.58</td>\n",
       "      <td>61.80</td>\n",
       "      <td>8.29</td>\n",
       "      <td>NaN</td>\n",
       "    </tr>\n",
       "  </tbody>\n",
       "</table>\n",
       "<p>9 rows × 22 columns</p>\n",
       "</div>"
      ],
      "text/plain": [
       "nace_r2     A     B     C     D     E     F     G     H     I     J  ...   \n",
       "isco08                                                               ...   \n",
       "OC1      1.82  4.47  4.79  6.06  4.70  5.99  6.99  4.24 11.53  7.55  ...  \\\n",
       "OC2      2.05 12.07 12.10 25.77  8.27  5.47  7.87  5.30  1.70 57.42  ...   \n",
       "OC3      2.81 13.54 15.20 25.36 16.64 10.53 12.55  8.91  4.44 21.82  ...   \n",
       "OC4      2.12  6.92  8.59 14.41 11.95  5.90 10.25 22.17  5.61  7.49  ...   \n",
       "OC5      1.70   NaN  2.44  1.69  1.67  0.62 41.58  3.87 56.71  1.79  ...   \n",
       "OC6     65.83   NaN  0.15   NaN   NaN  0.14  0.21   NaN  0.23   NaN  ...   \n",
       "OC7      1.83 19.01 29.60 20.79 11.07 57.02  9.67  3.80  1.65  2.61  ...   \n",
       "OC8      4.89 39.26 20.76  3.98 20.62  6.52  3.89 42.87  1.67  0.36  ...   \n",
       "OC9     16.95  4.73  6.37  1.93 25.08  7.81  6.99  8.85 16.46  0.96  ...   \n",
       "\n",
       "nace_r2     M     N     O     P     Q     R     S     T  TOTAL     U  \n",
       "isco08                                                                \n",
       "OC1      5.58  4.92  4.94  3.00  2.20  7.00  4.67   NaN   5.18 10.55  \n",
       "OC2     53.95  7.57 23.97 70.99 31.84 29.68 16.12   NaN  22.19 52.00  \n",
       "OC3     23.82 10.30 24.64  6.46 29.25 27.48 11.24  0.86  16.24 21.72  \n",
       "OC4     11.60 14.54 20.57  4.66  5.77 13.04  8.82   NaN  10.21 15.72  \n",
       "OC5      1.35 17.86 16.17  8.82 22.48 12.55 41.36 35.83  15.69   NaN  \n",
       "OC6      0.14  5.91  0.87   NaN  0.13  1.09  0.70  1.51   2.80   NaN  \n",
       "OC7      2.07  4.46  2.10  0.59  0.73  3.07  7.51   NaN  11.64   NaN  \n",
       "OC8      0.57  3.07  1.21  0.19  1.15  0.54  4.00   NaN   7.77   NaN  \n",
       "OC9      0.92 31.37  5.52  5.28  6.44  5.56  5.58 61.80   8.29   NaN  \n",
       "\n",
       "[9 rows x 22 columns]"
      ]
     },
     "execution_count": 43,
     "metadata": {},
     "output_type": "execute_result"
    }
   ],
   "source": [
    "df.pivot(index='isco08', columns='nace_r2', values='perc')"
   ]
  },
  {
   "cell_type": "code",
   "execution_count": 44,
   "metadata": {},
   "outputs": [
    {
     "data": {
      "application/vnd.plotly.v1+json": {
       "config": {
        "plotlyServerURL": "https://plot.ly"
       },
       "data": [
        {
         "marker": {
          "color": [
           "#DC143C",
           "#DC143C",
           "#DC143C",
           "#DC143C",
           "#DC143C",
           "#7FFFD4",
           "#DC143C",
           "#DC143C",
           "#DC143C",
           "#DC143C",
           "#DC143C",
           "#DC143C",
           "#DC143C",
           "#DC143C",
           "#7FFFD4",
           "#DC143C",
           "#DC143C",
           "#DC143C",
           "#DC143C",
           "#DC143C",
           "#DC143C",
           "#DC143C",
           "#7FFFD4",
           "#DC143C",
           "#DC143C",
           "#DC143C",
           "#7FFFD4",
           "#7FFFD4",
           "#DC143C",
           "#DC143C",
           "#DC143C",
           "#DC143C",
           "#DC143C",
           "#DC143C",
           "#DC143C",
           "#DC143C",
           "#DC143C",
           "#DC143C",
           "#DC143C",
           "#DC143C",
           "#7FFFD4",
           "#DC143C",
           "#DC143C",
           "#DC143C",
           "#DC143C",
           "#DC143C",
           "#DC143C",
           "#7FFFD4",
           "#DC143C",
           "#DC143C",
           "#DC143C",
           "#DC143C",
           "#DC143C",
           "#DC143C",
           "#7FFFD4",
           "#DC143C",
           "#DC143C",
           "#DC143C",
           "#DC143C",
           "#DC143C",
           "#DC143C",
           "#DC143C",
           "#DC143C",
           "#DC143C",
           "#DC143C",
           "#7FFFD4",
           "#DC143C",
           "#DC143C",
           "#DC143C",
           "#DC143C",
           "#DC143C",
           "#7FFFD4",
           "#DC143C",
           "#DC143C",
           "#DC143C",
           "#DC143C",
           "#DC143C",
           "#7FFFD4",
           "#DC143C",
           "#DC143C",
           "#DC143C",
           "#DC143C",
           "#DC143C",
           "#DC143C",
           "#DC143C",
           "#7FFFD4",
           "#7FFFD4",
           "#7FFFD4",
           "#DC143C",
           "#DC143C",
           "#DC143C",
           "#DC143C",
           "#DC143C",
           "#DC143C",
           "#7FFFD4",
           "#DC143C",
           "#DC143C",
           "#DC143C",
           "#DC143C",
           "#DC143C",
           "#7FFFD4",
           "#DC143C",
           "#DC143C",
           "#DC143C",
           "#DC143C",
           "#DC143C",
           "#DC143C",
           "#DC143C",
           "#DC143C",
           "#DC143C",
           "#DC143C",
           "#DC143C",
           "#DC143C",
           "#DC143C",
           "#DC143C",
           "#DC143C",
           "#7FFFD4",
           "#DC143C",
           "#DC143C",
           "#DC143C",
           "#DC143C",
           "#DC143C",
           "#DC143C",
           "#DC143C",
           "#DC143C",
           "#DC143C",
           "#DC143C",
           "#7FFFD4",
           "#DC143C",
           "#DC143C",
           "#DC143C",
           "#DC143C",
           "#DC143C",
           "#DC143C",
           "#DC143C",
           "#7FFFD4",
           "#7FFFD4",
           "#DC143C",
           "#DC143C",
           "#DC143C",
           "#DC143C",
           "#DC143C",
           "#DC143C",
           "#DC143C",
           "#7FFFD4",
           "#7FFFD4",
           "#DC143C",
           "#DC143C",
           "#DC143C",
           "#DC143C",
           "#DC143C",
           "#DC143C",
           "#DC143C",
           "#DC143C",
           "#DC143C",
           "#DC143C",
           "#7FFFD4",
           "#DC143C",
           "#DC143C",
           "#DC143C",
           "#DC143C",
           "#DC143C",
           "#7FFFD4",
           "#DC143C",
           "#7FFFD4",
           "#DC143C",
           "#DC143C",
           "#DC143C",
           "#DC143C",
           "#DC143C",
           "#DC143C",
           "#DC143C",
           "#DC143C",
           "#DC143C",
           "#DC143C",
           "#7FFFD4",
           "#DC143C",
           "#DC143C"
          ],
          "showscale": false,
          "size": [
           1.8171047760088856,
           2.052573121066272,
           2.8078489448352464,
           2.12217697149204,
           1.7045538689374307,
           65.82895223991115,
           1.8304331728989263,
           4.890040725657164,
           16.94631617919289,
           4.465116279069767,
           12.074418604651164,
           13.544186046511628,
           6.92093023255814,
           19.013953488372092,
           39.25581395348837,
           4.725581395348837,
           4.791761837051144,
           12.104386094722145,
           15.202061470953462,
           8.585923576304666,
           2.4356112029751067,
           0.15152197551198984,
           29.59504063105203,
           20.76494469930448,
           6.3687485121249745,
           6.0583086360190235,
           25.77021159280447,
           25.363567440898755,
           14.41174443448894,
           1.6886070714728791,
           20.793989937280312,
           3.983734233923772,
           1.9298366531118618,
           4.696866695507077,
           8.268957419195354,
           16.636796242506644,
           11.95228972251406,
           1.6748037822137076,
           11.06853717322786,
           20.622952845930413,
           25.07879611890489,
           5.987656687238855,
           5.471690880515199,
           10.533982443362595,
           5.895656840571933,
           0.6156323072794879,
           0.1448997585004025,
           57.02303829493618,
           6.521255797907004,
           7.80618698968835,
           6.991081814656844,
           7.869329197363319,
           12.548274525009694,
           10.250096936797208,
           41.58394726638232,
           0.21326095385808452,
           9.66925164792555,
           3.8856145792943,
           6.989143078712679,
           4.240909924076521,
           5.297278524364008,
           8.90726144881677,
           22.172163963842287,
           3.870457373838718,
           3.797138639937486,
           42.869270768013735,
           8.845519357110469,
           11.53334462156213,
           1.7029099441232676,
           4.441111729276021,
           5.611862315860767,
           56.70641735807068,
           0.23100553929513076,
           1.6521129145400448,
           1.6654168984785076,
           16.45581867879345,
           7.5483897593924985,
           57.41976310684954,
           21.82250897635196,
           7.489235256083973,
           1.7925190188606572,
           2.6124279484392843,
           0.35905407822151303,
           0.9561018558005806,
           7.6775788671388465,
           29.56518506125332,
           33.72557767739297,
           26.27851207406168,
           1.368207759373896,
           0.43314185860613835,
           0.31974420463629094,
           0.6320524975368542,
           8.47006114911909,
           8.881758188533025,
           49.912211660713204,
           15.91693406793001,
           8.572985408972574,
           3.469152993885088,
           4.776896530847006,
           5.583515844991731,
           53.94627452733205,
           23.824252447146115,
           11.596120323604344,
           1.3525231305591563,
           0.14034774058016358,
           2.0676708532606267,
           0.5694363742010459,
           0.9198587583247665,
           4.915580793996857,
           7.573644983014755,
           10.301424732545758,
           14.536328144805557,
           17.86492927039497,
           5.908076864574355,
           4.457993205901739,
           3.070019773868073,
           31.372002230897937,
           4.944300681646049,
           23.967274678111586,
           24.637875536480685,
           20.57403433476395,
           16.174103761676342,
           0.8733590002524615,
           2.0985862156021207,
           1.2133930825549104,
           5.517072708911891,
           3.002803447201744,
           70.98674419409545,
           6.464541584466826,
           4.6627210743086565,
           8.82359048904579,
           0.5897622261447409,
           0.19312636278683418,
           5.276710621949953,
           2.202763329916009,
           31.83660800782536,
           29.251041656869297,
           5.7707320284797925,
           22.48332878735151,
           0.13496863272542586,
           0.7308057674401107,
           1.1521712549731475,
           6.437580534419354,
           6.998494602991577,
           29.68194484481599,
           27.478299862272188,
           13.039300470836936,
           12.54604272765126,
           1.0890106018385062,
           3.06524454693956,
           0.5445053009192531,
           5.55715704173473,
           4.668752227458123,
           16.124816853443154,
           11.244208608878152,
           8.8207341701976,
           41.35944244248208,
           0.6969468973983289,
           7.506038886468934,
           4.001504771710292,
           5.577555141963331,
           0.8553430041033346,
           35.82615731376062,
           1.514188291047795,
           61.804311391088255,
           5.1849986626099165,
           22.194249640576416,
           16.235027500083586,
           10.205696863820254,
           15.688003610953224,
           2.8001082450098633,
           11.636286318499447,
           7.7683556788926404,
           8.28727347955465,
           10.551724137931034,
           52.00000000000001,
           21.724137931034484,
           15.724137931034482
          ]
         },
         "mode": "markers",
         "text": [
          1,
          2,
          2,
          2,
          1,
          65,
          1,
          4,
          16,
          4,
          12,
          13,
          6,
          19,
          39,
          4,
          4,
          12,
          15,
          8,
          2,
          0,
          29,
          20,
          6,
          6,
          25,
          25,
          14,
          1,
          20,
          3,
          1,
          4,
          8,
          16,
          11,
          1,
          11,
          20,
          25,
          5,
          5,
          10,
          5,
          0,
          0,
          57,
          6,
          7,
          6,
          7,
          12,
          10,
          41,
          0,
          9,
          3,
          6,
          4,
          5,
          8,
          22,
          3,
          3,
          42,
          8,
          11,
          1,
          4,
          5,
          56,
          0,
          1,
          1,
          16,
          7,
          57,
          21,
          7,
          1,
          2,
          0,
          0,
          7,
          29,
          33,
          26,
          1,
          0,
          0,
          0,
          8,
          8,
          49,
          15,
          8,
          3,
          4,
          5,
          53,
          23,
          11,
          1,
          0,
          2,
          0,
          0,
          4,
          7,
          10,
          14,
          17,
          5,
          4,
          3,
          31,
          4,
          23,
          24,
          20,
          16,
          0,
          2,
          1,
          5,
          3,
          70,
          6,
          4,
          8,
          0,
          0,
          5,
          2,
          31,
          29,
          5,
          22,
          0,
          0,
          1,
          6,
          6,
          29,
          27,
          13,
          12,
          1,
          3,
          0,
          5,
          4,
          16,
          11,
          8,
          41,
          0,
          7,
          4,
          5,
          0,
          35,
          1,
          61,
          5,
          22,
          16,
          10,
          15,
          2,
          11,
          7,
          8,
          10,
          52,
          21,
          15
         ],
         "type": "scatter",
         "x": [
          "A",
          "A",
          "A",
          "A",
          "A",
          "A",
          "A",
          "A",
          "A",
          "B",
          "B",
          "B",
          "B",
          "B",
          "B",
          "B",
          "C",
          "C",
          "C",
          "C",
          "C",
          "C",
          "C",
          "C",
          "C",
          "D",
          "D",
          "D",
          "D",
          "D",
          "D",
          "D",
          "D",
          "E",
          "E",
          "E",
          "E",
          "E",
          "E",
          "E",
          "E",
          "F",
          "F",
          "F",
          "F",
          "F",
          "F",
          "F",
          "F",
          "F",
          "G",
          "G",
          "G",
          "G",
          "G",
          "G",
          "G",
          "G",
          "G",
          "H",
          "H",
          "H",
          "H",
          "H",
          "H",
          "H",
          "H",
          "I",
          "I",
          "I",
          "I",
          "I",
          "I",
          "I",
          "I",
          "I",
          "J",
          "J",
          "J",
          "J",
          "J",
          "J",
          "J",
          "J",
          "K",
          "K",
          "K",
          "K",
          "K",
          "K",
          "K",
          "K",
          "L",
          "L",
          "L",
          "L",
          "L",
          "L",
          "L",
          "M",
          "M",
          "M",
          "M",
          "M",
          "M",
          "M",
          "M",
          "M",
          "N",
          "N",
          "N",
          "N",
          "N",
          "N",
          "N",
          "N",
          "N",
          "O",
          "O",
          "O",
          "O",
          "O",
          "O",
          "O",
          "O",
          "O",
          "P",
          "P",
          "P",
          "P",
          "P",
          "P",
          "P",
          "P",
          "Q",
          "Q",
          "Q",
          "Q",
          "Q",
          "Q",
          "Q",
          "Q",
          "Q",
          "R",
          "R",
          "R",
          "R",
          "R",
          "R",
          "R",
          "R",
          "R",
          "S",
          "S",
          "S",
          "S",
          "S",
          "S",
          "S",
          "S",
          "S",
          "T",
          "T",
          "T",
          "T",
          "TOTAL",
          "TOTAL",
          "TOTAL",
          "TOTAL",
          "TOTAL",
          "TOTAL",
          "TOTAL",
          "TOTAL",
          "TOTAL",
          "U",
          "U",
          "U",
          "U"
         ],
         "y": [
          "OC1",
          "OC2",
          "OC3",
          "OC4",
          "OC5",
          "OC6",
          "OC7",
          "OC8",
          "OC9",
          "OC1",
          "OC2",
          "OC3",
          "OC4",
          "OC7",
          "OC8",
          "OC9",
          "OC1",
          "OC2",
          "OC3",
          "OC4",
          "OC5",
          "OC6",
          "OC7",
          "OC8",
          "OC9",
          "OC1",
          "OC2",
          "OC3",
          "OC4",
          "OC5",
          "OC7",
          "OC8",
          "OC9",
          "OC1",
          "OC2",
          "OC3",
          "OC4",
          "OC5",
          "OC7",
          "OC8",
          "OC9",
          "OC1",
          "OC2",
          "OC3",
          "OC4",
          "OC5",
          "OC6",
          "OC7",
          "OC8",
          "OC9",
          "OC1",
          "OC2",
          "OC3",
          "OC4",
          "OC5",
          "OC6",
          "OC7",
          "OC8",
          "OC9",
          "OC1",
          "OC2",
          "OC3",
          "OC4",
          "OC5",
          "OC7",
          "OC8",
          "OC9",
          "OC1",
          "OC2",
          "OC3",
          "OC4",
          "OC5",
          "OC6",
          "OC7",
          "OC8",
          "OC9",
          "OC1",
          "OC2",
          "OC3",
          "OC4",
          "OC5",
          "OC7",
          "OC8",
          "OC9",
          "OC1",
          "OC2",
          "OC3",
          "OC4",
          "OC5",
          "OC7",
          "OC8",
          "OC9",
          "OC1",
          "OC2",
          "OC3",
          "OC4",
          "OC5",
          "OC7",
          "OC9",
          "OC1",
          "OC2",
          "OC3",
          "OC4",
          "OC5",
          "OC6",
          "OC7",
          "OC8",
          "OC9",
          "OC1",
          "OC2",
          "OC3",
          "OC4",
          "OC5",
          "OC6",
          "OC7",
          "OC8",
          "OC9",
          "OC1",
          "OC2",
          "OC3",
          "OC4",
          "OC5",
          "OC6",
          "OC7",
          "OC8",
          "OC9",
          "OC1",
          "OC2",
          "OC3",
          "OC4",
          "OC5",
          "OC7",
          "OC8",
          "OC9",
          "OC1",
          "OC2",
          "OC3",
          "OC4",
          "OC5",
          "OC6",
          "OC7",
          "OC8",
          "OC9",
          "OC1",
          "OC2",
          "OC3",
          "OC4",
          "OC5",
          "OC6",
          "OC7",
          "OC8",
          "OC9",
          "OC1",
          "OC2",
          "OC3",
          "OC4",
          "OC5",
          "OC6",
          "OC7",
          "OC8",
          "OC9",
          "OC3",
          "OC5",
          "OC6",
          "OC9",
          "OC1",
          "OC2",
          "OC3",
          "OC4",
          "OC5",
          "OC6",
          "OC7",
          "OC8",
          "OC9",
          "OC1",
          "OC2",
          "OC3",
          "OC4"
         ]
        }
       ],
       "layout": {
        "template": {
         "data": {
          "bar": [
           {
            "error_x": {
             "color": "#2a3f5f"
            },
            "error_y": {
             "color": "#2a3f5f"
            },
            "marker": {
             "line": {
              "color": "#E5ECF6",
              "width": 0.5
             },
             "pattern": {
              "fillmode": "overlay",
              "size": 10,
              "solidity": 0.2
             }
            },
            "type": "bar"
           }
          ],
          "barpolar": [
           {
            "marker": {
             "line": {
              "color": "#E5ECF6",
              "width": 0.5
             },
             "pattern": {
              "fillmode": "overlay",
              "size": 10,
              "solidity": 0.2
             }
            },
            "type": "barpolar"
           }
          ],
          "carpet": [
           {
            "aaxis": {
             "endlinecolor": "#2a3f5f",
             "gridcolor": "white",
             "linecolor": "white",
             "minorgridcolor": "white",
             "startlinecolor": "#2a3f5f"
            },
            "baxis": {
             "endlinecolor": "#2a3f5f",
             "gridcolor": "white",
             "linecolor": "white",
             "minorgridcolor": "white",
             "startlinecolor": "#2a3f5f"
            },
            "type": "carpet"
           }
          ],
          "choropleth": [
           {
            "colorbar": {
             "outlinewidth": 0,
             "ticks": ""
            },
            "type": "choropleth"
           }
          ],
          "contour": [
           {
            "colorbar": {
             "outlinewidth": 0,
             "ticks": ""
            },
            "colorscale": [
             [
              0,
              "#0d0887"
             ],
             [
              0.1111111111111111,
              "#46039f"
             ],
             [
              0.2222222222222222,
              "#7201a8"
             ],
             [
              0.3333333333333333,
              "#9c179e"
             ],
             [
              0.4444444444444444,
              "#bd3786"
             ],
             [
              0.5555555555555556,
              "#d8576b"
             ],
             [
              0.6666666666666666,
              "#ed7953"
             ],
             [
              0.7777777777777778,
              "#fb9f3a"
             ],
             [
              0.8888888888888888,
              "#fdca26"
             ],
             [
              1,
              "#f0f921"
             ]
            ],
            "type": "contour"
           }
          ],
          "contourcarpet": [
           {
            "colorbar": {
             "outlinewidth": 0,
             "ticks": ""
            },
            "type": "contourcarpet"
           }
          ],
          "heatmap": [
           {
            "colorbar": {
             "outlinewidth": 0,
             "ticks": ""
            },
            "colorscale": [
             [
              0,
              "#0d0887"
             ],
             [
              0.1111111111111111,
              "#46039f"
             ],
             [
              0.2222222222222222,
              "#7201a8"
             ],
             [
              0.3333333333333333,
              "#9c179e"
             ],
             [
              0.4444444444444444,
              "#bd3786"
             ],
             [
              0.5555555555555556,
              "#d8576b"
             ],
             [
              0.6666666666666666,
              "#ed7953"
             ],
             [
              0.7777777777777778,
              "#fb9f3a"
             ],
             [
              0.8888888888888888,
              "#fdca26"
             ],
             [
              1,
              "#f0f921"
             ]
            ],
            "type": "heatmap"
           }
          ],
          "heatmapgl": [
           {
            "colorbar": {
             "outlinewidth": 0,
             "ticks": ""
            },
            "colorscale": [
             [
              0,
              "#0d0887"
             ],
             [
              0.1111111111111111,
              "#46039f"
             ],
             [
              0.2222222222222222,
              "#7201a8"
             ],
             [
              0.3333333333333333,
              "#9c179e"
             ],
             [
              0.4444444444444444,
              "#bd3786"
             ],
             [
              0.5555555555555556,
              "#d8576b"
             ],
             [
              0.6666666666666666,
              "#ed7953"
             ],
             [
              0.7777777777777778,
              "#fb9f3a"
             ],
             [
              0.8888888888888888,
              "#fdca26"
             ],
             [
              1,
              "#f0f921"
             ]
            ],
            "type": "heatmapgl"
           }
          ],
          "histogram": [
           {
            "marker": {
             "pattern": {
              "fillmode": "overlay",
              "size": 10,
              "solidity": 0.2
             }
            },
            "type": "histogram"
           }
          ],
          "histogram2d": [
           {
            "colorbar": {
             "outlinewidth": 0,
             "ticks": ""
            },
            "colorscale": [
             [
              0,
              "#0d0887"
             ],
             [
              0.1111111111111111,
              "#46039f"
             ],
             [
              0.2222222222222222,
              "#7201a8"
             ],
             [
              0.3333333333333333,
              "#9c179e"
             ],
             [
              0.4444444444444444,
              "#bd3786"
             ],
             [
              0.5555555555555556,
              "#d8576b"
             ],
             [
              0.6666666666666666,
              "#ed7953"
             ],
             [
              0.7777777777777778,
              "#fb9f3a"
             ],
             [
              0.8888888888888888,
              "#fdca26"
             ],
             [
              1,
              "#f0f921"
             ]
            ],
            "type": "histogram2d"
           }
          ],
          "histogram2dcontour": [
           {
            "colorbar": {
             "outlinewidth": 0,
             "ticks": ""
            },
            "colorscale": [
             [
              0,
              "#0d0887"
             ],
             [
              0.1111111111111111,
              "#46039f"
             ],
             [
              0.2222222222222222,
              "#7201a8"
             ],
             [
              0.3333333333333333,
              "#9c179e"
             ],
             [
              0.4444444444444444,
              "#bd3786"
             ],
             [
              0.5555555555555556,
              "#d8576b"
             ],
             [
              0.6666666666666666,
              "#ed7953"
             ],
             [
              0.7777777777777778,
              "#fb9f3a"
             ],
             [
              0.8888888888888888,
              "#fdca26"
             ],
             [
              1,
              "#f0f921"
             ]
            ],
            "type": "histogram2dcontour"
           }
          ],
          "mesh3d": [
           {
            "colorbar": {
             "outlinewidth": 0,
             "ticks": ""
            },
            "type": "mesh3d"
           }
          ],
          "parcoords": [
           {
            "line": {
             "colorbar": {
              "outlinewidth": 0,
              "ticks": ""
             }
            },
            "type": "parcoords"
           }
          ],
          "pie": [
           {
            "automargin": true,
            "type": "pie"
           }
          ],
          "scatter": [
           {
            "fillpattern": {
             "fillmode": "overlay",
             "size": 10,
             "solidity": 0.2
            },
            "type": "scatter"
           }
          ],
          "scatter3d": [
           {
            "line": {
             "colorbar": {
              "outlinewidth": 0,
              "ticks": ""
             }
            },
            "marker": {
             "colorbar": {
              "outlinewidth": 0,
              "ticks": ""
             }
            },
            "type": "scatter3d"
           }
          ],
          "scattercarpet": [
           {
            "marker": {
             "colorbar": {
              "outlinewidth": 0,
              "ticks": ""
             }
            },
            "type": "scattercarpet"
           }
          ],
          "scattergeo": [
           {
            "marker": {
             "colorbar": {
              "outlinewidth": 0,
              "ticks": ""
             }
            },
            "type": "scattergeo"
           }
          ],
          "scattergl": [
           {
            "marker": {
             "colorbar": {
              "outlinewidth": 0,
              "ticks": ""
             }
            },
            "type": "scattergl"
           }
          ],
          "scattermapbox": [
           {
            "marker": {
             "colorbar": {
              "outlinewidth": 0,
              "ticks": ""
             }
            },
            "type": "scattermapbox"
           }
          ],
          "scatterpolar": [
           {
            "marker": {
             "colorbar": {
              "outlinewidth": 0,
              "ticks": ""
             }
            },
            "type": "scatterpolar"
           }
          ],
          "scatterpolargl": [
           {
            "marker": {
             "colorbar": {
              "outlinewidth": 0,
              "ticks": ""
             }
            },
            "type": "scatterpolargl"
           }
          ],
          "scatterternary": [
           {
            "marker": {
             "colorbar": {
              "outlinewidth": 0,
              "ticks": ""
             }
            },
            "type": "scatterternary"
           }
          ],
          "surface": [
           {
            "colorbar": {
             "outlinewidth": 0,
             "ticks": ""
            },
            "colorscale": [
             [
              0,
              "#0d0887"
             ],
             [
              0.1111111111111111,
              "#46039f"
             ],
             [
              0.2222222222222222,
              "#7201a8"
             ],
             [
              0.3333333333333333,
              "#9c179e"
             ],
             [
              0.4444444444444444,
              "#bd3786"
             ],
             [
              0.5555555555555556,
              "#d8576b"
             ],
             [
              0.6666666666666666,
              "#ed7953"
             ],
             [
              0.7777777777777778,
              "#fb9f3a"
             ],
             [
              0.8888888888888888,
              "#fdca26"
             ],
             [
              1,
              "#f0f921"
             ]
            ],
            "type": "surface"
           }
          ],
          "table": [
           {
            "cells": {
             "fill": {
              "color": "#EBF0F8"
             },
             "line": {
              "color": "white"
             }
            },
            "header": {
             "fill": {
              "color": "#C8D4E3"
             },
             "line": {
              "color": "white"
             }
            },
            "type": "table"
           }
          ]
         },
         "layout": {
          "annotationdefaults": {
           "arrowcolor": "#2a3f5f",
           "arrowhead": 0,
           "arrowwidth": 1
          },
          "autotypenumbers": "strict",
          "coloraxis": {
           "colorbar": {
            "outlinewidth": 0,
            "ticks": ""
           }
          },
          "colorscale": {
           "diverging": [
            [
             0,
             "#8e0152"
            ],
            [
             0.1,
             "#c51b7d"
            ],
            [
             0.2,
             "#de77ae"
            ],
            [
             0.3,
             "#f1b6da"
            ],
            [
             0.4,
             "#fde0ef"
            ],
            [
             0.5,
             "#f7f7f7"
            ],
            [
             0.6,
             "#e6f5d0"
            ],
            [
             0.7,
             "#b8e186"
            ],
            [
             0.8,
             "#7fbc41"
            ],
            [
             0.9,
             "#4d9221"
            ],
            [
             1,
             "#276419"
            ]
           ],
           "sequential": [
            [
             0,
             "#0d0887"
            ],
            [
             0.1111111111111111,
             "#46039f"
            ],
            [
             0.2222222222222222,
             "#7201a8"
            ],
            [
             0.3333333333333333,
             "#9c179e"
            ],
            [
             0.4444444444444444,
             "#bd3786"
            ],
            [
             0.5555555555555556,
             "#d8576b"
            ],
            [
             0.6666666666666666,
             "#ed7953"
            ],
            [
             0.7777777777777778,
             "#fb9f3a"
            ],
            [
             0.8888888888888888,
             "#fdca26"
            ],
            [
             1,
             "#f0f921"
            ]
           ],
           "sequentialminus": [
            [
             0,
             "#0d0887"
            ],
            [
             0.1111111111111111,
             "#46039f"
            ],
            [
             0.2222222222222222,
             "#7201a8"
            ],
            [
             0.3333333333333333,
             "#9c179e"
            ],
            [
             0.4444444444444444,
             "#bd3786"
            ],
            [
             0.5555555555555556,
             "#d8576b"
            ],
            [
             0.6666666666666666,
             "#ed7953"
            ],
            [
             0.7777777777777778,
             "#fb9f3a"
            ],
            [
             0.8888888888888888,
             "#fdca26"
            ],
            [
             1,
             "#f0f921"
            ]
           ]
          },
          "colorway": [
           "#636efa",
           "#EF553B",
           "#00cc96",
           "#ab63fa",
           "#FFA15A",
           "#19d3f3",
           "#FF6692",
           "#B6E880",
           "#FF97FF",
           "#FECB52"
          ],
          "font": {
           "color": "#2a3f5f"
          },
          "geo": {
           "bgcolor": "white",
           "lakecolor": "white",
           "landcolor": "#E5ECF6",
           "showlakes": true,
           "showland": true,
           "subunitcolor": "white"
          },
          "hoverlabel": {
           "align": "left"
          },
          "hovermode": "closest",
          "mapbox": {
           "style": "light"
          },
          "paper_bgcolor": "white",
          "plot_bgcolor": "#E5ECF6",
          "polar": {
           "angularaxis": {
            "gridcolor": "white",
            "linecolor": "white",
            "ticks": ""
           },
           "bgcolor": "#E5ECF6",
           "radialaxis": {
            "gridcolor": "white",
            "linecolor": "white",
            "ticks": ""
           }
          },
          "scene": {
           "xaxis": {
            "backgroundcolor": "#E5ECF6",
            "gridcolor": "white",
            "gridwidth": 2,
            "linecolor": "white",
            "showbackground": true,
            "ticks": "",
            "zerolinecolor": "white"
           },
           "yaxis": {
            "backgroundcolor": "#E5ECF6",
            "gridcolor": "white",
            "gridwidth": 2,
            "linecolor": "white",
            "showbackground": true,
            "ticks": "",
            "zerolinecolor": "white"
           },
           "zaxis": {
            "backgroundcolor": "#E5ECF6",
            "gridcolor": "white",
            "gridwidth": 2,
            "linecolor": "white",
            "showbackground": true,
            "ticks": "",
            "zerolinecolor": "white"
           }
          },
          "shapedefaults": {
           "line": {
            "color": "#2a3f5f"
           }
          },
          "ternary": {
           "aaxis": {
            "gridcolor": "white",
            "linecolor": "white",
            "ticks": ""
           },
           "baxis": {
            "gridcolor": "white",
            "linecolor": "white",
            "ticks": ""
           },
           "bgcolor": "#E5ECF6",
           "caxis": {
            "gridcolor": "white",
            "linecolor": "white",
            "ticks": ""
           }
          },
          "title": {
           "x": 0.05
          },
          "xaxis": {
           "automargin": true,
           "gridcolor": "white",
           "linecolor": "white",
           "ticks": "",
           "title": {
            "standoff": 15
           },
           "zerolinecolor": "white",
           "zerolinewidth": 2
          },
          "yaxis": {
           "automargin": true,
           "gridcolor": "white",
           "linecolor": "white",
           "ticks": "",
           "title": {
            "standoff": 15
           },
           "zerolinecolor": "white",
           "zerolinewidth": 2
          }
         }
        }
       }
      }
     },
     "metadata": {},
     "output_type": "display_data"
    }
   ],
   "source": [
    "fig = go.Figure(data=[go.Scatter(\n",
    "    x=df.dropna()['nace_r2'], y=df.dropna()['isco08'],\n",
    "    text=df.dropna()['perc'].astype(int),\n",
    "    mode='markers',\n",
    "    #marker_size=np.array(df.dropna()['perc'])\n",
    "    marker=dict(\n",
    "    color=['#7FFFD4' if val is False else '#DC143C' for val in df.dropna()['perc']<25],\n",
    "    size=np.array(df.dropna()['perc']),\n",
    "    showscale=False\n",
    "    )\n",
    "    )\n",
    "])\n",
    "\n",
    "fig.show()"
   ]
  },
  {
   "attachments": {},
   "cell_type": "markdown",
   "metadata": {},
   "source": [
    "Exclude: A,M,O,P,S,T,U"
   ]
  },
  {
   "cell_type": "code",
   "execution_count": 45,
   "metadata": {
    "slideshow": {
     "slide_type": "fragment"
    }
   },
   "outputs": [
    {
     "data": {
      "text/html": [
       "<div>\n",
       "<style scoped>\n",
       "    .dataframe tbody tr th:only-of-type {\n",
       "        vertical-align: middle;\n",
       "    }\n",
       "\n",
       "    .dataframe tbody tr th {\n",
       "        vertical-align: top;\n",
       "    }\n",
       "\n",
       "    .dataframe thead th {\n",
       "        text-align: right;\n",
       "    }\n",
       "</style>\n",
       "<table border=\"1\" class=\"dataframe\">\n",
       "  <thead>\n",
       "    <tr style=\"text-align: right;\">\n",
       "      <th></th>\n",
       "      <th>nace_r2</th>\n",
       "      <th>description</th>\n",
       "    </tr>\n",
       "  </thead>\n",
       "  <tbody>\n",
       "    <tr>\n",
       "      <th>0</th>\n",
       "      <td>TOTAL</td>\n",
       "      <td>Total - all NACE activities</td>\n",
       "    </tr>\n",
       "    <tr>\n",
       "      <th>1</th>\n",
       "      <td>A</td>\n",
       "      <td>Agriculture, forestry and fishing</td>\n",
       "    </tr>\n",
       "    <tr>\n",
       "      <th>2</th>\n",
       "      <td>B</td>\n",
       "      <td>Mining and quarrying</td>\n",
       "    </tr>\n",
       "    <tr>\n",
       "      <th>3</th>\n",
       "      <td>C</td>\n",
       "      <td>Manufacturing</td>\n",
       "    </tr>\n",
       "    <tr>\n",
       "      <th>4</th>\n",
       "      <td>D</td>\n",
       "      <td>Electricity, gas, steam and air conditioning s...</td>\n",
       "    </tr>\n",
       "    <tr>\n",
       "      <th>5</th>\n",
       "      <td>E</td>\n",
       "      <td>Water supply; sewerage, waste management and r...</td>\n",
       "    </tr>\n",
       "    <tr>\n",
       "      <th>6</th>\n",
       "      <td>F</td>\n",
       "      <td>Construction</td>\n",
       "    </tr>\n",
       "    <tr>\n",
       "      <th>7</th>\n",
       "      <td>G</td>\n",
       "      <td>Wholesale and retail trade; repair of motor ve...</td>\n",
       "    </tr>\n",
       "    <tr>\n",
       "      <th>8</th>\n",
       "      <td>H</td>\n",
       "      <td>Transportation and storage</td>\n",
       "    </tr>\n",
       "    <tr>\n",
       "      <th>9</th>\n",
       "      <td>I</td>\n",
       "      <td>Accommodation and food service activities</td>\n",
       "    </tr>\n",
       "    <tr>\n",
       "      <th>10</th>\n",
       "      <td>J</td>\n",
       "      <td>Information and communication</td>\n",
       "    </tr>\n",
       "    <tr>\n",
       "      <th>11</th>\n",
       "      <td>K</td>\n",
       "      <td>Financial and insurance activities</td>\n",
       "    </tr>\n",
       "    <tr>\n",
       "      <th>12</th>\n",
       "      <td>L</td>\n",
       "      <td>Real estate activities</td>\n",
       "    </tr>\n",
       "    <tr>\n",
       "      <th>13</th>\n",
       "      <td>M</td>\n",
       "      <td>Professional, scientific and technical activities</td>\n",
       "    </tr>\n",
       "    <tr>\n",
       "      <th>14</th>\n",
       "      <td>N</td>\n",
       "      <td>Administrative and support service activities</td>\n",
       "    </tr>\n",
       "    <tr>\n",
       "      <th>15</th>\n",
       "      <td>O</td>\n",
       "      <td>Public administration and defence; compulsory ...</td>\n",
       "    </tr>\n",
       "    <tr>\n",
       "      <th>16</th>\n",
       "      <td>P</td>\n",
       "      <td>Education</td>\n",
       "    </tr>\n",
       "    <tr>\n",
       "      <th>17</th>\n",
       "      <td>Q</td>\n",
       "      <td>Human health and social work activities</td>\n",
       "    </tr>\n",
       "    <tr>\n",
       "      <th>18</th>\n",
       "      <td>R</td>\n",
       "      <td>Arts, entertainment and recreation</td>\n",
       "    </tr>\n",
       "    <tr>\n",
       "      <th>19</th>\n",
       "      <td>S</td>\n",
       "      <td>Other service activities</td>\n",
       "    </tr>\n",
       "    <tr>\n",
       "      <th>20</th>\n",
       "      <td>T</td>\n",
       "      <td>Activities of households as employers; undiffe...</td>\n",
       "    </tr>\n",
       "    <tr>\n",
       "      <th>21</th>\n",
       "      <td>U</td>\n",
       "      <td>Activities of extraterritorial organisations a...</td>\n",
       "    </tr>\n",
       "    <tr>\n",
       "      <th>22</th>\n",
       "      <td>NRP</td>\n",
       "      <td>No response</td>\n",
       "    </tr>\n",
       "  </tbody>\n",
       "</table>\n",
       "</div>"
      ],
      "text/plain": [
       "   nace_r2                                        description\n",
       "0    TOTAL                        Total - all NACE activities\n",
       "1        A                  Agriculture, forestry and fishing\n",
       "2        B                               Mining and quarrying\n",
       "3        C                                      Manufacturing\n",
       "4        D  Electricity, gas, steam and air conditioning s...\n",
       "5        E  Water supply; sewerage, waste management and r...\n",
       "6        F                                       Construction\n",
       "7        G  Wholesale and retail trade; repair of motor ve...\n",
       "8        H                         Transportation and storage\n",
       "9        I          Accommodation and food service activities\n",
       "10       J                      Information and communication\n",
       "11       K                 Financial and insurance activities\n",
       "12       L                             Real estate activities\n",
       "13       M  Professional, scientific and technical activities\n",
       "14       N      Administrative and support service activities\n",
       "15       O  Public administration and defence; compulsory ...\n",
       "16       P                                          Education\n",
       "17       Q            Human health and social work activities\n",
       "18       R                 Arts, entertainment and recreation\n",
       "19       S                           Other service activities\n",
       "20       T  Activities of households as employers; undiffe...\n",
       "21       U  Activities of extraterritorial organisations a...\n",
       "22     NRP                                        No response"
      ]
     },
     "execution_count": 45,
     "metadata": {},
     "output_type": "execute_result"
    }
   ],
   "source": [
    "sector"
   ]
  },
  {
   "cell_type": "code",
   "execution_count": null,
   "metadata": {},
   "outputs": [
    {
     "data": {
      "text/html": [
       "<div>\n",
       "<style scoped>\n",
       "    .dataframe tbody tr th:only-of-type {\n",
       "        vertical-align: middle;\n",
       "    }\n",
       "\n",
       "    .dataframe tbody tr th {\n",
       "        vertical-align: top;\n",
       "    }\n",
       "\n",
       "    .dataframe thead th {\n",
       "        text-align: right;\n",
       "    }\n",
       "</style>\n",
       "<table border=\"1\" class=\"dataframe\">\n",
       "  <thead>\n",
       "    <tr style=\"text-align: right;\">\n",
       "      <th></th>\n",
       "      <th>isco08</th>\n",
       "      <th>description</th>\n",
       "    </tr>\n",
       "  </thead>\n",
       "  <tbody>\n",
       "    <tr>\n",
       "      <th>0</th>\n",
       "      <td>OC0</td>\n",
       "      <td>Armed forces occupations</td>\n",
       "    </tr>\n",
       "    <tr>\n",
       "      <th>1</th>\n",
       "      <td>OC1</td>\n",
       "      <td>Managers</td>\n",
       "    </tr>\n",
       "    <tr>\n",
       "      <th>2</th>\n",
       "      <td>OC1-5</td>\n",
       "      <td>Non manual workers</td>\n",
       "    </tr>\n",
       "    <tr>\n",
       "      <th>3</th>\n",
       "      <td>OC2</td>\n",
       "      <td>Professionals</td>\n",
       "    </tr>\n",
       "    <tr>\n",
       "      <th>4</th>\n",
       "      <td>OC3</td>\n",
       "      <td>Technicians and associate professionals</td>\n",
       "    </tr>\n",
       "    <tr>\n",
       "      <th>5</th>\n",
       "      <td>OC4</td>\n",
       "      <td>Clerical support workers</td>\n",
       "    </tr>\n",
       "    <tr>\n",
       "      <th>6</th>\n",
       "      <td>OC5</td>\n",
       "      <td>Service and sales workers</td>\n",
       "    </tr>\n",
       "    <tr>\n",
       "      <th>7</th>\n",
       "      <td>OC6</td>\n",
       "      <td>Skilled agricultural, forestry and fishery wor...</td>\n",
       "    </tr>\n",
       "    <tr>\n",
       "      <th>8</th>\n",
       "      <td>OC6-8</td>\n",
       "      <td>Skilled manual workers</td>\n",
       "    </tr>\n",
       "    <tr>\n",
       "      <th>9</th>\n",
       "      <td>OC7</td>\n",
       "      <td>Craft and related trades workers</td>\n",
       "    </tr>\n",
       "    <tr>\n",
       "      <th>10</th>\n",
       "      <td>OC7-9</td>\n",
       "      <td>Manual workers</td>\n",
       "    </tr>\n",
       "    <tr>\n",
       "      <th>11</th>\n",
       "      <td>OC8</td>\n",
       "      <td>Plant and machine operators and assemblers</td>\n",
       "    </tr>\n",
       "    <tr>\n",
       "      <th>12</th>\n",
       "      <td>OC9</td>\n",
       "      <td>Elementary occupations</td>\n",
       "    </tr>\n",
       "    <tr>\n",
       "      <th>13</th>\n",
       "      <td>TOTAL</td>\n",
       "      <td>Total</td>\n",
       "    </tr>\n",
       "  </tbody>\n",
       "</table>\n",
       "</div>"
      ],
      "text/plain": [
       "   isco08                                        description\n",
       "0     OC0                           Armed forces occupations\n",
       "1     OC1                                           Managers\n",
       "2   OC1-5                                 Non manual workers\n",
       "3     OC2                                      Professionals\n",
       "4     OC3            Technicians and associate professionals\n",
       "5     OC4                           Clerical support workers\n",
       "6     OC5                          Service and sales workers\n",
       "7     OC6  Skilled agricultural, forestry and fishery wor...\n",
       "8   OC6-8                             Skilled manual workers\n",
       "9     OC7                   Craft and related trades workers\n",
       "10  OC7-9                                     Manual workers\n",
       "11    OC8         Plant and machine operators and assemblers\n",
       "12    OC9                             Elementary occupations\n",
       "13  TOTAL                                              Total"
      ]
     },
     "metadata": {},
     "output_type": "display_data"
    }
   ],
   "source": [
    "occupation"
   ]
  },
  {
   "cell_type": "code",
   "execution_count": null,
   "metadata": {},
   "outputs": [],
   "source": [
    "'OC1','OC2','OC3','OC4'-->Abstract Occupations\n",
    ",'OC2','OC3'-->Abstract Occupations"
   ]
  },
  {
   "attachments": {},
   "cell_type": "markdown",
   "metadata": {},
   "source": [
    "## Q2"
   ]
  },
  {
   "cell_type": "code",
   "execution_count": null,
   "metadata": {},
   "outputs": [],
   "source": [
    "Avrupada hangi ülkeler de relstive skill endowement  A,M,O,P,S,T,U"
   ]
  },
  {
   "cell_type": "code",
   "execution_count": 60,
   "metadata": {},
   "outputs": [],
   "source": [
    "df=df[~(df['nace_r2'].isin(['A','M','O','P','S','T','U','TOTAL']))].sort_values(['isco08'])"
   ]
  },
  {
   "cell_type": "code",
   "execution_count": 61,
   "metadata": {},
   "outputs": [
    {
     "data": {
      "application/vnd.plotly.v1+json": {
       "config": {
        "plotlyServerURL": "https://plot.ly"
       },
       "data": [
        {
         "marker": {
          "color": [
           "#DC143C",
           "#DC143C",
           "#DC143C",
           "#DC143C",
           "#DC143C",
           "#DC143C",
           "#DC143C",
           "#DC143C",
           "#DC143C",
           "#DC143C",
           "#DC143C",
           "#DC143C",
           "#DC143C",
           "#DC143C",
           "#DC143C",
           "#DC143C",
           "#7FFFD4",
           "#DC143C",
           "#7FFFD4",
           "#DC143C",
           "#DC143C",
           "#7FFFD4",
           "#DC143C",
           "#7FFFD4",
           "#7FFFD4",
           "#DC143C",
           "#DC143C",
           "#DC143C",
           "#DC143C",
           "#DC143C",
           "#DC143C",
           "#7FFFD4",
           "#7FFFD4",
           "#DC143C",
           "#7FFFD4",
           "#7FFFD4",
           "#DC143C",
           "#DC143C",
           "#DC143C",
           "#7FFFD4",
           "#DC143C",
           "#DC143C",
           "#DC143C",
           "#DC143C",
           "#DC143C",
           "#DC143C",
           "#DC143C",
           "#7FFFD4",
           "#DC143C",
           "#DC143C",
           "#DC143C",
           "#DC143C",
           "#DC143C",
           "#DC143C",
           "#DC143C",
           "#DC143C",
           "#DC143C",
           "#DC143C",
           "#DC143C",
           "#DC143C",
           "#DC143C",
           "#7FFFD4",
           "#DC143C",
           "#DC143C",
           "#DC143C",
           "#DC143C",
           "#DC143C",
           "#7FFFD4",
           "#DC143C",
           "#DC143C",
           "#DC143C",
           "#DC143C",
           "#DC143C",
           "#DC143C",
           "#DC143C",
           "#DC143C",
           "#DC143C",
           "#DC143C",
           "#DC143C",
           "#DC143C",
           "#DC143C",
           "#DC143C",
           "#7FFFD4",
           "#DC143C",
           "#DC143C",
           "#DC143C",
           "#7FFFD4",
           "#DC143C",
           "#DC143C",
           "#DC143C",
           "#DC143C",
           "#DC143C",
           "#DC143C",
           "#DC143C",
           "#DC143C",
           "#DC143C",
           "#DC143C",
           "#DC143C",
           "#DC143C",
           "#7FFFD4",
           "#DC143C",
           "#7FFFD4",
           "#DC143C",
           "#DC143C",
           "#DC143C",
           "#DC143C",
           "#DC143C",
           "#DC143C",
           "#DC143C",
           "#DC143C",
           "#DC143C",
           "#7FFFD4",
           "#DC143C",
           "#DC143C",
           "#DC143C",
           "#7FFFD4",
           "#DC143C"
          ],
          "showscale": false,
          "size": [
           4.465116279069767,
           6.991081814656844,
           4.696866695507077,
           4.240909924076521,
           11.53334462156213,
           6.998494602991577,
           7.5483897593924985,
           7.6775788671388465,
           8.47006114911909,
           6.0583086360190235,
           5.987656687238855,
           4.915580793996857,
           2.202763329916009,
           4.791761837051144,
           12.074418604651164,
           7.869329197363319,
           29.68194484481599,
           8.268957419195354,
           31.83660800782536,
           5.297278524364008,
           12.104386094722145,
           25.77021159280447,
           5.471690880515199,
           57.41976310684954,
           29.56518506125332,
           8.881758188533025,
           7.573644983014755,
           1.7029099441232676,
           10.301424732545758,
           4.441111729276021,
           21.82250897635196,
           29.251041656869297,
           33.72557767739297,
           12.548274525009694,
           49.912211660713204,
           27.478299862272188,
           10.533982443362595,
           8.90726144881677,
           13.544186046511628,
           25.363567440898755,
           16.636796242506644,
           15.202061470953462,
           7.489235256083973,
           14.41174443448894,
           13.039300470836936,
           22.172163963842287,
           5.7707320284797925,
           26.27851207406168,
           5.611862315860767,
           8.585923576304666,
           11.95228972251406,
           15.91693406793001,
           14.536328144805557,
           6.92093023255814,
           5.895656840571933,
           10.250096936797208,
           1.368207759373896,
           8.572985408972574,
           2.4356112029751067,
           1.7925190188606572,
           17.86492927039497,
           56.70641735807068,
           1.6886070714728791,
           22.48332878735151,
           3.870457373838718,
           0.6156323072794879,
           12.54604272765126,
           41.58394726638232,
           1.6748037822137076,
           0.21326095385808452,
           5.908076864574355,
           0.15152197551198984,
           1.0890106018385062,
           0.23100553929513076,
           0.1448997585004025,
           0.13496863272542586,
           3.06524454693956,
           3.469152993885088,
           11.06853717322786,
           20.793989937280312,
           9.66925164792555,
           0.7308057674401107,
           29.59504063105203,
           4.457993205901739,
           2.6124279484392843,
           3.797138639937486,
           57.02303829493618,
           1.6521129145400448,
           0.43314185860613835,
           19.013953488372092,
           6.521255797907004,
           3.070019773868073,
           0.31974420463629094,
           1.1521712549731475,
           3.8856145792943,
           0.35905407822151303,
           3.983734233923772,
           20.76494469930448,
           1.6654168984785076,
           42.869270768013735,
           0.5445053009192531,
           39.25581395348837,
           20.622952845930413,
           6.437580534419354,
           8.845519357110469,
           4.776896530847006,
           0.6320524975368542,
           0.9561018558005806,
           16.45581867879345,
           6.989143078712679,
           7.80618698968835,
           25.07879611890489,
           1.9298366531118618,
           6.3687485121249745,
           4.725581395348837,
           31.372002230897937,
           5.55715704173473
          ]
         },
         "mode": "markers",
         "text": [
          4,
          6,
          4,
          4,
          11,
          6,
          7,
          7,
          8,
          6,
          5,
          4,
          2,
          4,
          12,
          7,
          29,
          8,
          31,
          5,
          12,
          25,
          5,
          57,
          29,
          8,
          7,
          1,
          10,
          4,
          21,
          29,
          33,
          12,
          49,
          27,
          10,
          8,
          13,
          25,
          16,
          15,
          7,
          14,
          13,
          22,
          5,
          26,
          5,
          8,
          11,
          15,
          14,
          6,
          5,
          10,
          1,
          8,
          2,
          1,
          17,
          56,
          1,
          22,
          3,
          0,
          12,
          41,
          1,
          0,
          5,
          0,
          1,
          0,
          0,
          0,
          3,
          3,
          11,
          20,
          9,
          0,
          29,
          4,
          2,
          3,
          57,
          1,
          0,
          19,
          6,
          3,
          0,
          1,
          3,
          0,
          3,
          20,
          1,
          42,
          0,
          39,
          20,
          6,
          8,
          4,
          0,
          0,
          16,
          6,
          7,
          25,
          1,
          6,
          4,
          31,
          5
         ],
         "type": "scatter",
         "x": [
          "B",
          "G",
          "E",
          "H",
          "I",
          "R",
          "J",
          "K",
          "L",
          "D",
          "F",
          "N",
          "Q",
          "C",
          "B",
          "G",
          "R",
          "E",
          "Q",
          "H",
          "C",
          "D",
          "F",
          "J",
          "K",
          "L",
          "N",
          "I",
          "N",
          "I",
          "J",
          "Q",
          "K",
          "G",
          "L",
          "R",
          "F",
          "H",
          "B",
          "D",
          "E",
          "C",
          "J",
          "D",
          "R",
          "H",
          "Q",
          "K",
          "I",
          "C",
          "E",
          "L",
          "N",
          "B",
          "F",
          "G",
          "K",
          "L",
          "C",
          "J",
          "N",
          "I",
          "D",
          "Q",
          "H",
          "F",
          "R",
          "G",
          "E",
          "G",
          "N",
          "C",
          "R",
          "I",
          "F",
          "Q",
          "R",
          "L",
          "E",
          "D",
          "G",
          "Q",
          "C",
          "N",
          "J",
          "H",
          "F",
          "I",
          "K",
          "B",
          "F",
          "N",
          "K",
          "Q",
          "G",
          "J",
          "D",
          "C",
          "I",
          "H",
          "R",
          "B",
          "E",
          "Q",
          "H",
          "L",
          "K",
          "J",
          "I",
          "G",
          "F",
          "E",
          "D",
          "C",
          "B",
          "N",
          "R"
         ],
         "y": [
          "OC1",
          "OC1",
          "OC1",
          "OC1",
          "OC1",
          "OC1",
          "OC1",
          "OC1",
          "OC1",
          "OC1",
          "OC1",
          "OC1",
          "OC1",
          "OC1",
          "OC2",
          "OC2",
          "OC2",
          "OC2",
          "OC2",
          "OC2",
          "OC2",
          "OC2",
          "OC2",
          "OC2",
          "OC2",
          "OC2",
          "OC2",
          "OC2",
          "OC3",
          "OC3",
          "OC3",
          "OC3",
          "OC3",
          "OC3",
          "OC3",
          "OC3",
          "OC3",
          "OC3",
          "OC3",
          "OC3",
          "OC3",
          "OC3",
          "OC4",
          "OC4",
          "OC4",
          "OC4",
          "OC4",
          "OC4",
          "OC4",
          "OC4",
          "OC4",
          "OC4",
          "OC4",
          "OC4",
          "OC4",
          "OC4",
          "OC5",
          "OC5",
          "OC5",
          "OC5",
          "OC5",
          "OC5",
          "OC5",
          "OC5",
          "OC5",
          "OC5",
          "OC5",
          "OC5",
          "OC5",
          "OC6",
          "OC6",
          "OC6",
          "OC6",
          "OC6",
          "OC6",
          "OC6",
          "OC7",
          "OC7",
          "OC7",
          "OC7",
          "OC7",
          "OC7",
          "OC7",
          "OC7",
          "OC7",
          "OC7",
          "OC7",
          "OC7",
          "OC7",
          "OC7",
          "OC8",
          "OC8",
          "OC8",
          "OC8",
          "OC8",
          "OC8",
          "OC8",
          "OC8",
          "OC8",
          "OC8",
          "OC8",
          "OC8",
          "OC8",
          "OC9",
          "OC9",
          "OC9",
          "OC9",
          "OC9",
          "OC9",
          "OC9",
          "OC9",
          "OC9",
          "OC9",
          "OC9",
          "OC9",
          "OC9",
          "OC9"
         ]
        }
       ],
       "layout": {
        "template": {
         "data": {
          "bar": [
           {
            "error_x": {
             "color": "#2a3f5f"
            },
            "error_y": {
             "color": "#2a3f5f"
            },
            "marker": {
             "line": {
              "color": "#E5ECF6",
              "width": 0.5
             },
             "pattern": {
              "fillmode": "overlay",
              "size": 10,
              "solidity": 0.2
             }
            },
            "type": "bar"
           }
          ],
          "barpolar": [
           {
            "marker": {
             "line": {
              "color": "#E5ECF6",
              "width": 0.5
             },
             "pattern": {
              "fillmode": "overlay",
              "size": 10,
              "solidity": 0.2
             }
            },
            "type": "barpolar"
           }
          ],
          "carpet": [
           {
            "aaxis": {
             "endlinecolor": "#2a3f5f",
             "gridcolor": "white",
             "linecolor": "white",
             "minorgridcolor": "white",
             "startlinecolor": "#2a3f5f"
            },
            "baxis": {
             "endlinecolor": "#2a3f5f",
             "gridcolor": "white",
             "linecolor": "white",
             "minorgridcolor": "white",
             "startlinecolor": "#2a3f5f"
            },
            "type": "carpet"
           }
          ],
          "choropleth": [
           {
            "colorbar": {
             "outlinewidth": 0,
             "ticks": ""
            },
            "type": "choropleth"
           }
          ],
          "contour": [
           {
            "colorbar": {
             "outlinewidth": 0,
             "ticks": ""
            },
            "colorscale": [
             [
              0,
              "#0d0887"
             ],
             [
              0.1111111111111111,
              "#46039f"
             ],
             [
              0.2222222222222222,
              "#7201a8"
             ],
             [
              0.3333333333333333,
              "#9c179e"
             ],
             [
              0.4444444444444444,
              "#bd3786"
             ],
             [
              0.5555555555555556,
              "#d8576b"
             ],
             [
              0.6666666666666666,
              "#ed7953"
             ],
             [
              0.7777777777777778,
              "#fb9f3a"
             ],
             [
              0.8888888888888888,
              "#fdca26"
             ],
             [
              1,
              "#f0f921"
             ]
            ],
            "type": "contour"
           }
          ],
          "contourcarpet": [
           {
            "colorbar": {
             "outlinewidth": 0,
             "ticks": ""
            },
            "type": "contourcarpet"
           }
          ],
          "heatmap": [
           {
            "colorbar": {
             "outlinewidth": 0,
             "ticks": ""
            },
            "colorscale": [
             [
              0,
              "#0d0887"
             ],
             [
              0.1111111111111111,
              "#46039f"
             ],
             [
              0.2222222222222222,
              "#7201a8"
             ],
             [
              0.3333333333333333,
              "#9c179e"
             ],
             [
              0.4444444444444444,
              "#bd3786"
             ],
             [
              0.5555555555555556,
              "#d8576b"
             ],
             [
              0.6666666666666666,
              "#ed7953"
             ],
             [
              0.7777777777777778,
              "#fb9f3a"
             ],
             [
              0.8888888888888888,
              "#fdca26"
             ],
             [
              1,
              "#f0f921"
             ]
            ],
            "type": "heatmap"
           }
          ],
          "heatmapgl": [
           {
            "colorbar": {
             "outlinewidth": 0,
             "ticks": ""
            },
            "colorscale": [
             [
              0,
              "#0d0887"
             ],
             [
              0.1111111111111111,
              "#46039f"
             ],
             [
              0.2222222222222222,
              "#7201a8"
             ],
             [
              0.3333333333333333,
              "#9c179e"
             ],
             [
              0.4444444444444444,
              "#bd3786"
             ],
             [
              0.5555555555555556,
              "#d8576b"
             ],
             [
              0.6666666666666666,
              "#ed7953"
             ],
             [
              0.7777777777777778,
              "#fb9f3a"
             ],
             [
              0.8888888888888888,
              "#fdca26"
             ],
             [
              1,
              "#f0f921"
             ]
            ],
            "type": "heatmapgl"
           }
          ],
          "histogram": [
           {
            "marker": {
             "pattern": {
              "fillmode": "overlay",
              "size": 10,
              "solidity": 0.2
             }
            },
            "type": "histogram"
           }
          ],
          "histogram2d": [
           {
            "colorbar": {
             "outlinewidth": 0,
             "ticks": ""
            },
            "colorscale": [
             [
              0,
              "#0d0887"
             ],
             [
              0.1111111111111111,
              "#46039f"
             ],
             [
              0.2222222222222222,
              "#7201a8"
             ],
             [
              0.3333333333333333,
              "#9c179e"
             ],
             [
              0.4444444444444444,
              "#bd3786"
             ],
             [
              0.5555555555555556,
              "#d8576b"
             ],
             [
              0.6666666666666666,
              "#ed7953"
             ],
             [
              0.7777777777777778,
              "#fb9f3a"
             ],
             [
              0.8888888888888888,
              "#fdca26"
             ],
             [
              1,
              "#f0f921"
             ]
            ],
            "type": "histogram2d"
           }
          ],
          "histogram2dcontour": [
           {
            "colorbar": {
             "outlinewidth": 0,
             "ticks": ""
            },
            "colorscale": [
             [
              0,
              "#0d0887"
             ],
             [
              0.1111111111111111,
              "#46039f"
             ],
             [
              0.2222222222222222,
              "#7201a8"
             ],
             [
              0.3333333333333333,
              "#9c179e"
             ],
             [
              0.4444444444444444,
              "#bd3786"
             ],
             [
              0.5555555555555556,
              "#d8576b"
             ],
             [
              0.6666666666666666,
              "#ed7953"
             ],
             [
              0.7777777777777778,
              "#fb9f3a"
             ],
             [
              0.8888888888888888,
              "#fdca26"
             ],
             [
              1,
              "#f0f921"
             ]
            ],
            "type": "histogram2dcontour"
           }
          ],
          "mesh3d": [
           {
            "colorbar": {
             "outlinewidth": 0,
             "ticks": ""
            },
            "type": "mesh3d"
           }
          ],
          "parcoords": [
           {
            "line": {
             "colorbar": {
              "outlinewidth": 0,
              "ticks": ""
             }
            },
            "type": "parcoords"
           }
          ],
          "pie": [
           {
            "automargin": true,
            "type": "pie"
           }
          ],
          "scatter": [
           {
            "fillpattern": {
             "fillmode": "overlay",
             "size": 10,
             "solidity": 0.2
            },
            "type": "scatter"
           }
          ],
          "scatter3d": [
           {
            "line": {
             "colorbar": {
              "outlinewidth": 0,
              "ticks": ""
             }
            },
            "marker": {
             "colorbar": {
              "outlinewidth": 0,
              "ticks": ""
             }
            },
            "type": "scatter3d"
           }
          ],
          "scattercarpet": [
           {
            "marker": {
             "colorbar": {
              "outlinewidth": 0,
              "ticks": ""
             }
            },
            "type": "scattercarpet"
           }
          ],
          "scattergeo": [
           {
            "marker": {
             "colorbar": {
              "outlinewidth": 0,
              "ticks": ""
             }
            },
            "type": "scattergeo"
           }
          ],
          "scattergl": [
           {
            "marker": {
             "colorbar": {
              "outlinewidth": 0,
              "ticks": ""
             }
            },
            "type": "scattergl"
           }
          ],
          "scattermapbox": [
           {
            "marker": {
             "colorbar": {
              "outlinewidth": 0,
              "ticks": ""
             }
            },
            "type": "scattermapbox"
           }
          ],
          "scatterpolar": [
           {
            "marker": {
             "colorbar": {
              "outlinewidth": 0,
              "ticks": ""
             }
            },
            "type": "scatterpolar"
           }
          ],
          "scatterpolargl": [
           {
            "marker": {
             "colorbar": {
              "outlinewidth": 0,
              "ticks": ""
             }
            },
            "type": "scatterpolargl"
           }
          ],
          "scatterternary": [
           {
            "marker": {
             "colorbar": {
              "outlinewidth": 0,
              "ticks": ""
             }
            },
            "type": "scatterternary"
           }
          ],
          "surface": [
           {
            "colorbar": {
             "outlinewidth": 0,
             "ticks": ""
            },
            "colorscale": [
             [
              0,
              "#0d0887"
             ],
             [
              0.1111111111111111,
              "#46039f"
             ],
             [
              0.2222222222222222,
              "#7201a8"
             ],
             [
              0.3333333333333333,
              "#9c179e"
             ],
             [
              0.4444444444444444,
              "#bd3786"
             ],
             [
              0.5555555555555556,
              "#d8576b"
             ],
             [
              0.6666666666666666,
              "#ed7953"
             ],
             [
              0.7777777777777778,
              "#fb9f3a"
             ],
             [
              0.8888888888888888,
              "#fdca26"
             ],
             [
              1,
              "#f0f921"
             ]
            ],
            "type": "surface"
           }
          ],
          "table": [
           {
            "cells": {
             "fill": {
              "color": "#EBF0F8"
             },
             "line": {
              "color": "white"
             }
            },
            "header": {
             "fill": {
              "color": "#C8D4E3"
             },
             "line": {
              "color": "white"
             }
            },
            "type": "table"
           }
          ]
         },
         "layout": {
          "annotationdefaults": {
           "arrowcolor": "#2a3f5f",
           "arrowhead": 0,
           "arrowwidth": 1
          },
          "autotypenumbers": "strict",
          "coloraxis": {
           "colorbar": {
            "outlinewidth": 0,
            "ticks": ""
           }
          },
          "colorscale": {
           "diverging": [
            [
             0,
             "#8e0152"
            ],
            [
             0.1,
             "#c51b7d"
            ],
            [
             0.2,
             "#de77ae"
            ],
            [
             0.3,
             "#f1b6da"
            ],
            [
             0.4,
             "#fde0ef"
            ],
            [
             0.5,
             "#f7f7f7"
            ],
            [
             0.6,
             "#e6f5d0"
            ],
            [
             0.7,
             "#b8e186"
            ],
            [
             0.8,
             "#7fbc41"
            ],
            [
             0.9,
             "#4d9221"
            ],
            [
             1,
             "#276419"
            ]
           ],
           "sequential": [
            [
             0,
             "#0d0887"
            ],
            [
             0.1111111111111111,
             "#46039f"
            ],
            [
             0.2222222222222222,
             "#7201a8"
            ],
            [
             0.3333333333333333,
             "#9c179e"
            ],
            [
             0.4444444444444444,
             "#bd3786"
            ],
            [
             0.5555555555555556,
             "#d8576b"
            ],
            [
             0.6666666666666666,
             "#ed7953"
            ],
            [
             0.7777777777777778,
             "#fb9f3a"
            ],
            [
             0.8888888888888888,
             "#fdca26"
            ],
            [
             1,
             "#f0f921"
            ]
           ],
           "sequentialminus": [
            [
             0,
             "#0d0887"
            ],
            [
             0.1111111111111111,
             "#46039f"
            ],
            [
             0.2222222222222222,
             "#7201a8"
            ],
            [
             0.3333333333333333,
             "#9c179e"
            ],
            [
             0.4444444444444444,
             "#bd3786"
            ],
            [
             0.5555555555555556,
             "#d8576b"
            ],
            [
             0.6666666666666666,
             "#ed7953"
            ],
            [
             0.7777777777777778,
             "#fb9f3a"
            ],
            [
             0.8888888888888888,
             "#fdca26"
            ],
            [
             1,
             "#f0f921"
            ]
           ]
          },
          "colorway": [
           "#636efa",
           "#EF553B",
           "#00cc96",
           "#ab63fa",
           "#FFA15A",
           "#19d3f3",
           "#FF6692",
           "#B6E880",
           "#FF97FF",
           "#FECB52"
          ],
          "font": {
           "color": "#2a3f5f"
          },
          "geo": {
           "bgcolor": "white",
           "lakecolor": "white",
           "landcolor": "#E5ECF6",
           "showlakes": true,
           "showland": true,
           "subunitcolor": "white"
          },
          "hoverlabel": {
           "align": "left"
          },
          "hovermode": "closest",
          "mapbox": {
           "style": "light"
          },
          "paper_bgcolor": "white",
          "plot_bgcolor": "#E5ECF6",
          "polar": {
           "angularaxis": {
            "gridcolor": "white",
            "linecolor": "white",
            "ticks": ""
           },
           "bgcolor": "#E5ECF6",
           "radialaxis": {
            "gridcolor": "white",
            "linecolor": "white",
            "ticks": ""
           }
          },
          "scene": {
           "xaxis": {
            "backgroundcolor": "#E5ECF6",
            "gridcolor": "white",
            "gridwidth": 2,
            "linecolor": "white",
            "showbackground": true,
            "ticks": "",
            "zerolinecolor": "white"
           },
           "yaxis": {
            "backgroundcolor": "#E5ECF6",
            "gridcolor": "white",
            "gridwidth": 2,
            "linecolor": "white",
            "showbackground": true,
            "ticks": "",
            "zerolinecolor": "white"
           },
           "zaxis": {
            "backgroundcolor": "#E5ECF6",
            "gridcolor": "white",
            "gridwidth": 2,
            "linecolor": "white",
            "showbackground": true,
            "ticks": "",
            "zerolinecolor": "white"
           }
          },
          "shapedefaults": {
           "line": {
            "color": "#2a3f5f"
           }
          },
          "ternary": {
           "aaxis": {
            "gridcolor": "white",
            "linecolor": "white",
            "ticks": ""
           },
           "baxis": {
            "gridcolor": "white",
            "linecolor": "white",
            "ticks": ""
           },
           "bgcolor": "#E5ECF6",
           "caxis": {
            "gridcolor": "white",
            "linecolor": "white",
            "ticks": ""
           }
          },
          "title": {
           "x": 0.05
          },
          "xaxis": {
           "automargin": true,
           "gridcolor": "white",
           "linecolor": "white",
           "ticks": "",
           "title": {
            "standoff": 15
           },
           "zerolinecolor": "white",
           "zerolinewidth": 2
          },
          "yaxis": {
           "automargin": true,
           "gridcolor": "white",
           "linecolor": "white",
           "ticks": "",
           "title": {
            "standoff": 15
           },
           "zerolinecolor": "white",
           "zerolinewidth": 2
          }
         }
        }
       }
      }
     },
     "metadata": {},
     "output_type": "display_data"
    }
   ],
   "source": [
    "fig = go.Figure(data=[go.Scatter(\n",
    "    x=df.dropna()['nace_r2'], y=df.dropna()['isco08'],\n",
    "    text=df.dropna()['perc'].astype(int),\n",
    "    mode='markers',\n",
    "    #marker_size=np.array(df.dropna()['perc'])\n",
    "    marker=dict(\n",
    "    color=['#7FFFD4' if val is False else '#DC143C' for val in df.dropna()['perc']<25],\n",
    "    size=np.array(df.dropna()['perc']),\n",
    "    showscale=False\n",
    "    )\n",
    "    )\n",
    "])\n",
    "\n",
    "fig.show()"
   ]
  },
  {
   "cell_type": "code",
   "execution_count": 20,
   "metadata": {},
   "outputs": [],
   "source": [
    "try:\n",
    "    del df,fig\n",
    "except:\n",
    "    pass"
   ]
  },
  {
   "cell_type": "code",
   "execution_count": 26,
   "metadata": {},
   "outputs": [
    {
     "data": {
      "text/html": [
       "<div>\n",
       "<style scoped>\n",
       "    .dataframe tbody tr th:only-of-type {\n",
       "        vertical-align: middle;\n",
       "    }\n",
       "\n",
       "    .dataframe tbody tr th {\n",
       "        vertical-align: top;\n",
       "    }\n",
       "\n",
       "    .dataframe thead th {\n",
       "        text-align: right;\n",
       "    }\n",
       "</style>\n",
       "<table border=\"1\" class=\"dataframe\">\n",
       "  <thead>\n",
       "    <tr style=\"text-align: right;\">\n",
       "      <th></th>\n",
       "      <th>code</th>\n",
       "      <th>nace_r2</th>\n",
       "      <th>unit</th>\n",
       "      <th>value</th>\n",
       "      <th>flag</th>\n",
       "      <th>perc</th>\n",
       "    </tr>\n",
       "    <tr>\n",
       "      <th>isco08</th>\n",
       "      <th></th>\n",
       "      <th></th>\n",
       "      <th></th>\n",
       "      <th></th>\n",
       "      <th></th>\n",
       "      <th></th>\n",
       "    </tr>\n",
       "  </thead>\n",
       "  <tbody>\n",
       "    <tr>\n",
       "      <th>OC1</th>\n",
       "      <td>AT</td>\n",
       "      <td>B</td>\n",
       "      <td>THS_PER</td>\n",
       "      <td>NaN</td>\n",
       "      <td>: u</td>\n",
       "      <td>NaN</td>\n",
       "    </tr>\n",
       "    <tr>\n",
       "      <th>OC1</th>\n",
       "      <td>BE</td>\n",
       "      <td>B</td>\n",
       "      <td>THS_PER</td>\n",
       "      <td>NaN</td>\n",
       "      <td>: u</td>\n",
       "      <td>NaN</td>\n",
       "    </tr>\n",
       "    <tr>\n",
       "      <th>OC1</th>\n",
       "      <td>BG</td>\n",
       "      <td>B</td>\n",
       "      <td>THS_PER</td>\n",
       "      <td>NaN</td>\n",
       "      <td>: u</td>\n",
       "      <td>NaN</td>\n",
       "    </tr>\n",
       "    <tr>\n",
       "      <th>OC1</th>\n",
       "      <td>CH</td>\n",
       "      <td>B</td>\n",
       "      <td>THS_PER</td>\n",
       "      <td>NaN</td>\n",
       "      <td>: u</td>\n",
       "      <td>NaN</td>\n",
       "    </tr>\n",
       "    <tr>\n",
       "      <th>OC1</th>\n",
       "      <td>CY</td>\n",
       "      <td>B</td>\n",
       "      <td>THS_PER</td>\n",
       "      <td>NaN</td>\n",
       "      <td>: u</td>\n",
       "      <td>NaN</td>\n",
       "    </tr>\n",
       "    <tr>\n",
       "      <th>...</th>\n",
       "      <td>...</td>\n",
       "      <td>...</td>\n",
       "      <td>...</td>\n",
       "      <td>...</td>\n",
       "      <td>...</td>\n",
       "      <td>...</td>\n",
       "    </tr>\n",
       "    <tr>\n",
       "      <th>OC9</th>\n",
       "      <td>SE</td>\n",
       "      <td>R</td>\n",
       "      <td>THS_PER</td>\n",
       "      <td>3.60</td>\n",
       "      <td>u</td>\n",
       "      <td>0.04</td>\n",
       "    </tr>\n",
       "    <tr>\n",
       "      <th>OC9</th>\n",
       "      <td>SI</td>\n",
       "      <td>R</td>\n",
       "      <td>THS_PER</td>\n",
       "      <td>NaN</td>\n",
       "      <td>: u</td>\n",
       "      <td>NaN</td>\n",
       "    </tr>\n",
       "    <tr>\n",
       "      <th>OC9</th>\n",
       "      <td>SK</td>\n",
       "      <td>R</td>\n",
       "      <td>THS_PER</td>\n",
       "      <td>NaN</td>\n",
       "      <td>: u</td>\n",
       "      <td>NaN</td>\n",
       "    </tr>\n",
       "    <tr>\n",
       "      <th>OC9</th>\n",
       "      <td>TR</td>\n",
       "      <td>R</td>\n",
       "      <td>THS_PER</td>\n",
       "      <td>NaN</td>\n",
       "      <td>:</td>\n",
       "      <td>NaN</td>\n",
       "    </tr>\n",
       "    <tr>\n",
       "      <th>OC9</th>\n",
       "      <td>UK</td>\n",
       "      <td>R</td>\n",
       "      <td>THS_PER</td>\n",
       "      <td>NaN</td>\n",
       "      <td>:</td>\n",
       "      <td>NaN</td>\n",
       "    </tr>\n",
       "  </tbody>\n",
       "</table>\n",
       "<p>4585 rows × 6 columns</p>\n",
       "</div>"
      ],
      "text/plain": [
       "       code nace_r2     unit  value flag  perc\n",
       "isco08                                        \n",
       "OC1      AT       B  THS_PER    NaN  : u   NaN\n",
       "OC1      BE       B  THS_PER    NaN  : u   NaN\n",
       "OC1      BG       B  THS_PER    NaN  : u   NaN\n",
       "OC1      CH       B  THS_PER    NaN  : u   NaN\n",
       "OC1      CY       B  THS_PER    NaN  : u   NaN\n",
       "...     ...     ...      ...    ...  ...   ...\n",
       "OC9      SE       R  THS_PER   3.60    u  0.04\n",
       "OC9      SI       R  THS_PER    NaN  : u   NaN\n",
       "OC9      SK       R  THS_PER    NaN  : u   NaN\n",
       "OC9      TR       R  THS_PER    NaN    :   NaN\n",
       "OC9      UK       R  THS_PER    NaN    :   NaN\n",
       "\n",
       "[4585 rows x 6 columns]"
      ]
     },
     "execution_count": 26,
     "metadata": {},
     "output_type": "execute_result"
    }
   ],
   "source": [
    "df=emp.loc[:,:,2022]\n",
    "df=df[~(df['isco08'].isin(['OC0','NRP','TOTAL']))].reset_index()\n",
    "df=df[~(df['nace_r2'].isin(['NRP','A','M','O','P','S','T','U','TOTAL']))]\n",
    "\n",
    "df['perc'] = 100 * df['value'] / df.groupby('nace_r2')['value'].transform('sum')\n",
    "df=df.set_index('isco08')\n",
    "#df=df.set_index(['code',)\n",
    "df\n"
   ]
  },
  {
   "cell_type": "code",
   "execution_count": 37,
   "metadata": {},
   "outputs": [
    {
     "data": {
      "text/plain": [
       "code       unit   \n",
       "AT         THS_PER      698.10\n",
       "BE         THS_PER      907.90\n",
       "BG         THS_PER      398.60\n",
       "CH         THS_PER      794.80\n",
       "CY         THS_PER       56.40\n",
       "CZ         THS_PER      697.40\n",
       "DE         THS_PER    6,288.50\n",
       "DK         THS_PER      510.90\n",
       "EA20       THS_PER   22,855.20\n",
       "EE         THS_PER      119.10\n",
       "EL         THS_PER      457.70\n",
       "ES         THS_PER    2,421.30\n",
       "EU27_2020  THS_PER   29,804.20\n",
       "FI         THS_PER      404.90\n",
       "FR         THS_PER    4,954.10\n",
       "HR         THS_PER      182.00\n",
       "HU         THS_PER      546.80\n",
       "IE         THS_PER      558.60\n",
       "IS         THS_PER       40.50\n",
       "IT         THS_PER    1,941.40\n",
       "LT         THS_PER      317.70\n",
       "LU         THS_PER       68.20\n",
       "LV         THS_PER      139.80\n",
       "ME         THS_PER        0.00\n",
       "MK         THS_PER        0.00\n",
       "MT         THS_PER       55.90\n",
       "NL         THS_PER    1,932.50\n",
       "NO         THS_PER      570.30\n",
       "PL         THS_PER    2,721.30\n",
       "PT         THS_PER      803.60\n",
       "RO         THS_PER    1,002.30\n",
       "RS         THS_PER      307.30\n",
       "SE         THS_PER    1,007.40\n",
       "SI         THS_PER      152.90\n",
       "SK         THS_PER      266.10\n",
       "TR         THS_PER        0.00\n",
       "UK         THS_PER        0.00\n",
       "Name: value, dtype: float64"
      ]
     },
     "execution_count": 37,
     "metadata": {},
     "output_type": "execute_result"
    }
   ],
   "source": [
    "x=df.loc[['OC1','OC2']].groupby(['code','unit'])['value'].sum()#.assign(nace_r2='A_B').reset_index().set_index(['code','nace_r2','year'])\n",
    "x\n",
    "# df=pd.concat([emp,df1,df2,df3])\n",
    "# df=df.loc[:,['A_B', 'C', 'D_E', 'F', 'G', 'H', 'I_L_O-U', 'J', 'K', 'M', 'N','TOTAL'],:]\n",
    "# #df4.loc['CZ',2002,['A_B','D_E','I_L_O-U']]\n",
    "# del df1, df2, df3"
   ]
  },
  {
   "cell_type": "code",
   "execution_count": 299,
   "metadata": {},
   "outputs": [
    {
     "data": {
      "application/vnd.plotly.v1+json": {
       "config": {
        "plotlyServerURL": "https://plot.ly"
       },
       "data": [
        {
         "marker": {
          "color": [
           "#DC143C",
           "#7FFFD4",
           "#7FFFD4",
           "#DC143C",
           "#7FFFD4",
           "#DC143C",
           "#DC143C",
           "#DC143C",
           "#DC143C",
           "#DC143C",
           "#7FFFD4",
           "#DC143C",
           "#DC143C",
           "#DC143C",
           "#DC143C",
           "#DC143C",
           "#DC143C",
           "#DC143C",
           "#DC143C",
           "#7FFFD4",
           "#DC143C",
           "#DC143C",
           "#7FFFD4",
           "#DC143C",
           "#DC143C",
           "#DC143C",
           "#DC143C",
           "#DC143C",
           "#7FFFD4",
           "#7FFFD4",
           "#DC143C",
           "#DC143C",
           "#DC143C",
           "#DC143C",
           "#DC143C",
           "#DC143C",
           "#DC143C",
           "#7FFFD4",
           "#DC143C",
           "#DC143C",
           "#7FFFD4",
           "#DC143C",
           "#DC143C",
           "#DC143C",
           "#DC143C",
           "#DC143C",
           "#7FFFD4",
           "#7FFFD4",
           "#DC143C",
           "#7FFFD4",
           "#DC143C",
           "#7FFFD4",
           "#DC143C",
           "#DC143C",
           "#DC143C",
           "#7FFFD4",
           "#7FFFD4",
           "#DC143C",
           "#DC143C",
           "#DC143C",
           "#DC143C",
           "#DC143C",
           "#DC143C",
           "#DC143C",
           "#7FFFD4",
           "#7FFFD4",
           "#DC143C",
           "#7FFFD4",
           "#DC143C",
           "#DC143C",
           "#DC143C",
           "#DC143C",
           "#DC143C",
           "#7FFFD4",
           "#7FFFD4",
           "#DC143C",
           "#7FFFD4",
           "#DC143C",
           "#DC143C",
           "#DC143C",
           "#DC143C",
           "#DC143C",
           "#7FFFD4",
           "#DC143C",
           "#DC143C",
           "#DC143C",
           "#DC143C",
           "#DC143C",
           "#DC143C",
           "#DC143C",
           "#DC143C",
           "#7FFFD4",
           "#DC143C",
           "#DC143C",
           "#7FFFD4",
           "#DC143C",
           "#DC143C",
           "#DC143C",
           "#DC143C",
           "#DC143C",
           "#7FFFD4",
           "#DC143C",
           "#DC143C",
           "#7FFFD4",
           "#DC143C",
           "#DC143C",
           "#DC143C",
           "#DC143C",
           "#DC143C",
           "#7FFFD4",
           "#7FFFD4",
           "#DC143C",
           "#7FFFD4",
           "#DC143C",
           "#DC143C",
           "#DC143C",
           "#DC143C",
           "#DC143C",
           "#7FFFD4",
           "#7FFFD4",
           "#DC143C",
           "#7FFFD4",
           "#DC143C",
           "#DC143C",
           "#DC143C",
           "#DC143C",
           "#DC143C",
           "#7FFFD4",
           "#7FFFD4",
           "#DC143C",
           "#7FFFD4",
           "#DC143C",
           "#DC143C",
           "#DC143C",
           "#DC143C",
           "#DC143C",
           "#7FFFD4",
           "#DC143C",
           "#DC143C",
           "#7FFFD4",
           "#DC143C",
           "#DC143C",
           "#DC143C",
           "#DC143C",
           "#DC143C",
           "#7FFFD4",
           "#DC143C",
           "#DC143C",
           "#DC143C",
           "#DC143C",
           "#DC143C",
           "#7FFFD4",
           "#DC143C",
           "#DC143C",
           "#7FFFD4",
           "#DC143C",
           "#DC143C",
           "#7FFFD4",
           "#DC143C",
           "#DC143C",
           "#DC143C",
           "#DC143C",
           "#DC143C",
           "#7FFFD4",
           "#DC143C",
           "#DC143C",
           "#7FFFD4",
           "#DC143C",
           "#DC143C",
           "#DC143C",
           "#DC143C",
           "#DC143C",
           "#DC143C",
           "#7FFFD4",
           "#DC143C",
           "#7FFFD4",
           "#DC143C",
           "#DC143C",
           "#DC143C",
           "#DC143C",
           "#DC143C",
           "#7FFFD4",
           "#DC143C",
           "#DC143C",
           "#DC143C",
           "#DC143C",
           "#DC143C",
           "#DC143C",
           "#DC143C",
           "#DC143C",
           "#7FFFD4",
           "#7FFFD4",
           "#DC143C",
           "#DC143C",
           "#DC143C",
           "#DC143C",
           "#DC143C",
           "#DC143C",
           "#DC143C",
           "#7FFFD4",
           "#DC143C",
           "#DC143C",
           "#7FFFD4",
           "#DC143C",
           "#DC143C",
           "#DC143C",
           "#DC143C",
           "#DC143C",
           "#7FFFD4",
           "#DC143C",
           "#DC143C",
           "#7FFFD4",
           "#DC143C",
           "#DC143C",
           "#DC143C",
           "#DC143C",
           "#DC143C",
           "#7FFFD4",
           "#DC143C",
           "#DC143C",
           "#7FFFD4",
           "#DC143C",
           "#DC143C",
           "#DC143C",
           "#DC143C",
           "#DC143C",
           "#7FFFD4",
           "#7FFFD4",
           "#DC143C",
           "#7FFFD4",
           "#DC143C",
           "#DC143C",
           "#DC143C",
           "#DC143C",
           "#DC143C",
           "#7FFFD4",
           "#7FFFD4",
           "#DC143C",
           "#7FFFD4",
           "#DC143C",
           "#DC143C",
           "#DC143C",
           "#DC143C",
           "#DC143C",
           "#7FFFD4",
           "#7FFFD4",
           "#DC143C",
           "#7FFFD4",
           "#DC143C",
           "#DC143C",
           "#DC143C",
           "#DC143C",
           "#DC143C",
           "#7FFFD4",
           "#DC143C",
           "#DC143C",
           "#DC143C",
           "#DC143C",
           "#7FFFD4",
           "#DC143C",
           "#DC143C",
           "#DC143C",
           "#7FFFD4",
           "#DC143C",
           "#DC143C",
           "#7FFFD4",
           "#DC143C",
           "#DC143C",
           "#DC143C",
           "#DC143C",
           "#DC143C",
           "#7FFFD4",
           "#DC143C",
           "#DC143C",
           "#7FFFD4",
           "#7FFFD4",
           "#7FFFD4",
           "#DC143C",
           "#DC143C",
           "#DC143C",
           "#DC143C",
           "#DC143C",
           "#DC143C",
           "#7FFFD4",
           "#DC143C",
           "#DC143C",
           "#DC143C",
           "#DC143C",
           "#DC143C",
           "#7FFFD4",
           "#7FFFD4",
           "#DC143C",
           "#7FFFD4",
           "#DC143C",
           "#DC143C",
           "#DC143C",
           "#DC143C",
           "#DC143C",
           "#7FFFD4",
           "#DC143C",
           "#DC143C",
           "#DC143C",
           "#DC143C",
           "#DC143C",
           "#DC143C",
           "#DC143C",
           "#DC143C",
           "#DC143C",
           "#7FFFD4",
           "#DC143C",
           "#7FFFD4",
           "#DC143C",
           "#7FFFD4",
           "#DC143C",
           "#DC143C",
           "#DC143C",
           "#DC143C",
           "#DC143C",
           "#DC143C",
           "#7FFFD4",
           "#DC143C",
           "#DC143C",
           "#DC143C",
           "#DC143C",
           "#DC143C",
           "#7FFFD4",
           "#DC143C",
           "#DC143C",
           "#7FFFD4",
           "#DC143C",
           "#DC143C",
           "#DC143C",
           "#DC143C"
          ],
          "showscale": false,
          "size": [
           4.850499963327873,
           20.63662812018678,
           17.42414981786177,
           9.57386988729433,
           17.429039434760284,
           3.2784881304549787,
           12.50764002640393,
           5.88220912891475,
           8.417475490795296,
           8.044832958282845,
           25.41327678725982,
           14.47983382378397,
           11.634498874848537,
           13.025791933529513,
           1.0948589233166002,
           10.176129478968322,
           6.597282326467023,
           9.533494893543361,
           5.571315476975855,
           16.710647842723315,
           9.621981791793113,
           6.264018999868057,
           21.134054624620667,
           3.084179970972424,
           13.187755640585829,
           13.105290935479616,
           11.320754716981133,
           7.682926829268293,
           27.080206378986865,
           16.414165103189493,
           12.985459662288932,
           13.69136960600375,
           2.4108818011257034,
           10.51594746716698,
           3.801594746716698,
           5.417448405253284,
           3.940756413647183,
           19.65088600899233,
           13.224014810896588,
           12.457021951864585,
           19.25416556466543,
           1.2166093626024859,
           11.08172441153134,
           5.448294102089394,
           13.726527373710658,
           4.590029164790855,
           16.021061285208166,
           17.44602556323279,
           9.503024134353776,
           15.4299359940496,
           1.2585879543541663,
           16.53976394135724,
           13.903188553308933,
           5.3083834093444775,
           4.8012588464980075,
           18.29369356544375,
           22.981320670300168,
           13.068412917920769,
           13.689193036687547,
           1.2430854958106239,
           12.181221020092735,
           6.139672984625396,
           7.602141462621004,
           2.9853643386777438,
           29.2596762296673,
           18.642028029038393,
           6.848091929034512,
           17.98594665942001,
           1.5606195892697698,
           7.9661477541830035,
           5.481579253853021,
           9.270546216856244,
           5.266349993449813,
           19.033871742495183,
           18.032213055041666,
           10.743830867944773,
           16.809580878168607,
           2.3274996239707715,
           11.3217028821514,
           7.083004379960727,
           9.381946576817052,
           12.647444298820446,
           20.39646133682831,
           13.82699868938401,
           5.4390563564875505,
           12.647444298820446,
           1.1959370904325033,
           13.843381389252949,
           12.38532110091743,
           7.617955439056357,
           2.8453181583031557,
           19.718463255915267,
           8.17382307294361,
           11.158003648541944,
           23.8516622648188,
           10.92384349388733,
           9.488931848503826,
           6.855991504887413,
           6.983962752198655,
           4.079223851841658,
           18.012734673138098,
           11.347938157971345,
           10.57517744385576,
           21.795557155181992,
           2.323045735789936,
           11.35905320933876,
           7.6561532395081855,
           12.851116533374265,
           5.16944703066478,
           19.20635274911679,
           16.949379519685742,
           9.760342401401235,
           16.497198379396398,
           3.3799596974759907,
           12.101332364032123,
           8.0222429119849,
           8.913744946242044,
           3.439731205375893,
           26.123477530449392,
           19.7060058798824,
           5.959680806383872,
           18.273834523309535,
           2.8727425451490975,
           10.667786644267114,
           7.5472490550188995,
           5.409491810163797,
           7.378648277993471,
           18.830233142106586,
           20.51380116281316,
           8.232021788259837,
           16.02673311313284,
           2.85797067856522,
           8.656197485078518,
           7.610051959591277,
           9.894342392459098,
           4.944228600075198,
           18.14137109913523,
           14.801353553076828,
           9.706730166687555,
           18.86827923298659,
           3.6721393658353176,
           11.724526883068053,
           10.22057901992731,
           7.920792079207921,
           4.432088596009519,
           15.353285740435659,
           14.765238879736408,
           7.894014277869303,
           14.913966684971626,
           2.9608273842211243,
           14.86820428336079,
           15.035237049240346,
           9.777137104155226,
           8.842436074472644,
           24.598828627208228,
           12.008951954668825,
           8.918622922717967,
           19.032427027284417,
           3.2141326603495073,
           9.29003380791391,
           5.909242417027761,
           8.185324508356745,
           10.883190883190885,
           27.236467236467238,
           14.586894586894587,
           4.216524216524217,
           19.772079772079774,
           2.7920227920227925,
           10.883190883190885,
           4.843304843304844,
           4.786324786324786,
           3.6037413436460115,
           14.991456066193003,
           17.97373864556165,
           12.198938753485026,
           17.6594118176095,
           2.1341847288425217,
           13.267829840813024,
           6.907095961867074,
           11.263602841982195,
           9.22923994494571,
           23.619819544272822,
           9.787429270530662,
           4.541978895855635,
           14.077076005505429,
           4.434928888209207,
           14.444104603150329,
           11.28612937758067,
           8.579293469949533,
           2.1986353297952994,
           39.8786959818044,
           18.53677028051554,
           8.074298711144806,
           10.42456406368461,
           1.5542077331311597,
           6.633813495072024,
           4.397270659590599,
           8.301743745261561,
           10.287109147971638,
           16.994071835406253,
           14.006741834243869,
           5.707311402998954,
           15.052888527257934,
           3.243054748343601,
           12.635127281180983,
           9.624549575729397,
           12.449145646867372,
           5.398230088495575,
           19.469026548672566,
           12.52212389380531,
           8.761061946902656,
           23.36283185840708,
           5.929203539823009,
           9.424778761061948,
           7.345132743362833,
           7.787610619469028,
           3.9609332609875203,
           15.219750406945197,
           10.105805751492131,
           5.358111774281063,
           17.105263157894736,
           7.514921323928377,
           12.940857297883884,
           14.460119370591427,
           13.334237655995658,
           10.686015831134565,
           18.601583113456464,
           15.523306948109056,
           11.257695690413367,
           19.656992084432716,
           0.967458223394899,
           9.894459102902374,
           5.233069481090589,
           8.179419525065963,
           5.623872346415181,
           28.91399761993116,
           17.313081421387352,
           10.010364815928547,
           17.22094972424471,
           1.7607391009481888,
           8.019296472123765,
           4.602746036417613,
           6.5349524626034885,
           9.085751337331821,
           28.327119468309288,
           16.481601556167938,
           5.604636083644028,
           20.55438482736262,
           1.6331658291457285,
           9.409952990760253,
           5.628951207651159,
           3.2744366996271683,
           6.251341015511605,
           20.194747005591246,
           13.61272734157085,
           6.2147391803713194,
           13.207582890535269,
           8.431043404727948,
           15.471217074125025,
           10.475066577475987,
           6.141535510090747,
           5.590580585638029,
           19.631834457307296,
           11.862135623750632,
           8.097005909100893,
           18.97941699800101,
           3.1236957142543322,
           13.61070228236276,
           9.039386683654415,
           10.065241745930628,
           1.9697485530859395,
           16.144642770293274,
           6.351831136617869,
           4.6447157239433885,
           15.801760614756091,
           15.518457273478917,
           17.556295900004866,
           12.532221195467146,
           9.480326832352512,
           2.9782100580562467,
           14.555530422981226,
           12.312448164065447,
           8.27490009801704,
           15.750584332353164,
           13.899570232978965,
           12.157882831938476,
           10.687627233657544,
           9.383246625951896,
           6.384233134001517,
           29.564979364945675,
           18.775793817906173,
           6.37581066284848,
           18.026193885285945,
           1.3223279710266993,
           9.321569948622926,
           5.914680367219741,
           4.314410848142845,
           7.509627727856226,
           22.96747967479675,
           13.58579375267437,
           7.96961916987591,
           13.48951647411211,
           3.0594779632006848,
           14.31322207958922,
           10.558408215661105,
           6.546854942233633,
           4.399025986986548,
           12.474551914095246,
           15.83968703844158,
           9.313001476986948,
           18.9333759131372,
           0.9141351642648996,
           15.727915053291285,
           14.650113767913457,
           7.748193684882839,
           5.491108299173341,
           11.20043643968267,
           6.304507603597596,
           7.243686399903013,
           19.218121339324274,
           12.884441986103639,
           13.591383347098358,
           10.038491555346765,
           14.027823029770339,
           11.4997194538702,
           26.32057071098405,
           13.011996686883801,
           9.799743500681327,
           17.10563229753921,
           1.061065540919657,
           8.108451118176719,
           4.964998530472654,
           8.127822160472387
          ]
         },
         "mode": "markers",
         "text": [
          4,
          20,
          17,
          9,
          17,
          3,
          12,
          5,
          8,
          8,
          25,
          14,
          11,
          13,
          1,
          10,
          6,
          9,
          5,
          16,
          9,
          6,
          21,
          3,
          13,
          13,
          11,
          7,
          27,
          16,
          12,
          13,
          2,
          10,
          3,
          5,
          3,
          19,
          13,
          12,
          19,
          1,
          11,
          5,
          13,
          4,
          16,
          17,
          9,
          15,
          1,
          16,
          13,
          5,
          4,
          18,
          22,
          13,
          13,
          1,
          12,
          6,
          7,
          2,
          29,
          18,
          6,
          17,
          1,
          7,
          5,
          9,
          5,
          19,
          18,
          10,
          16,
          2,
          11,
          7,
          9,
          12,
          20,
          13,
          5,
          12,
          1,
          13,
          12,
          7,
          2,
          19,
          8,
          11,
          23,
          10,
          9,
          6,
          6,
          4,
          18,
          11,
          10,
          21,
          2,
          11,
          7,
          12,
          5,
          19,
          16,
          9,
          16,
          3,
          12,
          8,
          8,
          3,
          26,
          19,
          5,
          18,
          2,
          10,
          7,
          5,
          7,
          18,
          20,
          8,
          16,
          2,
          8,
          7,
          9,
          4,
          18,
          14,
          9,
          18,
          3,
          11,
          10,
          7,
          4,
          15,
          14,
          7,
          14,
          2,
          14,
          15,
          9,
          8,
          24,
          12,
          8,
          19,
          3,
          9,
          5,
          8,
          10,
          27,
          14,
          4,
          19,
          2,
          10,
          4,
          4,
          3,
          14,
          17,
          12,
          17,
          2,
          13,
          6,
          11,
          9,
          23,
          9,
          4,
          14,
          4,
          14,
          11,
          8,
          2,
          39,
          18,
          8,
          10,
          1,
          6,
          4,
          8,
          10,
          16,
          14,
          5,
          15,
          3,
          12,
          9,
          12,
          5,
          19,
          12,
          8,
          23,
          5,
          9,
          7,
          7,
          3,
          15,
          10,
          5,
          17,
          7,
          12,
          14,
          13,
          10,
          18,
          15,
          11,
          19,
          0,
          9,
          5,
          8,
          5,
          28,
          17,
          10,
          17,
          1,
          8,
          4,
          6,
          9,
          28,
          16,
          5,
          20,
          1,
          9,
          5,
          3,
          6,
          20,
          13,
          6,
          13,
          8,
          15,
          10,
          6,
          5,
          19,
          11,
          8,
          18,
          3,
          13,
          9,
          10,
          1,
          16,
          6,
          4,
          15,
          15,
          17,
          12,
          9,
          2,
          14,
          12,
          8,
          15,
          13,
          12,
          10,
          9,
          6,
          29,
          18,
          6,
          18,
          1,
          9,
          5,
          4,
          7,
          22,
          13,
          7,
          13,
          3,
          14,
          10,
          6,
          4,
          12,
          15,
          9,
          18,
          0,
          15,
          14,
          7,
          5,
          11,
          6,
          7,
          19,
          12,
          13,
          10,
          14,
          11,
          26,
          13,
          9,
          17,
          1,
          8,
          4,
          8
         ],
         "type": "scatter",
         "x": [
          "AT",
          "AT",
          "AT",
          "AT",
          "AT",
          "AT",
          "AT",
          "AT",
          "AT",
          "BE",
          "BE",
          "BE",
          "BE",
          "BE",
          "BE",
          "BE",
          "BE",
          "BE",
          "BG",
          "BG",
          "BG",
          "BG",
          "BG",
          "BG",
          "BG",
          "BG",
          "BG",
          "CH",
          "CH",
          "CH",
          "CH",
          "CH",
          "CH",
          "CH",
          "CH",
          "CH",
          "CY",
          "CY",
          "CY",
          "CY",
          "CY",
          "CY",
          "CY",
          "CY",
          "CY",
          "CZ",
          "CZ",
          "CZ",
          "CZ",
          "CZ",
          "CZ",
          "CZ",
          "CZ",
          "CZ",
          "DE",
          "DE",
          "DE",
          "DE",
          "DE",
          "DE",
          "DE",
          "DE",
          "DE",
          "DK",
          "DK",
          "DK",
          "DK",
          "DK",
          "DK",
          "DK",
          "DK",
          "DK",
          "EA20",
          "EA20",
          "EA20",
          "EA20",
          "EA20",
          "EA20",
          "EA20",
          "EA20",
          "EA20",
          "EE",
          "EE",
          "EE",
          "EE",
          "EE",
          "EE",
          "EE",
          "EE",
          "EE",
          "EL",
          "EL",
          "EL",
          "EL",
          "EL",
          "EL",
          "EL",
          "EL",
          "EL",
          "ES",
          "ES",
          "ES",
          "ES",
          "ES",
          "ES",
          "ES",
          "ES",
          "ES",
          "EU27_2020",
          "EU27_2020",
          "EU27_2020",
          "EU27_2020",
          "EU27_2020",
          "EU27_2020",
          "EU27_2020",
          "EU27_2020",
          "EU27_2020",
          "FI",
          "FI",
          "FI",
          "FI",
          "FI",
          "FI",
          "FI",
          "FI",
          "FI",
          "FR",
          "FR",
          "FR",
          "FR",
          "FR",
          "FR",
          "FR",
          "FR",
          "FR",
          "HR",
          "HR",
          "HR",
          "HR",
          "HR",
          "HR",
          "HR",
          "HR",
          "HR",
          "HU",
          "HU",
          "HU",
          "HU",
          "HU",
          "HU",
          "HU",
          "HU",
          "HU",
          "IE",
          "IE",
          "IE",
          "IE",
          "IE",
          "IE",
          "IE",
          "IE",
          "IE",
          "IS",
          "IS",
          "IS",
          "IS",
          "IS",
          "IS",
          "IS",
          "IS",
          "IS",
          "IT",
          "IT",
          "IT",
          "IT",
          "IT",
          "IT",
          "IT",
          "IT",
          "IT",
          "LT",
          "LT",
          "LT",
          "LT",
          "LT",
          "LT",
          "LT",
          "LT",
          "LT",
          "LU",
          "LU",
          "LU",
          "LU",
          "LU",
          "LU",
          "LU",
          "LU",
          "LU",
          "LV",
          "LV",
          "LV",
          "LV",
          "LV",
          "LV",
          "LV",
          "LV",
          "LV",
          "ME",
          "ME",
          "ME",
          "ME",
          "ME",
          "ME",
          "ME",
          "ME",
          "ME",
          "MK",
          "MK",
          "MK",
          "MK",
          "MK",
          "MK",
          "MK",
          "MK",
          "MK",
          "MT",
          "MT",
          "MT",
          "MT",
          "MT",
          "MT",
          "MT",
          "MT",
          "MT",
          "NL",
          "NL",
          "NL",
          "NL",
          "NL",
          "NL",
          "NL",
          "NL",
          "NL",
          "NO",
          "NO",
          "NO",
          "NO",
          "NO",
          "NO",
          "NO",
          "NO",
          "NO",
          "PL",
          "PL",
          "PL",
          "PL",
          "PL",
          "PL",
          "PL",
          "PL",
          "PL",
          "PT",
          "PT",
          "PT",
          "PT",
          "PT",
          "PT",
          "PT",
          "PT",
          "PT",
          "RO",
          "RO",
          "RO",
          "RO",
          "RO",
          "RO",
          "RO",
          "RO",
          "RO",
          "RS",
          "RS",
          "RS",
          "RS",
          "RS",
          "RS",
          "RS",
          "RS",
          "RS",
          "SE",
          "SE",
          "SE",
          "SE",
          "SE",
          "SE",
          "SE",
          "SE",
          "SE",
          "SI",
          "SI",
          "SI",
          "SI",
          "SI",
          "SI",
          "SI",
          "SI",
          "SI",
          "SK",
          "SK",
          "SK",
          "SK",
          "SK",
          "SK",
          "SK",
          "SK",
          "SK",
          "TR",
          "TR",
          "TR",
          "TR",
          "TR",
          "TR",
          "TR",
          "TR",
          "TR",
          "UK",
          "UK",
          "UK",
          "UK",
          "UK",
          "UK",
          "UK",
          "UK",
          "UK"
         ],
         "y": [
          "OC1",
          "OC2",
          "OC3",
          "OC4",
          "OC5",
          "OC6",
          "OC7",
          "OC8",
          "OC9",
          "OC1",
          "OC2",
          "OC3",
          "OC4",
          "OC5",
          "OC6",
          "OC7",
          "OC8",
          "OC9",
          "OC1",
          "OC2",
          "OC3",
          "OC4",
          "OC5",
          "OC6",
          "OC7",
          "OC8",
          "OC9",
          "OC1",
          "OC2",
          "OC3",
          "OC4",
          "OC5",
          "OC6",
          "OC7",
          "OC8",
          "OC9",
          "OC1",
          "OC2",
          "OC3",
          "OC4",
          "OC5",
          "OC6",
          "OC7",
          "OC8",
          "OC9",
          "OC1",
          "OC2",
          "OC3",
          "OC4",
          "OC5",
          "OC6",
          "OC7",
          "OC8",
          "OC9",
          "OC1",
          "OC2",
          "OC3",
          "OC4",
          "OC5",
          "OC6",
          "OC7",
          "OC8",
          "OC9",
          "OC1",
          "OC2",
          "OC3",
          "OC4",
          "OC5",
          "OC6",
          "OC7",
          "OC8",
          "OC9",
          "OC1",
          "OC2",
          "OC3",
          "OC4",
          "OC5",
          "OC6",
          "OC7",
          "OC8",
          "OC9",
          "OC1",
          "OC2",
          "OC3",
          "OC4",
          "OC5",
          "OC6",
          "OC7",
          "OC8",
          "OC9",
          "OC1",
          "OC2",
          "OC3",
          "OC4",
          "OC5",
          "OC6",
          "OC7",
          "OC8",
          "OC9",
          "OC1",
          "OC2",
          "OC3",
          "OC4",
          "OC5",
          "OC6",
          "OC7",
          "OC8",
          "OC9",
          "OC1",
          "OC2",
          "OC3",
          "OC4",
          "OC5",
          "OC6",
          "OC7",
          "OC8",
          "OC9",
          "OC1",
          "OC2",
          "OC3",
          "OC4",
          "OC5",
          "OC6",
          "OC7",
          "OC8",
          "OC9",
          "OC1",
          "OC2",
          "OC3",
          "OC4",
          "OC5",
          "OC6",
          "OC7",
          "OC8",
          "OC9",
          "OC1",
          "OC2",
          "OC3",
          "OC4",
          "OC5",
          "OC6",
          "OC7",
          "OC8",
          "OC9",
          "OC1",
          "OC2",
          "OC3",
          "OC4",
          "OC5",
          "OC6",
          "OC7",
          "OC8",
          "OC9",
          "OC1",
          "OC2",
          "OC3",
          "OC4",
          "OC5",
          "OC6",
          "OC7",
          "OC8",
          "OC9",
          "OC1",
          "OC2",
          "OC3",
          "OC4",
          "OC5",
          "OC6",
          "OC7",
          "OC8",
          "OC9",
          "OC1",
          "OC2",
          "OC3",
          "OC4",
          "OC5",
          "OC6",
          "OC7",
          "OC8",
          "OC9",
          "OC1",
          "OC2",
          "OC3",
          "OC4",
          "OC5",
          "OC6",
          "OC7",
          "OC8",
          "OC9",
          "OC1",
          "OC2",
          "OC3",
          "OC4",
          "OC5",
          "OC6",
          "OC7",
          "OC8",
          "OC9",
          "OC1",
          "OC2",
          "OC3",
          "OC4",
          "OC5",
          "OC6",
          "OC7",
          "OC8",
          "OC9",
          "OC1",
          "OC2",
          "OC3",
          "OC4",
          "OC5",
          "OC6",
          "OC7",
          "OC8",
          "OC9",
          "OC1",
          "OC2",
          "OC3",
          "OC4",
          "OC5",
          "OC6",
          "OC7",
          "OC8",
          "OC9",
          "OC1",
          "OC2",
          "OC3",
          "OC4",
          "OC5",
          "OC6",
          "OC7",
          "OC8",
          "OC9",
          "OC1",
          "OC2",
          "OC3",
          "OC4",
          "OC5",
          "OC6",
          "OC7",
          "OC8",
          "OC9",
          "OC1",
          "OC2",
          "OC3",
          "OC4",
          "OC5",
          "OC6",
          "OC7",
          "OC8",
          "OC9",
          "OC1",
          "OC2",
          "OC3",
          "OC4",
          "OC5",
          "OC6",
          "OC7",
          "OC8",
          "OC9",
          "OC1",
          "OC2",
          "OC3",
          "OC4",
          "OC5",
          "OC6",
          "OC7",
          "OC8",
          "OC9",
          "OC1",
          "OC2",
          "OC3",
          "OC4",
          "OC5",
          "OC6",
          "OC7",
          "OC8",
          "OC9",
          "OC1",
          "OC2",
          "OC3",
          "OC4",
          "OC5",
          "OC6",
          "OC7",
          "OC8",
          "OC9",
          "OC1",
          "OC2",
          "OC3",
          "OC4",
          "OC5",
          "OC6",
          "OC7",
          "OC8",
          "OC9",
          "OC1",
          "OC2",
          "OC3",
          "OC4",
          "OC5",
          "OC6",
          "OC7",
          "OC8",
          "OC9",
          "OC1",
          "OC2",
          "OC3",
          "OC4",
          "OC5",
          "OC6",
          "OC7",
          "OC8",
          "OC9",
          "OC1",
          "OC2",
          "OC3",
          "OC4",
          "OC5",
          "OC6",
          "OC7",
          "OC8",
          "OC9",
          "OC1",
          "OC2",
          "OC3",
          "OC4",
          "OC5",
          "OC6",
          "OC7",
          "OC8",
          "OC9"
         ]
        }
       ],
       "layout": {
        "template": {
         "data": {
          "bar": [
           {
            "error_x": {
             "color": "#2a3f5f"
            },
            "error_y": {
             "color": "#2a3f5f"
            },
            "marker": {
             "line": {
              "color": "#E5ECF6",
              "width": 0.5
             },
             "pattern": {
              "fillmode": "overlay",
              "size": 10,
              "solidity": 0.2
             }
            },
            "type": "bar"
           }
          ],
          "barpolar": [
           {
            "marker": {
             "line": {
              "color": "#E5ECF6",
              "width": 0.5
             },
             "pattern": {
              "fillmode": "overlay",
              "size": 10,
              "solidity": 0.2
             }
            },
            "type": "barpolar"
           }
          ],
          "carpet": [
           {
            "aaxis": {
             "endlinecolor": "#2a3f5f",
             "gridcolor": "white",
             "linecolor": "white",
             "minorgridcolor": "white",
             "startlinecolor": "#2a3f5f"
            },
            "baxis": {
             "endlinecolor": "#2a3f5f",
             "gridcolor": "white",
             "linecolor": "white",
             "minorgridcolor": "white",
             "startlinecolor": "#2a3f5f"
            },
            "type": "carpet"
           }
          ],
          "choropleth": [
           {
            "colorbar": {
             "outlinewidth": 0,
             "ticks": ""
            },
            "type": "choropleth"
           }
          ],
          "contour": [
           {
            "colorbar": {
             "outlinewidth": 0,
             "ticks": ""
            },
            "colorscale": [
             [
              0,
              "#0d0887"
             ],
             [
              0.1111111111111111,
              "#46039f"
             ],
             [
              0.2222222222222222,
              "#7201a8"
             ],
             [
              0.3333333333333333,
              "#9c179e"
             ],
             [
              0.4444444444444444,
              "#bd3786"
             ],
             [
              0.5555555555555556,
              "#d8576b"
             ],
             [
              0.6666666666666666,
              "#ed7953"
             ],
             [
              0.7777777777777778,
              "#fb9f3a"
             ],
             [
              0.8888888888888888,
              "#fdca26"
             ],
             [
              1,
              "#f0f921"
             ]
            ],
            "type": "contour"
           }
          ],
          "contourcarpet": [
           {
            "colorbar": {
             "outlinewidth": 0,
             "ticks": ""
            },
            "type": "contourcarpet"
           }
          ],
          "heatmap": [
           {
            "colorbar": {
             "outlinewidth": 0,
             "ticks": ""
            },
            "colorscale": [
             [
              0,
              "#0d0887"
             ],
             [
              0.1111111111111111,
              "#46039f"
             ],
             [
              0.2222222222222222,
              "#7201a8"
             ],
             [
              0.3333333333333333,
              "#9c179e"
             ],
             [
              0.4444444444444444,
              "#bd3786"
             ],
             [
              0.5555555555555556,
              "#d8576b"
             ],
             [
              0.6666666666666666,
              "#ed7953"
             ],
             [
              0.7777777777777778,
              "#fb9f3a"
             ],
             [
              0.8888888888888888,
              "#fdca26"
             ],
             [
              1,
              "#f0f921"
             ]
            ],
            "type": "heatmap"
           }
          ],
          "heatmapgl": [
           {
            "colorbar": {
             "outlinewidth": 0,
             "ticks": ""
            },
            "colorscale": [
             [
              0,
              "#0d0887"
             ],
             [
              0.1111111111111111,
              "#46039f"
             ],
             [
              0.2222222222222222,
              "#7201a8"
             ],
             [
              0.3333333333333333,
              "#9c179e"
             ],
             [
              0.4444444444444444,
              "#bd3786"
             ],
             [
              0.5555555555555556,
              "#d8576b"
             ],
             [
              0.6666666666666666,
              "#ed7953"
             ],
             [
              0.7777777777777778,
              "#fb9f3a"
             ],
             [
              0.8888888888888888,
              "#fdca26"
             ],
             [
              1,
              "#f0f921"
             ]
            ],
            "type": "heatmapgl"
           }
          ],
          "histogram": [
           {
            "marker": {
             "pattern": {
              "fillmode": "overlay",
              "size": 10,
              "solidity": 0.2
             }
            },
            "type": "histogram"
           }
          ],
          "histogram2d": [
           {
            "colorbar": {
             "outlinewidth": 0,
             "ticks": ""
            },
            "colorscale": [
             [
              0,
              "#0d0887"
             ],
             [
              0.1111111111111111,
              "#46039f"
             ],
             [
              0.2222222222222222,
              "#7201a8"
             ],
             [
              0.3333333333333333,
              "#9c179e"
             ],
             [
              0.4444444444444444,
              "#bd3786"
             ],
             [
              0.5555555555555556,
              "#d8576b"
             ],
             [
              0.6666666666666666,
              "#ed7953"
             ],
             [
              0.7777777777777778,
              "#fb9f3a"
             ],
             [
              0.8888888888888888,
              "#fdca26"
             ],
             [
              1,
              "#f0f921"
             ]
            ],
            "type": "histogram2d"
           }
          ],
          "histogram2dcontour": [
           {
            "colorbar": {
             "outlinewidth": 0,
             "ticks": ""
            },
            "colorscale": [
             [
              0,
              "#0d0887"
             ],
             [
              0.1111111111111111,
              "#46039f"
             ],
             [
              0.2222222222222222,
              "#7201a8"
             ],
             [
              0.3333333333333333,
              "#9c179e"
             ],
             [
              0.4444444444444444,
              "#bd3786"
             ],
             [
              0.5555555555555556,
              "#d8576b"
             ],
             [
              0.6666666666666666,
              "#ed7953"
             ],
             [
              0.7777777777777778,
              "#fb9f3a"
             ],
             [
              0.8888888888888888,
              "#fdca26"
             ],
             [
              1,
              "#f0f921"
             ]
            ],
            "type": "histogram2dcontour"
           }
          ],
          "mesh3d": [
           {
            "colorbar": {
             "outlinewidth": 0,
             "ticks": ""
            },
            "type": "mesh3d"
           }
          ],
          "parcoords": [
           {
            "line": {
             "colorbar": {
              "outlinewidth": 0,
              "ticks": ""
             }
            },
            "type": "parcoords"
           }
          ],
          "pie": [
           {
            "automargin": true,
            "type": "pie"
           }
          ],
          "scatter": [
           {
            "fillpattern": {
             "fillmode": "overlay",
             "size": 10,
             "solidity": 0.2
            },
            "type": "scatter"
           }
          ],
          "scatter3d": [
           {
            "line": {
             "colorbar": {
              "outlinewidth": 0,
              "ticks": ""
             }
            },
            "marker": {
             "colorbar": {
              "outlinewidth": 0,
              "ticks": ""
             }
            },
            "type": "scatter3d"
           }
          ],
          "scattercarpet": [
           {
            "marker": {
             "colorbar": {
              "outlinewidth": 0,
              "ticks": ""
             }
            },
            "type": "scattercarpet"
           }
          ],
          "scattergeo": [
           {
            "marker": {
             "colorbar": {
              "outlinewidth": 0,
              "ticks": ""
             }
            },
            "type": "scattergeo"
           }
          ],
          "scattergl": [
           {
            "marker": {
             "colorbar": {
              "outlinewidth": 0,
              "ticks": ""
             }
            },
            "type": "scattergl"
           }
          ],
          "scattermapbox": [
           {
            "marker": {
             "colorbar": {
              "outlinewidth": 0,
              "ticks": ""
             }
            },
            "type": "scattermapbox"
           }
          ],
          "scatterpolar": [
           {
            "marker": {
             "colorbar": {
              "outlinewidth": 0,
              "ticks": ""
             }
            },
            "type": "scatterpolar"
           }
          ],
          "scatterpolargl": [
           {
            "marker": {
             "colorbar": {
              "outlinewidth": 0,
              "ticks": ""
             }
            },
            "type": "scatterpolargl"
           }
          ],
          "scatterternary": [
           {
            "marker": {
             "colorbar": {
              "outlinewidth": 0,
              "ticks": ""
             }
            },
            "type": "scatterternary"
           }
          ],
          "surface": [
           {
            "colorbar": {
             "outlinewidth": 0,
             "ticks": ""
            },
            "colorscale": [
             [
              0,
              "#0d0887"
             ],
             [
              0.1111111111111111,
              "#46039f"
             ],
             [
              0.2222222222222222,
              "#7201a8"
             ],
             [
              0.3333333333333333,
              "#9c179e"
             ],
             [
              0.4444444444444444,
              "#bd3786"
             ],
             [
              0.5555555555555556,
              "#d8576b"
             ],
             [
              0.6666666666666666,
              "#ed7953"
             ],
             [
              0.7777777777777778,
              "#fb9f3a"
             ],
             [
              0.8888888888888888,
              "#fdca26"
             ],
             [
              1,
              "#f0f921"
             ]
            ],
            "type": "surface"
           }
          ],
          "table": [
           {
            "cells": {
             "fill": {
              "color": "#EBF0F8"
             },
             "line": {
              "color": "white"
             }
            },
            "header": {
             "fill": {
              "color": "#C8D4E3"
             },
             "line": {
              "color": "white"
             }
            },
            "type": "table"
           }
          ]
         },
         "layout": {
          "annotationdefaults": {
           "arrowcolor": "#2a3f5f",
           "arrowhead": 0,
           "arrowwidth": 1
          },
          "autotypenumbers": "strict",
          "coloraxis": {
           "colorbar": {
            "outlinewidth": 0,
            "ticks": ""
           }
          },
          "colorscale": {
           "diverging": [
            [
             0,
             "#8e0152"
            ],
            [
             0.1,
             "#c51b7d"
            ],
            [
             0.2,
             "#de77ae"
            ],
            [
             0.3,
             "#f1b6da"
            ],
            [
             0.4,
             "#fde0ef"
            ],
            [
             0.5,
             "#f7f7f7"
            ],
            [
             0.6,
             "#e6f5d0"
            ],
            [
             0.7,
             "#b8e186"
            ],
            [
             0.8,
             "#7fbc41"
            ],
            [
             0.9,
             "#4d9221"
            ],
            [
             1,
             "#276419"
            ]
           ],
           "sequential": [
            [
             0,
             "#0d0887"
            ],
            [
             0.1111111111111111,
             "#46039f"
            ],
            [
             0.2222222222222222,
             "#7201a8"
            ],
            [
             0.3333333333333333,
             "#9c179e"
            ],
            [
             0.4444444444444444,
             "#bd3786"
            ],
            [
             0.5555555555555556,
             "#d8576b"
            ],
            [
             0.6666666666666666,
             "#ed7953"
            ],
            [
             0.7777777777777778,
             "#fb9f3a"
            ],
            [
             0.8888888888888888,
             "#fdca26"
            ],
            [
             1,
             "#f0f921"
            ]
           ],
           "sequentialminus": [
            [
             0,
             "#0d0887"
            ],
            [
             0.1111111111111111,
             "#46039f"
            ],
            [
             0.2222222222222222,
             "#7201a8"
            ],
            [
             0.3333333333333333,
             "#9c179e"
            ],
            [
             0.4444444444444444,
             "#bd3786"
            ],
            [
             0.5555555555555556,
             "#d8576b"
            ],
            [
             0.6666666666666666,
             "#ed7953"
            ],
            [
             0.7777777777777778,
             "#fb9f3a"
            ],
            [
             0.8888888888888888,
             "#fdca26"
            ],
            [
             1,
             "#f0f921"
            ]
           ]
          },
          "colorway": [
           "#636efa",
           "#EF553B",
           "#00cc96",
           "#ab63fa",
           "#FFA15A",
           "#19d3f3",
           "#FF6692",
           "#B6E880",
           "#FF97FF",
           "#FECB52"
          ],
          "font": {
           "color": "#2a3f5f"
          },
          "geo": {
           "bgcolor": "white",
           "lakecolor": "white",
           "landcolor": "#E5ECF6",
           "showlakes": true,
           "showland": true,
           "subunitcolor": "white"
          },
          "hoverlabel": {
           "align": "left"
          },
          "hovermode": "closest",
          "mapbox": {
           "style": "light"
          },
          "paper_bgcolor": "white",
          "plot_bgcolor": "#E5ECF6",
          "polar": {
           "angularaxis": {
            "gridcolor": "white",
            "linecolor": "white",
            "ticks": ""
           },
           "bgcolor": "#E5ECF6",
           "radialaxis": {
            "gridcolor": "white",
            "linecolor": "white",
            "ticks": ""
           }
          },
          "scene": {
           "xaxis": {
            "backgroundcolor": "#E5ECF6",
            "gridcolor": "white",
            "gridwidth": 2,
            "linecolor": "white",
            "showbackground": true,
            "ticks": "",
            "zerolinecolor": "white"
           },
           "yaxis": {
            "backgroundcolor": "#E5ECF6",
            "gridcolor": "white",
            "gridwidth": 2,
            "linecolor": "white",
            "showbackground": true,
            "ticks": "",
            "zerolinecolor": "white"
           },
           "zaxis": {
            "backgroundcolor": "#E5ECF6",
            "gridcolor": "white",
            "gridwidth": 2,
            "linecolor": "white",
            "showbackground": true,
            "ticks": "",
            "zerolinecolor": "white"
           }
          },
          "shapedefaults": {
           "line": {
            "color": "#2a3f5f"
           }
          },
          "ternary": {
           "aaxis": {
            "gridcolor": "white",
            "linecolor": "white",
            "ticks": ""
           },
           "baxis": {
            "gridcolor": "white",
            "linecolor": "white",
            "ticks": ""
           },
           "bgcolor": "#E5ECF6",
           "caxis": {
            "gridcolor": "white",
            "linecolor": "white",
            "ticks": ""
           }
          },
          "title": {
           "x": 0.05
          },
          "xaxis": {
           "automargin": true,
           "gridcolor": "white",
           "linecolor": "white",
           "ticks": "",
           "title": {
            "standoff": 15
           },
           "zerolinecolor": "white",
           "zerolinewidth": 2
          },
          "yaxis": {
           "automargin": true,
           "gridcolor": "white",
           "linecolor": "white",
           "ticks": "",
           "title": {
            "standoff": 15
           },
           "zerolinecolor": "white",
           "zerolinewidth": 2
          }
         }
        }
       }
      }
     },
     "metadata": {},
     "output_type": "display_data"
    }
   ],
   "source": [
    "fig = go.Figure(data=[go.Scatter(\n",
    "    x=df.dropna()['code'], y=df.dropna()['isco08'],\n",
    "    text=df.dropna()['perc'].astype(int),\n",
    "    mode='markers',\n",
    "    #marker_size=np.array(df.dropna()['perc'])\n",
    "    marker=dict(\n",
    "    color=['#7FFFD4' if val is False else '#DC143C' for val in df.dropna()['perc']<15],\n",
    "    size=np.array(df.dropna()['perc']),\n",
    "    showscale=False\n",
    "    )\n",
    "    )\n",
    "])\n",
    "\n",
    "fig.show()"
   ]
  },
  {
   "cell_type": "code",
   "execution_count": 248,
   "metadata": {},
   "outputs": [
    {
     "data": {
      "text/html": [
       "<div>\n",
       "<style scoped>\n",
       "    .dataframe tbody tr th:only-of-type {\n",
       "        vertical-align: middle;\n",
       "    }\n",
       "\n",
       "    .dataframe tbody tr th {\n",
       "        vertical-align: top;\n",
       "    }\n",
       "\n",
       "    .dataframe thead th {\n",
       "        text-align: right;\n",
       "    }\n",
       "</style>\n",
       "<table border=\"1\" class=\"dataframe\">\n",
       "  <thead>\n",
       "    <tr style=\"text-align: right;\">\n",
       "      <th></th>\n",
       "      <th></th>\n",
       "      <th></th>\n",
       "      <th>isco08</th>\n",
       "      <th>unit</th>\n",
       "      <th>value</th>\n",
       "      <th>flag</th>\n",
       "    </tr>\n",
       "    <tr>\n",
       "      <th>code</th>\n",
       "      <th>nace_r2</th>\n",
       "      <th>year</th>\n",
       "      <th></th>\n",
       "      <th></th>\n",
       "      <th></th>\n",
       "      <th></th>\n",
       "    </tr>\n",
       "  </thead>\n",
       "  <tbody>\n",
       "    <tr>\n",
       "      <th>CH</th>\n",
       "      <th>A</th>\n",
       "      <th>2008</th>\n",
       "      <td>NRP</td>\n",
       "      <td>THS_PER</td>\n",
       "      <td>NaN</td>\n",
       "      <td>: bu</td>\n",
       "    </tr>\n",
       "    <tr>\n",
       "      <th>DE</th>\n",
       "      <th>A</th>\n",
       "      <th>2008</th>\n",
       "      <td>NRP</td>\n",
       "      <td>THS_PER</td>\n",
       "      <td>NaN</td>\n",
       "      <td>: bu</td>\n",
       "    </tr>\n",
       "    <tr>\n",
       "      <th>DK</th>\n",
       "      <th>A</th>\n",
       "      <th>2008</th>\n",
       "      <td>NRP</td>\n",
       "      <td>THS_PER</td>\n",
       "      <td>NaN</td>\n",
       "      <td>:</td>\n",
       "    </tr>\n",
       "    <tr>\n",
       "      <th>EA20</th>\n",
       "      <th>A</th>\n",
       "      <th>2008</th>\n",
       "      <td>NRP</td>\n",
       "      <td>THS_PER</td>\n",
       "      <td>NaN</td>\n",
       "      <td>: bu</td>\n",
       "    </tr>\n",
       "    <tr>\n",
       "      <th>EU27_2020</th>\n",
       "      <th>A</th>\n",
       "      <th>2008</th>\n",
       "      <td>NRP</td>\n",
       "      <td>THS_PER</td>\n",
       "      <td>NaN</td>\n",
       "      <td>: bu</td>\n",
       "    </tr>\n",
       "    <tr>\n",
       "      <th>...</th>\n",
       "      <th>...</th>\n",
       "      <th>...</th>\n",
       "      <td>...</td>\n",
       "      <td>...</td>\n",
       "      <td>...</td>\n",
       "      <td>...</td>\n",
       "    </tr>\n",
       "    <tr>\n",
       "      <th>SE</th>\n",
       "      <th>U</th>\n",
       "      <th>2022</th>\n",
       "      <td>TOTAL</td>\n",
       "      <td>THS_PER</td>\n",
       "      <td>NaN</td>\n",
       "      <td>: u</td>\n",
       "    </tr>\n",
       "    <tr>\n",
       "      <th>SI</th>\n",
       "      <th>U</th>\n",
       "      <th>2022</th>\n",
       "      <td>TOTAL</td>\n",
       "      <td>THS_PER</td>\n",
       "      <td>NaN</td>\n",
       "      <td>: u</td>\n",
       "    </tr>\n",
       "    <tr>\n",
       "      <th>SK</th>\n",
       "      <th>U</th>\n",
       "      <th>2022</th>\n",
       "      <td>TOTAL</td>\n",
       "      <td>THS_PER</td>\n",
       "      <td>NaN</td>\n",
       "      <td>: u</td>\n",
       "    </tr>\n",
       "    <tr>\n",
       "      <th>TR</th>\n",
       "      <th>U</th>\n",
       "      <th>2022</th>\n",
       "      <td>TOTAL</td>\n",
       "      <td>THS_PER</td>\n",
       "      <td>NaN</td>\n",
       "      <td>:</td>\n",
       "    </tr>\n",
       "    <tr>\n",
       "      <th>UK</th>\n",
       "      <th>U</th>\n",
       "      <th>2022</th>\n",
       "      <td>TOTAL</td>\n",
       "      <td>THS_PER</td>\n",
       "      <td>NaN</td>\n",
       "      <td>:</td>\n",
       "    </tr>\n",
       "  </tbody>\n",
       "</table>\n",
       "<p>136200 rows × 4 columns</p>\n",
       "</div>"
      ],
      "text/plain": [
       "                       isco08     unit  value  flag\n",
       "code      nace_r2 year                             \n",
       "CH        A       2008    NRP  THS_PER    NaN  : bu\n",
       "DE        A       2008    NRP  THS_PER    NaN  : bu\n",
       "DK        A       2008    NRP  THS_PER    NaN     :\n",
       "EA20      A       2008    NRP  THS_PER    NaN  : bu\n",
       "EU27_2020 A       2008    NRP  THS_PER    NaN  : bu\n",
       "...                       ...      ...    ...   ...\n",
       "SE        U       2022  TOTAL  THS_PER    NaN   : u\n",
       "SI        U       2022  TOTAL  THS_PER    NaN   : u\n",
       "SK        U       2022  TOTAL  THS_PER    NaN   : u\n",
       "TR        U       2022  TOTAL  THS_PER    NaN     :\n",
       "UK        U       2022  TOTAL  THS_PER    NaN     :\n",
       "\n",
       "[136200 rows x 4 columns]"
      ]
     },
     "execution_count": 248,
     "metadata": {},
     "output_type": "execute_result"
    }
   ],
   "source": [
    "emp"
   ]
  },
  {
   "attachments": {},
   "cell_type": "markdown",
   "metadata": {},
   "source": [
    "----------------------------------------------------------------------------------------------------------------------------------------------------------------------------------------------------------------------------"
   ]
  },
  {
   "cell_type": "code",
   "execution_count": 234,
   "metadata": {},
   "outputs": [
    {
     "data": {
      "text/html": [
       "<div>\n",
       "<style scoped>\n",
       "    .dataframe tbody tr th:only-of-type {\n",
       "        vertical-align: middle;\n",
       "    }\n",
       "\n",
       "    .dataframe tbody tr th {\n",
       "        vertical-align: top;\n",
       "    }\n",
       "\n",
       "    .dataframe thead th {\n",
       "        text-align: right;\n",
       "    }\n",
       "</style>\n",
       "<table border=\"1\" class=\"dataframe\">\n",
       "  <thead>\n",
       "    <tr style=\"text-align: right;\">\n",
       "      <th></th>\n",
       "      <th>Code</th>\n",
       "      <th>Occupation</th>\n",
       "    </tr>\n",
       "  </thead>\n",
       "  <tbody>\n",
       "    <tr>\n",
       "      <th>1</th>\n",
       "      <td>OC1-5</td>\n",
       "      <td>Non manual workers</td>\n",
       "    </tr>\n",
       "    <tr>\n",
       "      <th>2</th>\n",
       "      <td>OC1-3</td>\n",
       "      <td>Managers, professionals, technicians and assoc...</td>\n",
       "    </tr>\n",
       "    <tr>\n",
       "      <th>398</th>\n",
       "      <td>OC6-8</td>\n",
       "      <td>Skilled manual workers</td>\n",
       "    </tr>\n",
       "    <tr>\n",
       "      <th>431</th>\n",
       "      <td>OC7-9</td>\n",
       "      <td>Manual workers</td>\n",
       "    </tr>\n",
       "  </tbody>\n",
       "</table>\n",
       "</div>"
      ],
      "text/plain": [
       "      Code                                         Occupation\n",
       "1    OC1-5                                 Non manual workers\n",
       "2    OC1-3  Managers, professionals, technicians and assoc...\n",
       "398  OC6-8                             Skilled manual workers\n",
       "431  OC7-9                                     Manual workers"
      ]
     },
     "execution_count": 234,
     "metadata": {},
     "output_type": "execute_result"
    }
   ],
   "source": [
    "d=pd.DataFrame(eurostat.get_dic(\"LFSA_EISN2\",\"isco08\", full=True),\n",
    "            columns=['Code', 'Occupation'])\n",
    "d[d['Code'].str.contains('-')]\n"
   ]
  },
  {
   "cell_type": "code",
   "execution_count": null,
   "metadata": {},
   "outputs": [],
   "source": [
    "df1=emp.loc[:,['A','B'],:].groupby(['code','year','isco08','unit']).sum().assign(nace_r2='A_B').reset_index().set_index(['code','nace_r2','year'])\n",
    "df2=emp.loc[:,['D','E'],:].groupby(['code','year','isco08','unit']).sum().assign(nace_r2='D_E').reset_index().set_index(['code','nace_r2','year'])\n",
    "df3=emp.loc[:,['I','L','O','U'],:].groupby(['code','year','isco08','unit']).sum().assign(nace_r2='I_L_O-U').reset_index().set_index(['code','nace_r2','year'])\n",
    "emp=pd.concat([emp,df1,df2,df3])\n",
    "emp=emp.loc[:,['A_B', 'C', 'D_E', 'F', 'G', 'H', 'I_L_O-U', 'J', 'K', 'M', 'N','TOTAL'],:]\n",
    "#df4.loc['CZ',2002,['A_B','D_E','I_L_O-U']]\n",
    "del df1, df2, df3"
   ]
  },
  {
   "cell_type": "code",
   "execution_count": null,
   "metadata": {},
   "outputs": [
    {
     "name": "stdout",
     "output_type": "stream",
     "text": [
      "                  isco08     unit  value  flag\n",
      "code nace_r2 year                             \n",
      "UK   A_B     2012    NRP  THS_PER    0.0    ::\n",
      "             2012    OC0  THS_PER    0.0     :\n",
      "             2012    OC1  THS_PER   41.0      \n",
      "             2012    OC2  THS_PER   39.6     u\n",
      "             2012    OC3  THS_PER   32.0      \n",
      "             2012    OC4  THS_PER   17.8     u\n",
      "             2012    OC5  THS_PER    9.0  u: u\n",
      "             2012    OC6  THS_PER  128.0     :\n",
      "             2012    OC7  THS_PER   27.4     u\n",
      "             2012    OC8  THS_PER   35.9      \n",
      "             2012    OC9  THS_PER   68.9   : u\n",
      "             2012  TOTAL  THS_PER  403.5      \n",
      "unit               THS_PER\n",
      "code nace_r2 year         \n",
      "UK   A_B     2012    803.1\n"
     ]
    },
    {
     "name": "stderr",
     "output_type": "stream",
     "text": [
      "/var/folders/zp/btn0mxqs6p5gkc_pr91hcp2m0000gn/T/ipykernel_88153/519166850.py:1: PerformanceWarning: indexing past lexsort depth may impact performance.\n",
      "  print(emp.loc['UK','A_B',2012])\n",
      "/var/folders/zp/btn0mxqs6p5gkc_pr91hcp2m0000gn/T/ipykernel_88153/519166850.py:2: PerformanceWarning: indexing past lexsort depth may impact performance.\n",
      "  print(emp.loc['UK','A_B',2012].groupby(['code','nace_r2','year','unit'])['value'].sum().unstack())\n"
     ]
    }
   ],
   "source": [
    "#Hold for now\n",
    "print(emp.loc['UK','A_B',2012])\n",
    "print(emp.loc['UK','A_B',2012].groupby(['code','nace_r2','year','unit'])['value'].sum().unstack())"
   ]
  },
  {
   "cell_type": "code",
   "execution_count": null,
   "metadata": {},
   "outputs": [
    {
     "data": {
      "text/plain": [
       "nace_r2\n",
       "J          40.555101\n",
       "H          29.521706\n",
       "K          26.595044\n",
       "TOTAL      19.168087\n",
       "M          14.678127\n",
       "G          14.520138\n",
       "C          14.290766\n",
       "N          13.654308\n",
       "D_E         3.540050\n",
       "A_B         1.737499\n",
       "F           1.391913\n",
       "I_L_O-U     0.841022\n",
       "Name: PercTrade, dtype: float64"
      ]
     },
     "metadata": {},
     "output_type": "display_data"
    }
   ],
   "source": [
    "d1=trade.merge(output,on=['code','year','nace_r2'],how='left')\n",
    "d1=d1[(d1.value_x>=0)&(d1.value_y>=0)]\n",
    "\n",
    "d1['PercTrade']=d1['value_x']/(d1['value_y']*1000)\n",
    "d1=d1.drop(['stk_flow','unit_x','value_x','flag_x','value_y','flag_y','unit_y'], axis=1)\n",
    "d1.groupby('nace_r2').sum().PercTrade.sort_values(ascending=False)"
   ]
  },
  {
   "cell_type": "code",
   "execution_count": null,
   "metadata": {},
   "outputs": [
    {
     "data": {
      "text/html": [
       "<div>\n",
       "<style scoped>\n",
       "    .dataframe tbody tr th:only-of-type {\n",
       "        vertical-align: middle;\n",
       "    }\n",
       "\n",
       "    .dataframe tbody tr th {\n",
       "        vertical-align: top;\n",
       "    }\n",
       "\n",
       "    .dataframe thead th {\n",
       "        text-align: right;\n",
       "    }\n",
       "</style>\n",
       "<table border=\"1\" class=\"dataframe\">\n",
       "  <thead>\n",
       "    <tr style=\"text-align: right;\">\n",
       "      <th></th>\n",
       "      <th></th>\n",
       "      <th>stk_flow</th>\n",
       "      <th>unit_x</th>\n",
       "      <th>value_x</th>\n",
       "      <th>flag_x</th>\n",
       "      <th>unit_y</th>\n",
       "      <th>value_y</th>\n",
       "      <th>flag_y</th>\n",
       "    </tr>\n",
       "    <tr>\n",
       "      <th>year</th>\n",
       "      <th>nace_r2</th>\n",
       "      <th></th>\n",
       "      <th></th>\n",
       "      <th></th>\n",
       "      <th></th>\n",
       "      <th></th>\n",
       "      <th></th>\n",
       "      <th></th>\n",
       "    </tr>\n",
       "  </thead>\n",
       "  <tbody>\n",
       "    <tr>\n",
       "      <th rowspan=\"5\" valign=\"top\">2013</th>\n",
       "      <th>A_B</th>\n",
       "      <td>IMP</td>\n",
       "      <td>THS_EUR</td>\n",
       "      <td>1732485.0</td>\n",
       "      <td></td>\n",
       "      <td>NaN</td>\n",
       "      <td>NaN</td>\n",
       "      <td>NaN</td>\n",
       "    </tr>\n",
       "    <tr>\n",
       "      <th>C</th>\n",
       "      <td>IMP</td>\n",
       "      <td>THS_EUR</td>\n",
       "      <td>16256152.0</td>\n",
       "      <td></td>\n",
       "      <td>CP_MEUR</td>\n",
       "      <td>67949.0</td>\n",
       "      <td></td>\n",
       "    </tr>\n",
       "    <tr>\n",
       "      <th>D_E</th>\n",
       "      <td>IMP</td>\n",
       "      <td>THS_EUR</td>\n",
       "      <td>1150524.0</td>\n",
       "      <td></td>\n",
       "      <td>NaN</td>\n",
       "      <td>NaN</td>\n",
       "      <td>NaN</td>\n",
       "    </tr>\n",
       "    <tr>\n",
       "      <th>F</th>\n",
       "      <td>IMP</td>\n",
       "      <td>THS_EUR</td>\n",
       "      <td>1520821.0</td>\n",
       "      <td></td>\n",
       "      <td>CP_MEUR</td>\n",
       "      <td>25632.0</td>\n",
       "      <td></td>\n",
       "    </tr>\n",
       "    <tr>\n",
       "      <th>G</th>\n",
       "      <td>IMP</td>\n",
       "      <td>THS_EUR</td>\n",
       "      <td>14924664.0</td>\n",
       "      <td></td>\n",
       "      <td>CP_MEUR</td>\n",
       "      <td>78883.0</td>\n",
       "      <td></td>\n",
       "    </tr>\n",
       "    <tr>\n",
       "      <th>...</th>\n",
       "      <th>...</th>\n",
       "      <td>...</td>\n",
       "      <td>...</td>\n",
       "      <td>...</td>\n",
       "      <td>...</td>\n",
       "      <td>...</td>\n",
       "      <td>...</td>\n",
       "      <td>...</td>\n",
       "    </tr>\n",
       "    <tr>\n",
       "      <th rowspan=\"5\" valign=\"top\">2018</th>\n",
       "      <th>K</th>\n",
       "      <td>IMP</td>\n",
       "      <td>THS_EUR</td>\n",
       "      <td>7110509.0</td>\n",
       "      <td></td>\n",
       "      <td>CP_MEUR</td>\n",
       "      <td>46456.0</td>\n",
       "      <td></td>\n",
       "    </tr>\n",
       "    <tr>\n",
       "      <th>M</th>\n",
       "      <td>IMP</td>\n",
       "      <td>THS_EUR</td>\n",
       "      <td>29708345.0</td>\n",
       "      <td></td>\n",
       "      <td>CP_MEUR</td>\n",
       "      <td>56102.0</td>\n",
       "      <td></td>\n",
       "    </tr>\n",
       "    <tr>\n",
       "      <th>N</th>\n",
       "      <td>IMP</td>\n",
       "      <td>THS_EUR</td>\n",
       "      <td>12717688.0</td>\n",
       "      <td></td>\n",
       "      <td>CP_MEUR</td>\n",
       "      <td>49770.0</td>\n",
       "      <td></td>\n",
       "    </tr>\n",
       "    <tr>\n",
       "      <th>TOTAL</th>\n",
       "      <td>IMP</td>\n",
       "      <td>THS_EUR</td>\n",
       "      <td>219731305.0</td>\n",
       "      <td></td>\n",
       "      <td>CP_MEUR</td>\n",
       "      <td>692632.0</td>\n",
       "      <td></td>\n",
       "    </tr>\n",
       "    <tr>\n",
       "      <th>UNK</th>\n",
       "      <td>IMP</td>\n",
       "      <td>THS_EUR</td>\n",
       "      <td>69427476.0</td>\n",
       "      <td></td>\n",
       "      <td>NaN</td>\n",
       "      <td>NaN</td>\n",
       "      <td>NaN</td>\n",
       "    </tr>\n",
       "  </tbody>\n",
       "</table>\n",
       "<p>78 rows × 7 columns</p>\n",
       "</div>"
      ],
      "text/plain": [
       "             stk_flow   unit_x      value_x flag_x   unit_y   value_y flag_y\n",
       "year nace_r2                                                                \n",
       "2013 A_B          IMP  THS_EUR    1732485.0             NaN       NaN    NaN\n",
       "     C            IMP  THS_EUR   16256152.0         CP_MEUR   67949.0       \n",
       "     D_E          IMP  THS_EUR    1150524.0             NaN       NaN    NaN\n",
       "     F            IMP  THS_EUR    1520821.0         CP_MEUR   25632.0       \n",
       "     G            IMP  THS_EUR   14924664.0         CP_MEUR   78883.0       \n",
       "...               ...      ...          ...    ...      ...       ...    ...\n",
       "2018 K            IMP  THS_EUR    7110509.0         CP_MEUR   46456.0       \n",
       "     M            IMP  THS_EUR   29708345.0         CP_MEUR   56102.0       \n",
       "     N            IMP  THS_EUR   12717688.0         CP_MEUR   49770.0       \n",
       "     TOTAL        IMP  THS_EUR  219731305.0         CP_MEUR  692632.0       \n",
       "     UNK          IMP  THS_EUR   69427476.0             NaN       NaN    NaN\n",
       "\n",
       "[78 rows x 7 columns]"
      ]
     },
     "metadata": {},
     "output_type": "display_data"
    }
   ],
   "source": [
    "d1.loc[','TOTAL',:]"
   ]
  },
  {
   "attachments": {},
   "cell_type": "markdown",
   "metadata": {},
   "source": [
    "### <span style=\"color:#909a07\">**Wages**</span>"
   ]
  },
  {
   "cell_type": "code",
   "execution_count": 2,
   "metadata": {},
   "outputs": [
    {
     "data": {
      "text/html": [
       "<div>\n",
       "<style scoped>\n",
       "    .dataframe tbody tr th:only-of-type {\n",
       "        vertical-align: middle;\n",
       "    }\n",
       "\n",
       "    .dataframe tbody tr th {\n",
       "        vertical-align: top;\n",
       "    }\n",
       "\n",
       "    .dataframe thead th {\n",
       "        text-align: right;\n",
       "    }\n",
       "</style>\n",
       "<table border=\"1\" class=\"dataframe\">\n",
       "  <thead>\n",
       "    <tr style=\"text-align: right;\">\n",
       "      <th></th>\n",
       "      <th></th>\n",
       "      <th></th>\n",
       "      <th>unit</th>\n",
       "      <th>isco08</th>\n",
       "      <th>value</th>\n",
       "      <th>flag</th>\n",
       "    </tr>\n",
       "    <tr>\n",
       "      <th>code</th>\n",
       "      <th>nace_r2</th>\n",
       "      <th>year</th>\n",
       "      <th></th>\n",
       "      <th></th>\n",
       "      <th></th>\n",
       "      <th></th>\n",
       "    </tr>\n",
       "  </thead>\n",
       "  <tbody>\n",
       "    <tr>\n",
       "      <th>NO</th>\n",
       "      <th>B</th>\n",
       "      <th>2006</th>\n",
       "      <td>EUR</td>\n",
       "      <td>OC0</td>\n",
       "      <td>0.00</td>\n",
       "      <td>: c</td>\n",
       "    </tr>\n",
       "    <tr>\n",
       "      <th>AT</th>\n",
       "      <th>B</th>\n",
       "      <th>2006</th>\n",
       "      <td>EUR</td>\n",
       "      <td>OC1</td>\n",
       "      <td>39.45</td>\n",
       "      <td></td>\n",
       "    </tr>\n",
       "    <tr>\n",
       "      <th>BE</th>\n",
       "      <th>B</th>\n",
       "      <th>2006</th>\n",
       "      <td>EUR</td>\n",
       "      <td>OC1</td>\n",
       "      <td>30.14</td>\n",
       "      <td></td>\n",
       "    </tr>\n",
       "    <tr>\n",
       "      <th>BG</th>\n",
       "      <th>B</th>\n",
       "      <th>2006</th>\n",
       "      <td>EUR</td>\n",
       "      <td>OC1</td>\n",
       "      <td>2.44</td>\n",
       "      <td></td>\n",
       "    </tr>\n",
       "    <tr>\n",
       "      <th>CY</th>\n",
       "      <th>B</th>\n",
       "      <th>2006</th>\n",
       "      <td>EUR</td>\n",
       "      <td>OC1</td>\n",
       "      <td>23.55</td>\n",
       "      <td></td>\n",
       "    </tr>\n",
       "    <tr>\n",
       "      <th>...</th>\n",
       "      <th>...</th>\n",
       "      <th>...</th>\n",
       "      <td>...</td>\n",
       "      <td>...</td>\n",
       "      <td>...</td>\n",
       "      <td>...</td>\n",
       "    </tr>\n",
       "    <tr>\n",
       "      <th>SE</th>\n",
       "      <th>S</th>\n",
       "      <th>2018</th>\n",
       "      <td>PPS</td>\n",
       "      <td>TOTAL</td>\n",
       "      <td>15.88</td>\n",
       "      <td></td>\n",
       "    </tr>\n",
       "    <tr>\n",
       "      <th>SI</th>\n",
       "      <th>S</th>\n",
       "      <th>2018</th>\n",
       "      <td>PPS</td>\n",
       "      <td>TOTAL</td>\n",
       "      <td>9.87</td>\n",
       "      <td></td>\n",
       "    </tr>\n",
       "    <tr>\n",
       "      <th>SK</th>\n",
       "      <th>S</th>\n",
       "      <th>2018</th>\n",
       "      <td>PPS</td>\n",
       "      <td>TOTAL</td>\n",
       "      <td>5.95</td>\n",
       "      <td></td>\n",
       "    </tr>\n",
       "    <tr>\n",
       "      <th>TR</th>\n",
       "      <th>S</th>\n",
       "      <th>2018</th>\n",
       "      <td>PPS</td>\n",
       "      <td>TOTAL</td>\n",
       "      <td>9.22</td>\n",
       "      <td></td>\n",
       "    </tr>\n",
       "    <tr>\n",
       "      <th>UK</th>\n",
       "      <th>S</th>\n",
       "      <th>2018</th>\n",
       "      <td>PPS</td>\n",
       "      <td>TOTAL</td>\n",
       "      <td>15.03</td>\n",
       "      <td></td>\n",
       "    </tr>\n",
       "  </tbody>\n",
       "</table>\n",
       "<p>100784 rows × 4 columns</p>\n",
       "</div>"
      ],
      "text/plain": [
       "                  unit isco08  value flag\n",
       "code nace_r2 year                        \n",
       "NO   B       2006  EUR    OC0   0.00  : c\n",
       "AT   B       2006  EUR    OC1  39.45     \n",
       "BE   B       2006  EUR    OC1  30.14     \n",
       "BG   B       2006  EUR    OC1   2.44     \n",
       "CY   B       2006  EUR    OC1  23.55     \n",
       "...                ...    ...    ...  ...\n",
       "SE   S       2018  PPS  TOTAL  15.88     \n",
       "SI   S       2018  PPS  TOTAL   9.87     \n",
       "SK   S       2018  PPS  TOTAL   5.95     \n",
       "TR   S       2018  PPS  TOTAL   9.22     \n",
       "UK   S       2018  PPS  TOTAL  15.03     \n",
       "\n",
       "[100784 rows x 4 columns]"
      ]
     },
     "execution_count": 2,
     "metadata": {},
     "output_type": "execute_result"
    }
   ],
   "source": [
    "w=pt.wage_getter()\n",
    "w"
   ]
  },
  {
   "cell_type": "code",
   "execution_count": 3,
   "metadata": {},
   "outputs": [
    {
     "data": {
      "text/plain": [
       "array(['NO', 'AT', 'BE', 'BG', 'CY', 'CZ', 'DE', 'DK', 'EA13', 'EA16',\n",
       "       'EE', 'EL', 'ES', 'EU15', 'EU25', 'EU27_2007', 'FI', 'FR', 'HU',\n",
       "       'IE', 'IT', 'LT', 'LU', 'LV', 'MT', 'NL', 'PL', 'PT', 'RO', 'SE',\n",
       "       'SI', 'SK', 'TR', 'UK', 'IS', 'EA17', 'EU28', 'HR', 'CH', 'MK',\n",
       "       'EA18', 'EA19', 'ME', 'RS', 'EU27_2020', 'AL'], dtype=object)"
      ]
     },
     "execution_count": 3,
     "metadata": {},
     "output_type": "execute_result"
    }
   ],
   "source": [
    "w.reset_index().code.unique()"
   ]
  },
  {
   "cell_type": "code",
   "execution_count": 4,
   "metadata": {},
   "outputs": [
    {
     "data": {
      "text/plain": [
       "array(['B', '', 'C', 'E', 'F', 'G', 'I', 'J', 'K', 'N', 'O', 'P', 'Q',\n",
       "       'S', 'B-E', 'B-F', 'B-N', 'B-S', 'B-S_X_O', 'G-J', 'G-S',\n",
       "       'G-S_X_O', 'H', 'O-S', 'P-S', 'R', 'D', 'K-N', 'L', 'M'],\n",
       "      dtype=object)"
      ]
     },
     "execution_count": 4,
     "metadata": {},
     "output_type": "execute_result"
    }
   ],
   "source": [
    "w.reset_index().nace_r2.unique()"
   ]
  },
  {
   "cell_type": "code",
   "execution_count": 59,
   "metadata": {},
   "outputs": [
    {
     "data": {
      "text/plain": [
       "14"
      ]
     },
     "execution_count": 59,
     "metadata": {},
     "output_type": "execute_result"
    }
   ],
   "source": [
    "len(wt.reset_index().pivot(index='year',columns='isco08').columns)"
   ]
  },
  {
   "cell_type": "code",
   "execution_count": 64,
   "metadata": {},
   "outputs": [
    {
     "name": "stderr",
     "output_type": "stream",
     "text": [
      "/var/folders/zp/btn0mxqs6p5gkc_pr91hcp2m0000gn/T/ipykernel_91506/3227119069.py:2: PerformanceWarning: indexing past lexsort depth may impact performance.\n",
      "  wt=w.loc['EU27_2007','D',]\n"
     ]
    },
    {
     "data": {
      "text/plain": [
       "<Axes: xlabel='year'>"
      ]
     },
     "execution_count": 64,
     "metadata": {},
     "output_type": "execute_result"
    },
    {
     "data": {
      "image/png": "[encoded data removed]",
      "text/plain": [
       "<Figure size 2000x1000 with 1 Axes>"
      ]
     },
     "metadata": {},
     "output_type": "display_data"
    }
   ],
   "source": [
    "import random\n",
    "wt=w.loc['EU27_2007','D',[20]]\n",
    "wt=wt[(wt['unit']=='PPS')].drop(columns=['unit','flag'])\n",
    "wt.reset_index().pivot(index='year',columns='isco08').plot(figsize=(20,10),\n",
    "                                                           color = [f\"#{random.randint(0,255):02x}{random.randint(0,255):02x}{random.randint(0,255):02x}\" for _ in range(\n",
    "                                                               len(wt.reset_index().pivot(index='year',columns='isco08').columns)\n",
    "                                                           )]\n",
    ")\n",
    "\n",
    "#df.plot.line(y=wt.isco08.unique(), figsize=(10,6))\n",
    "#plt.show()\n"
   ]
  },
  {
   "cell_type": "code",
   "execution_count": null,
   "metadata": {},
   "outputs": [],
   "source": []
  },
  {
   "cell_type": "code",
   "execution_count": null,
   "metadata": {},
   "outputs": [],
   "source": []
  },
  {
   "cell_type": "code",
   "execution_count": null,
   "metadata": {},
   "outputs": [],
   "source": []
  },
  {
   "attachments": {},
   "cell_type": "markdown",
   "metadata": {},
   "source": [
    "### <span style=\"color:#909a07\">**Offshoring**</span>"
   ]
  },
  {
   "attachments": {},
   "cell_type": "markdown",
   "metadata": {},
   "source": [
    "To understand how offshoring and distribution of earnings among different occupations the Analysis will be conducted at the country level. In other words, we will be checking the Aggregated sectoral earning (*nace_r2 == 'TOTAL'*) and aggregated offshoring data (*nace_r2 == 'TOTAL'*).\n",
    "</br>\n",
    "The first thing to check will be the variation among the occupational wages in "
   ]
  },
  {
   "cell_type": "code",
   "execution_count": null,
   "metadata": {},
   "outputs": [],
   "source": []
  }
 ],
 "metadata": {
  "kernelspec": {
   "display_name": "Python 3",
   "language": "python",
   "name": "python3"
  },
  "language_info": {
   "codemirror_mode": {
    "name": "ipython",
    "version": 3
   },
   "file_extension": ".py",
   "mimetype": "text/x-python",
   "name": "python",
   "nbconvert_exporter": "python",
   "pygments_lexer": "ipython3",
   "version": "3.9.6"
  },
  "orig_nbformat": 4
 },
 "nbformat": 4,
 "nbformat_minor": 2
}
