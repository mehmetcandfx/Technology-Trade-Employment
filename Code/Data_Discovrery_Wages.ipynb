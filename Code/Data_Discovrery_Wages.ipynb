{
 "cells": [
  {
   "attachments": {},
   "cell_type": "markdown",
   "metadata": {},
   "source": [
    "# <span style=\"color:#d3d1df\">Ms Thesis Wage Data Discovery</span>"
   ]
  },
  {
   "attachments": {},
   "cell_type": "markdown",
   "metadata": {},
   "source": [
    "## <span style=\"color:#f1c232\">Overview:</span>"
   ]
  },
  {
   "attachments": {},
   "cell_type": "markdown",
   "metadata": {},
   "source": [
    "**To-Do's:** <br>\n",
    "*Data Discovery for:*\n",
    "\n",
    " 1. <span style=\"color:#00ff21\">Wage Data</span>\n",
    " 2. Employment Data\n",
    " 3. Trade Data\n",
    " 4. FDI and FPI Data\n",
    " 5. Decomposed Output Data\n",
    " 6. Penn Table *(Controls)*\n"
   ]
  },
  {
   "attachments": {},
   "cell_type": "markdown",
   "metadata": {},
   "source": [
    "## <span style=\"color:#f1c232\">Environment:</span>"
   ]
  },
  {
   "cell_type": "code",
   "execution_count": 1,
   "metadata": {},
   "outputs": [],
   "source": [
    "#Packages\n",
    "\n",
    "import pandas as pd\n",
    "from Utilities import wages \n",
    "import eurostat\n",
    "import os\n",
    "\n",
    "#Variables\n",
    "\n",
    "dl=os.getcwd()[:-32]+'Data/Technology-Trade-Employment'\n",
    "\n",
    "EARN_SES_14=[\"EARN_SES_AGT14\",\"EARN_SES06_14\",\"EARN_SES10_14\",\"EARN_SES14_14\",\"EARN_SES18_14\"]\n",
    "\n",
    "EARN_SES_47=[\"EARN_SES06_47\",\"EARN_SES10_47\",\"EARN_SES14_47\",\"EARN_SES18_47\"]\n",
    "\n",
    "EARN_SES_16=[\"EARN_SES_AGT16\",\"EARN_SES06_16\",\"EARN_SES10_16\",\"EARN_SES14_16\",\"EARN_SES18_16\"]\n"
   ]
  },
  {
   "attachments": {},
   "cell_type": "markdown",
   "metadata": {},
   "source": [
    "## <span style=\"color:#f1c232\">Wage Data</span>"
   ]
  },
  {
   "attachments": {},
   "cell_type": "markdown",
   "metadata": {},
   "source": [
    "Before discovering the data it is convenient to explain the datasets that will be used in the analysis briefly.\n",
    "Studies conducted in the field of wage premia generally rely on population surveys to analyze premiums on more categories such as gender, age group, economic activity, and most importantly, occupation. European-level population surveys are conducted once in 4 years accessible from 2002 to 2018 with the name: ***\"Structure of Earnings Survey (SES)\"***. It is important to mention that the original, or raw, survey data is disaggregated *(individual level)* and not open for public access. It is possible to obtain the so-called **microdata** with the proper request, though due to extended delivery time and short thesis deadline, this research will be conducted by aggregated *(by certain categories)* datasets of **Eurostat**.\n",
    "\n",
    "After browsi̇ng the Eurostat Database, I ended up with the following three different data sets for the years 2002, 2006, 2010, 2014, 2018:\n",
    "\n",
    "* Mean hourly earnings by sex, economic activity and occupation *(Not available for 2002)*,\n",
    "* Mean hourly earnings by sex, age, occupation,\n",
    "* Mean hourly earnings by economic activity, sex, educational attainment level\n",
    "\n",
    "Among the three datasets listed above, the first one would be the most proper selection for my research since it contains the necessary categories: economic activity, and occupation. While the need for occupation category is strait forward, the introduction of economic activity to analysis is motivated by the following hypothesises:\n",
    "\n",
    "* First the offshoring \n",
    "      \n",
    "\n"
   ]
  },
  {
   "attachments": {},
   "cell_type": "markdown",
   "metadata": {},
   "source": [
    "### <span style=\"color:#b70101\">**Mean hourly earnings by sex, economic activity and occupation**</span>"
   ]
  },
  {
   "cell_type": "code",
   "execution_count": 3,
   "metadata": {},
   "outputs": [
    {
     "data": {
      "text/html": [
       "<div>\n",
       "<style scoped>\n",
       "    .dataframe tbody tr th:only-of-type {\n",
       "        vertical-align: middle;\n",
       "    }\n",
       "\n",
       "    .dataframe tbody tr th {\n",
       "        vertical-align: top;\n",
       "    }\n",
       "\n",
       "    .dataframe thead tr th {\n",
       "        text-align: left;\n",
       "    }\n",
       "\n",
       "    .dataframe thead tr:last-of-type th {\n",
       "        text-align: right;\n",
       "    }\n",
       "</style>\n",
       "<table border=\"1\" class=\"dataframe\">\n",
       "  <thead>\n",
       "    <tr>\n",
       "      <th></th>\n",
       "      <th colspan=\"4\" halign=\"left\">#ofUniques</th>\n",
       "      <th colspan=\"4\" halign=\"left\">Uniques</th>\n",
       "    </tr>\n",
       "    <tr>\n",
       "      <th>Dataset</th>\n",
       "      <th>EARN_SES06_47</th>\n",
       "      <th>EARN_SES10_47</th>\n",
       "      <th>EARN_SES14_47</th>\n",
       "      <th>EARN_SES18_47</th>\n",
       "      <th>EARN_SES06_47</th>\n",
       "      <th>EARN_SES10_47</th>\n",
       "      <th>EARN_SES14_47</th>\n",
       "      <th>EARN_SES18_47</th>\n",
       "    </tr>\n",
       "    <tr>\n",
       "      <th>Year</th>\n",
       "      <th>2006</th>\n",
       "      <th>2010</th>\n",
       "      <th>2014</th>\n",
       "      <th>2018</th>\n",
       "      <th>2006</th>\n",
       "      <th>2010</th>\n",
       "      <th>2014</th>\n",
       "      <th>2018</th>\n",
       "    </tr>\n",
       "    <tr>\n",
       "      <th>Category</th>\n",
       "      <th></th>\n",
       "      <th></th>\n",
       "      <th></th>\n",
       "      <th></th>\n",
       "      <th></th>\n",
       "      <th></th>\n",
       "      <th></th>\n",
       "      <th></th>\n",
       "    </tr>\n",
       "  </thead>\n",
       "  <tbody>\n",
       "    <tr>\n",
       "      <th>currency</th>\n",
       "      <td>NaN</td>\n",
       "      <td>3</td>\n",
       "      <td>4</td>\n",
       "      <td>NaN</td>\n",
       "      <td>NaN</td>\n",
       "      <td>[EUR, PPS, PC]</td>\n",
       "      <td>[EUR, PPS, PC, NAC]</td>\n",
       "      <td>NaN</td>\n",
       "    </tr>\n",
       "    <tr>\n",
       "      <th>freq</th>\n",
       "      <td>1</td>\n",
       "      <td>1</td>\n",
       "      <td>1</td>\n",
       "      <td>1</td>\n",
       "      <td>[A]</td>\n",
       "      <td>[A]</td>\n",
       "      <td>[A]</td>\n",
       "      <td>[A]</td>\n",
       "    </tr>\n",
       "    <tr>\n",
       "      <th>geo</th>\n",
       "      <td>35</td>\n",
       "      <td>39</td>\n",
       "      <td>40</td>\n",
       "      <td>41</td>\n",
       "      <td>[EU27_2007, EU25, EU15, EA16, EA13, BE, BG, CZ...</td>\n",
       "      <td>[EU28, EU27_2007, EU25, EU15, EA17, EA13, BE, ...</td>\n",
       "      <td>[EU28, EU27_2007, EA19, EA18, EA17, BE, BG, CZ...</td>\n",
       "      <td>[EU27_2020, EU28, EU27_2007, EA19, EA18, EA17,...</td>\n",
       "    </tr>\n",
       "    <tr>\n",
       "      <th>indic_se</th>\n",
       "      <td>4</td>\n",
       "      <td>4</td>\n",
       "      <td>4</td>\n",
       "      <td>3</td>\n",
       "      <td>[ERN, E_F_M_PC, OPAY, OP_E_PC]</td>\n",
       "      <td>[ERN, E_F_M_PC, OPAY, OP_E_PC]</td>\n",
       "      <td>[ERN, E_F_M_PC, OPAY, OP_E_PC]</td>\n",
       "      <td>[ERN, OPAY, OP_E_PC]</td>\n",
       "    </tr>\n",
       "    <tr>\n",
       "      <th>isco08</th>\n",
       "      <td>NaN</td>\n",
       "      <td>13</td>\n",
       "      <td>13</td>\n",
       "      <td>14</td>\n",
       "      <td>NaN</td>\n",
       "      <td>[TOTAL, OC1-5, OC1, OC2, OC3, OC4, OC5, OC6, O...</td>\n",
       "      <td>[TOTAL, OC1-5, OC1, OC2, OC3, OC4, OC5, OC6, O...</td>\n",
       "      <td>[TOTAL, OC1-5, OC1, OC2, OC3, OC4, OC5, OC6-8,...</td>\n",
       "    </tr>\n",
       "    <tr>\n",
       "      <th>isco88</th>\n",
       "      <td>14</td>\n",
       "      <td>NaN</td>\n",
       "      <td>NaN</td>\n",
       "      <td>NaN</td>\n",
       "      <td>[TOTAL, ISCO1-5, ISCO1, ISCO2, ISCO3, ISCO4, I...</td>\n",
       "      <td>NaN</td>\n",
       "      <td>NaN</td>\n",
       "      <td>NaN</td>\n",
       "    </tr>\n",
       "    <tr>\n",
       "      <th>nace_r1</th>\n",
       "      <td>22</td>\n",
       "      <td>NaN</td>\n",
       "      <td>NaN</td>\n",
       "      <td>NaN</td>\n",
       "      <td>[C-O, C-O_X_L, C-K, C-F, C-E, C, D, E, F, G-K,...</td>\n",
       "      <td>NaN</td>\n",
       "      <td>NaN</td>\n",
       "      <td>NaN</td>\n",
       "    </tr>\n",
       "    <tr>\n",
       "      <th>nace_r2</th>\n",
       "      <td>NaN</td>\n",
       "      <td>29</td>\n",
       "      <td>29</td>\n",
       "      <td>29</td>\n",
       "      <td>NaN</td>\n",
       "      <td>[B-S, B-S_X_O, B-N, B-F, B-E, B, C, D, E, F, G...</td>\n",
       "      <td>[B-S, B-S_X_O, B-N, B-F, B-E, B, C, D, E, F, G...</td>\n",
       "      <td>[B-S, B-S_X_O, B-N, B-F, B-E, B, C, D, E, F, G...</td>\n",
       "    </tr>\n",
       "    <tr>\n",
       "      <th>sex</th>\n",
       "      <td>3</td>\n",
       "      <td>3</td>\n",
       "      <td>3</td>\n",
       "      <td>3</td>\n",
       "      <td>[T, M, F]</td>\n",
       "      <td>[T, M, F]</td>\n",
       "      <td>[T, M, F]</td>\n",
       "      <td>[T, M, F]</td>\n",
       "    </tr>\n",
       "    <tr>\n",
       "      <th>sizeclas</th>\n",
       "      <td>2</td>\n",
       "      <td>2</td>\n",
       "      <td>2</td>\n",
       "      <td>2</td>\n",
       "      <td>[TOTAL, GE10]</td>\n",
       "      <td>[TOTAL, GE10]</td>\n",
       "      <td>[TOTAL, GE10]</td>\n",
       "      <td>[TOTAL, GE10]</td>\n",
       "    </tr>\n",
       "    <tr>\n",
       "      <th>unit</th>\n",
       "      <td>3</td>\n",
       "      <td>NaN</td>\n",
       "      <td>NaN</td>\n",
       "      <td>4</td>\n",
       "      <td>[EUR, PPS, PC]</td>\n",
       "      <td>NaN</td>\n",
       "      <td>NaN</td>\n",
       "      <td>[EUR, NAC, PPS, PC]</td>\n",
       "    </tr>\n",
       "  </tbody>\n",
       "</table>\n",
       "</div>"
      ],
      "text/plain": [
       "            #ofUniques                                             \n",
       "Dataset  EARN_SES06_47 EARN_SES10_47 EARN_SES14_47 EARN_SES18_47   \n",
       "Year              2006          2010          2014          2018   \n",
       "Category                                                           \n",
       "currency           NaN             3             4           NaN  \\\n",
       "freq                 1             1             1             1   \n",
       "geo                 35            39            40            41   \n",
       "indic_se             4             4             4             3   \n",
       "isco08             NaN            13            13            14   \n",
       "isco88              14           NaN           NaN           NaN   \n",
       "nace_r1             22           NaN           NaN           NaN   \n",
       "nace_r2            NaN            29            29            29   \n",
       "sex                  3             3             3             3   \n",
       "sizeclas             2             2             2             2   \n",
       "unit                 3           NaN           NaN             4   \n",
       "\n",
       "                                                    Uniques   \n",
       "Dataset                                       EARN_SES06_47   \n",
       "Year                                                   2006   \n",
       "Category                                                      \n",
       "currency                                                NaN  \\\n",
       "freq                                                    [A]   \n",
       "geo       [EU27_2007, EU25, EU15, EA16, EA13, BE, BG, CZ...   \n",
       "indic_se                     [ERN, E_F_M_PC, OPAY, OP_E_PC]   \n",
       "isco08                                                  NaN   \n",
       "isco88    [TOTAL, ISCO1-5, ISCO1, ISCO2, ISCO3, ISCO4, I...   \n",
       "nace_r1   [C-O, C-O_X_L, C-K, C-F, C-E, C, D, E, F, G-K,...   \n",
       "nace_r2                                                 NaN   \n",
       "sex                                               [T, M, F]   \n",
       "sizeclas                                      [TOTAL, GE10]   \n",
       "unit                                         [EUR, PPS, PC]   \n",
       "\n",
       "                                                              \n",
       "Dataset                                       EARN_SES10_47   \n",
       "Year                                                   2010   \n",
       "Category                                                      \n",
       "currency                                     [EUR, PPS, PC]  \\\n",
       "freq                                                    [A]   \n",
       "geo       [EU28, EU27_2007, EU25, EU15, EA17, EA13, BE, ...   \n",
       "indic_se                     [ERN, E_F_M_PC, OPAY, OP_E_PC]   \n",
       "isco08    [TOTAL, OC1-5, OC1, OC2, OC3, OC4, OC5, OC6, O...   \n",
       "isco88                                                  NaN   \n",
       "nace_r1                                                 NaN   \n",
       "nace_r2   [B-S, B-S_X_O, B-N, B-F, B-E, B, C, D, E, F, G...   \n",
       "sex                                               [T, M, F]   \n",
       "sizeclas                                      [TOTAL, GE10]   \n",
       "unit                                                    NaN   \n",
       "\n",
       "                                                              \n",
       "Dataset                                       EARN_SES14_47   \n",
       "Year                                                   2014   \n",
       "Category                                                      \n",
       "currency                                [EUR, PPS, PC, NAC]  \\\n",
       "freq                                                    [A]   \n",
       "geo       [EU28, EU27_2007, EA19, EA18, EA17, BE, BG, CZ...   \n",
       "indic_se                     [ERN, E_F_M_PC, OPAY, OP_E_PC]   \n",
       "isco08    [TOTAL, OC1-5, OC1, OC2, OC3, OC4, OC5, OC6, O...   \n",
       "isco88                                                  NaN   \n",
       "nace_r1                                                 NaN   \n",
       "nace_r2   [B-S, B-S_X_O, B-N, B-F, B-E, B, C, D, E, F, G...   \n",
       "sex                                               [T, M, F]   \n",
       "sizeclas                                      [TOTAL, GE10]   \n",
       "unit                                                    NaN   \n",
       "\n",
       "                                                             \n",
       "Dataset                                       EARN_SES18_47  \n",
       "Year                                                   2018  \n",
       "Category                                                     \n",
       "currency                                                NaN  \n",
       "freq                                                    [A]  \n",
       "geo       [EU27_2020, EU28, EU27_2007, EA19, EA18, EA17,...  \n",
       "indic_se                               [ERN, OPAY, OP_E_PC]  \n",
       "isco08    [TOTAL, OC1-5, OC1, OC2, OC3, OC4, OC5, OC6-8,...  \n",
       "isco88                                                  NaN  \n",
       "nace_r1                                                 NaN  \n",
       "nace_r2   [B-S, B-S_X_O, B-N, B-F, B-E, B, C, D, E, F, G...  \n",
       "sex                                               [T, M, F]  \n",
       "sizeclas                                      [TOTAL, GE10]  \n",
       "unit                                    [EUR, NAC, PPS, PC]  "
      ]
     },
     "execution_count": 3,
     "metadata": {},
     "output_type": "execute_result"
    }
   ],
   "source": [
    "wages.cat_describer(EARN_SES_47).pivot(index=\"Category\", columns=[\"Dataset\",\"Year\"], values=[\"#ofUniques\",\"Uniques\"])"
   ]
  },
  {
   "attachments": {},
   "cell_type": "markdown",
   "metadata": {},
   "source": [
    "### <span style=\"color:#b70101\">**Mean hourly earnings by sex, age, occupation**</span>"
   ]
  },
  {
   "attachments": {},
   "cell_type": "markdown",
   "metadata": {},
   "source": [
    "As fololows:</br>\n",
    "</br>\n",
    "\n",
    "| Dataset Code  | Year | Dataset Name                                                                   | Source                                 | Metada                                                                |\n",
    "|---------------|------|--------------------------------------------------------------------------------|----------------------------------------|-----------------------------------------------------------------------|\n",
    "| EARN_SES_AGT14 | 2002 | Mean hourly earnings by sex, age, occupation    | The Structure of Earnings Survey (SES) | https://ec.europa.eu/eurostat/cache/metadata/en/earn_ses_esms.htm   |\n",
    "| EARN_SES06_14 | 2006 | Mean hourly earnings by sex, age, occupation - NACE Rev. 1.1, C-O excluding    | The Structure of Earnings Survey (SES) | https://ec.europa.eu/eurostat/cache/metadata/en/earn_ses06_esms.htm   |\n",
    "| EARN_SES10_14 | 2010 | Mean hourly earnings by sex, age and occupation - NACE Rev. 2, B-S excluding O | The Structure of Earnings Survey (SES) | https://ec.europa.eu/eurostat/cache/metadata/en/earn_ses2010_esms.htm |\n",
    "| EARN_SES14_14 | 2014 | Mean hourly earnings by sex, age and occupation - NACE Rev. 2, B-S excluding O | The Structure of Earnings Survey (SES) | https://ec.europa.eu/eurostat/cache/metadata/en/earn_ses2014_esms.htm |\n",
    "| EARN_SES18_14 | 2018 | Mean hourly earnings by sex, age and occupation - NACE Rev. 2, B-S excluding O | The Structure of Earnings Survey (SES) | https://ec.europa.eu/eurostat/cache/metadata/en/earn_ses2018_esms.htm |\n",
    "\n",
    "</br>\n",
    "We can describe the categories in these datasets as follows:\n"
   ]
  },
  {
   "cell_type": "code",
   "execution_count": 2,
   "metadata": {
    "tags": []
   },
   "outputs": [
    {
     "data": {
      "text/html": [
       "<div>\n",
       "<style scoped>\n",
       "    .dataframe tbody tr th:only-of-type {\n",
       "        vertical-align: middle;\n",
       "    }\n",
       "\n",
       "    .dataframe tbody tr th {\n",
       "        vertical-align: top;\n",
       "    }\n",
       "\n",
       "    .dataframe thead tr th {\n",
       "        text-align: left;\n",
       "    }\n",
       "\n",
       "    .dataframe thead tr:last-of-type th {\n",
       "        text-align: right;\n",
       "    }\n",
       "</style>\n",
       "<table border=\"1\" class=\"dataframe\">\n",
       "  <thead>\n",
       "    <tr>\n",
       "      <th></th>\n",
       "      <th colspan=\"5\" halign=\"left\">#ofUniques</th>\n",
       "      <th colspan=\"5\" halign=\"left\">Uniques</th>\n",
       "    </tr>\n",
       "    <tr>\n",
       "      <th>Dataset</th>\n",
       "      <th>EARN_SES_AGT14</th>\n",
       "      <th>EARN_SES06_14</th>\n",
       "      <th>EARN_SES10_14</th>\n",
       "      <th>EARN_SES14_14</th>\n",
       "      <th>EARN_SES18_14</th>\n",
       "      <th>EARN_SES_AGT14</th>\n",
       "      <th>EARN_SES06_14</th>\n",
       "      <th>EARN_SES10_14</th>\n",
       "      <th>EARN_SES14_14</th>\n",
       "      <th>EARN_SES18_14</th>\n",
       "    </tr>\n",
       "    <tr>\n",
       "      <th>Year</th>\n",
       "      <th>2002</th>\n",
       "      <th>2006</th>\n",
       "      <th>2010</th>\n",
       "      <th>2014</th>\n",
       "      <th>2018</th>\n",
       "      <th>2002</th>\n",
       "      <th>2006</th>\n",
       "      <th>2010</th>\n",
       "      <th>2014</th>\n",
       "      <th>2018</th>\n",
       "    </tr>\n",
       "    <tr>\n",
       "      <th>Category</th>\n",
       "      <th></th>\n",
       "      <th></th>\n",
       "      <th></th>\n",
       "      <th></th>\n",
       "      <th></th>\n",
       "      <th></th>\n",
       "      <th></th>\n",
       "      <th></th>\n",
       "      <th></th>\n",
       "      <th></th>\n",
       "    </tr>\n",
       "  </thead>\n",
       "  <tbody>\n",
       "    <tr>\n",
       "      <th>age</th>\n",
       "      <td>7</td>\n",
       "      <td>7</td>\n",
       "      <td>6</td>\n",
       "      <td>8</td>\n",
       "      <td>5</td>\n",
       "      <td>[TOTAL, Y_LT30, Y30-39, Y40-49, Y50-59, Y_GE60...</td>\n",
       "      <td>[TOTAL, Y_LT30, Y30-39, Y40-49, Y50-59, Y_GE60...</td>\n",
       "      <td>[TOTAL, Y_LT30, Y30-39, Y40-49, Y50-59, Y_GE60]</td>\n",
       "      <td>[TOTAL, Y_LT30, Y30-39, Y30-49, Y40-49, Y50-59...</td>\n",
       "      <td>[TOTAL, Y_LT30, Y30-49, Y_GE50, UNK]</td>\n",
       "    </tr>\n",
       "    <tr>\n",
       "      <th>currency</th>\n",
       "      <td>NaN</td>\n",
       "      <td>NaN</td>\n",
       "      <td>3</td>\n",
       "      <td>4</td>\n",
       "      <td>NaN</td>\n",
       "      <td>NaN</td>\n",
       "      <td>NaN</td>\n",
       "      <td>[EUR, PPS, PC]</td>\n",
       "      <td>[EUR, PPS, PC, NAC]</td>\n",
       "      <td>NaN</td>\n",
       "    </tr>\n",
       "    <tr>\n",
       "      <th>freq</th>\n",
       "      <td>1</td>\n",
       "      <td>1</td>\n",
       "      <td>1</td>\n",
       "      <td>1</td>\n",
       "      <td>1</td>\n",
       "      <td>[A]</td>\n",
       "      <td>[A]</td>\n",
       "      <td>[A]</td>\n",
       "      <td>[A]</td>\n",
       "      <td>[A]</td>\n",
       "    </tr>\n",
       "    <tr>\n",
       "      <th>geo</th>\n",
       "      <td>34</td>\n",
       "      <td>35</td>\n",
       "      <td>40</td>\n",
       "      <td>40</td>\n",
       "      <td>41</td>\n",
       "      <td>[EU25, EU15, NMS10, EA, EA12, BE, BG, CZ, DK, ...</td>\n",
       "      <td>[EU27_2007, EU25, EU15, EA16, EA13, BE, BG, CZ...</td>\n",
       "      <td>[EU28, EU27_2007, EU25, EU15, EA17, EA16, EA13...</td>\n",
       "      <td>[EU28, EU27_2007, EA19, EA18, EA17, BE, BG, CZ...</td>\n",
       "      <td>[EU27_2020, EU28, EU27_2007, EA19, EA18, EA17,...</td>\n",
       "    </tr>\n",
       "    <tr>\n",
       "      <th>indic_se</th>\n",
       "      <td>4</td>\n",
       "      <td>4</td>\n",
       "      <td>4</td>\n",
       "      <td>4</td>\n",
       "      <td>3</td>\n",
       "      <td>[ERN, E_F_M_PC, OPAY, OP_E_PC]</td>\n",
       "      <td>[ERN, E_F_M_PC, OPAY, OP_E_PC]</td>\n",
       "      <td>[ERN, E_F_M_PC, OPAY, OP_E_PC]</td>\n",
       "      <td>[ERN, E_F_M_PC, OPAY, OP_E_PC]</td>\n",
       "      <td>[ERN, OPAY, OP_E_PC]</td>\n",
       "    </tr>\n",
       "    <tr>\n",
       "      <th>isco08</th>\n",
       "      <td>NaN</td>\n",
       "      <td>NaN</td>\n",
       "      <td>13</td>\n",
       "      <td>13</td>\n",
       "      <td>14</td>\n",
       "      <td>NaN</td>\n",
       "      <td>NaN</td>\n",
       "      <td>[TOTAL, OC1-5, OC1, OC2, OC3, OC4, OC5, OC6, O...</td>\n",
       "      <td>[TOTAL, OC1-5, OC1, OC2, OC3, OC4, OC5, OC6, O...</td>\n",
       "      <td>[TOTAL, OC1-5, OC1, OC2, OC3, OC4, OC5, OC6-8,...</td>\n",
       "    </tr>\n",
       "    <tr>\n",
       "      <th>isco88</th>\n",
       "      <td>13</td>\n",
       "      <td>14</td>\n",
       "      <td>NaN</td>\n",
       "      <td>NaN</td>\n",
       "      <td>NaN</td>\n",
       "      <td>[TOTAL, ISCO1-5, ISCO1, ISCO2, ISCO3, ISCO4, I...</td>\n",
       "      <td>[TOTAL, ISCO1-5, ISCO1, ISCO2, ISCO3, ISCO4, I...</td>\n",
       "      <td>NaN</td>\n",
       "      <td>NaN</td>\n",
       "      <td>NaN</td>\n",
       "    </tr>\n",
       "    <tr>\n",
       "      <th>sex</th>\n",
       "      <td>3</td>\n",
       "      <td>3</td>\n",
       "      <td>3</td>\n",
       "      <td>3</td>\n",
       "      <td>3</td>\n",
       "      <td>[T, M, F]</td>\n",
       "      <td>[T, M, F]</td>\n",
       "      <td>[T, M, F]</td>\n",
       "      <td>[T, M, F]</td>\n",
       "      <td>[T, M, F]</td>\n",
       "    </tr>\n",
       "    <tr>\n",
       "      <th>sizeclas</th>\n",
       "      <td>NaN</td>\n",
       "      <td>2</td>\n",
       "      <td>2</td>\n",
       "      <td>2</td>\n",
       "      <td>2</td>\n",
       "      <td>NaN</td>\n",
       "      <td>[TOTAL, GE10]</td>\n",
       "      <td>[TOTAL, GE10]</td>\n",
       "      <td>[TOTAL, GE10]</td>\n",
       "      <td>[TOTAL, GE10]</td>\n",
       "    </tr>\n",
       "    <tr>\n",
       "      <th>unit</th>\n",
       "      <td>3</td>\n",
       "      <td>3</td>\n",
       "      <td>NaN</td>\n",
       "      <td>NaN</td>\n",
       "      <td>4</td>\n",
       "      <td>[EUR, PPS, PC]</td>\n",
       "      <td>[EUR, PPS, PC]</td>\n",
       "      <td>NaN</td>\n",
       "      <td>NaN</td>\n",
       "      <td>[EUR, NAC, PPS, PC]</td>\n",
       "    </tr>\n",
       "  </tbody>\n",
       "</table>\n",
       "</div>"
      ],
      "text/plain": [
       "             #ofUniques                                             \n",
       "Dataset  EARN_SES_AGT14 EARN_SES06_14 EARN_SES10_14 EARN_SES14_14   \n",
       "Year               2002          2006          2010          2014   \n",
       "Category                                                            \n",
       "age                   7             7             6             8  \\\n",
       "currency            NaN           NaN             3             4   \n",
       "freq                  1             1             1             1   \n",
       "geo                  34            35            40            40   \n",
       "indic_se              4             4             4             4   \n",
       "isco08              NaN           NaN            13            13   \n",
       "isco88               13            14           NaN           NaN   \n",
       "sex                   3             3             3             3   \n",
       "sizeclas            NaN             2             2             2   \n",
       "unit                  3             3           NaN           NaN   \n",
       "\n",
       "                                                                  Uniques   \n",
       "Dataset  EARN_SES18_14                                     EARN_SES_AGT14   \n",
       "Year              2018                                               2002   \n",
       "Category                                                                    \n",
       "age                  5  [TOTAL, Y_LT30, Y30-39, Y40-49, Y50-59, Y_GE60...  \\\n",
       "currency           NaN                                                NaN   \n",
       "freq                 1                                                [A]   \n",
       "geo                 41  [EU25, EU15, NMS10, EA, EA12, BE, BG, CZ, DK, ...   \n",
       "indic_se             3                     [ERN, E_F_M_PC, OPAY, OP_E_PC]   \n",
       "isco08              14                                                NaN   \n",
       "isco88             NaN  [TOTAL, ISCO1-5, ISCO1, ISCO2, ISCO3, ISCO4, I...   \n",
       "sex                  3                                          [T, M, F]   \n",
       "sizeclas             2                                                NaN   \n",
       "unit                 4                                     [EUR, PPS, PC]   \n",
       "\n",
       "                                                              \n",
       "Dataset                                       EARN_SES06_14   \n",
       "Year                                                   2006   \n",
       "Category                                                      \n",
       "age       [TOTAL, Y_LT30, Y30-39, Y40-49, Y50-59, Y_GE60...  \\\n",
       "currency                                                NaN   \n",
       "freq                                                    [A]   \n",
       "geo       [EU27_2007, EU25, EU15, EA16, EA13, BE, BG, CZ...   \n",
       "indic_se                     [ERN, E_F_M_PC, OPAY, OP_E_PC]   \n",
       "isco08                                                  NaN   \n",
       "isco88    [TOTAL, ISCO1-5, ISCO1, ISCO2, ISCO3, ISCO4, I...   \n",
       "sex                                               [T, M, F]   \n",
       "sizeclas                                      [TOTAL, GE10]   \n",
       "unit                                         [EUR, PPS, PC]   \n",
       "\n",
       "                                                              \n",
       "Dataset                                       EARN_SES10_14   \n",
       "Year                                                   2010   \n",
       "Category                                                      \n",
       "age         [TOTAL, Y_LT30, Y30-39, Y40-49, Y50-59, Y_GE60]  \\\n",
       "currency                                     [EUR, PPS, PC]   \n",
       "freq                                                    [A]   \n",
       "geo       [EU28, EU27_2007, EU25, EU15, EA17, EA16, EA13...   \n",
       "indic_se                     [ERN, E_F_M_PC, OPAY, OP_E_PC]   \n",
       "isco08    [TOTAL, OC1-5, OC1, OC2, OC3, OC4, OC5, OC6, O...   \n",
       "isco88                                                  NaN   \n",
       "sex                                               [T, M, F]   \n",
       "sizeclas                                      [TOTAL, GE10]   \n",
       "unit                                                    NaN   \n",
       "\n",
       "                                                              \n",
       "Dataset                                       EARN_SES14_14   \n",
       "Year                                                   2014   \n",
       "Category                                                      \n",
       "age       [TOTAL, Y_LT30, Y30-39, Y30-49, Y40-49, Y50-59...  \\\n",
       "currency                                [EUR, PPS, PC, NAC]   \n",
       "freq                                                    [A]   \n",
       "geo       [EU28, EU27_2007, EA19, EA18, EA17, BE, BG, CZ...   \n",
       "indic_se                     [ERN, E_F_M_PC, OPAY, OP_E_PC]   \n",
       "isco08    [TOTAL, OC1-5, OC1, OC2, OC3, OC4, OC5, OC6, O...   \n",
       "isco88                                                  NaN   \n",
       "sex                                               [T, M, F]   \n",
       "sizeclas                                      [TOTAL, GE10]   \n",
       "unit                                                    NaN   \n",
       "\n",
       "                                                             \n",
       "Dataset                                       EARN_SES18_14  \n",
       "Year                                                   2018  \n",
       "Category                                                     \n",
       "age                    [TOTAL, Y_LT30, Y30-49, Y_GE50, UNK]  \n",
       "currency                                                NaN  \n",
       "freq                                                    [A]  \n",
       "geo       [EU27_2020, EU28, EU27_2007, EA19, EA18, EA17,...  \n",
       "indic_se                               [ERN, OPAY, OP_E_PC]  \n",
       "isco08    [TOTAL, OC1-5, OC1, OC2, OC3, OC4, OC5, OC6-8,...  \n",
       "isco88                                                  NaN  \n",
       "sex                                               [T, M, F]  \n",
       "sizeclas                                      [TOTAL, GE10]  \n",
       "unit                                    [EUR, NAC, PPS, PC]  "
      ]
     },
     "execution_count": 2,
     "metadata": {},
     "output_type": "execute_result"
    }
   ],
   "source": [
    "wages.cat_explorer(EARN_SES_14).pivot(index=\"Category\", columns=[\"Dataset\",\"Year\"], values=[\"#ofUniques\",\"Uniques\"])"
   ]
  },
  {
   "attachments": {},
   "cell_type": "markdown",
   "metadata": {},
   "source": [
    "* age\n",
    "* currency-unit\n",
    "* freq\n",
    "* geo\n",
    "* indic_se\n",
    "* isco08-isco88\n",
    "* sex\n",
    "* sizeclas"
   ]
  },
  {
   "cell_type": "code",
   "execution_count": 15,
   "metadata": {},
   "outputs": [
    {
     "data": {
      "text/plain": [
       "[('ERN', 'Gross earnings'),\n",
       " ('E_F_M_PC', 'Gross earnings of women as a percentage of those of men'),\n",
       " ('OPAY', 'Overtime pay'),\n",
       " ('OP_E_PC', 'Overtime pay as a percentage of earnings')]"
      ]
     },
     "execution_count": 15,
     "metadata": {},
     "output_type": "execute_result"
    }
   ],
   "source": [
    "eurostat.get_dic('EARN_SES06_14','indic_se', full=False,)"
   ]
  },
  {
   "cell_type": "code",
   "execution_count": 19,
   "metadata": {},
   "outputs": [
    {
     "data": {
      "text/plain": [
       "[('TOTAL', 'Total'),\n",
       " ('ISCO1-5', 'Non manual workers'),\n",
       " ('ISCO1', 'Legislators, senior officials and managers'),\n",
       " ('ISCO2', 'Professionals'),\n",
       " ('ISCO3', 'Technicians and associate professionals'),\n",
       " ('ISCO4', 'Clerks'),\n",
       " ('ISCO5', 'Service workers and shop and market sales workers'),\n",
       " ('ISCO6', 'Skilled agricultural and fishery workers'),\n",
       " ('ISCO7-9', 'Manual workers'),\n",
       " ('ISCO7', 'Craft and related trades workers'),\n",
       " ('ISCO8', 'Plant and machine operators and assemblers'),\n",
       " ('ISCO9', 'Elementary occupations'),\n",
       " ('ISCO0', 'Armed forces'),\n",
       " ('UNK', 'Unknown')]"
      ]
     },
     "execution_count": 19,
     "metadata": {},
     "output_type": "execute_result"
    }
   ],
   "source": [
    "eurostat.get_dic('EARN_SES06_14','isco88', full=False,)"
   ]
  },
  {
   "cell_type": "code",
   "execution_count": 20,
   "metadata": {},
   "outputs": [
    {
     "data": {
      "text/plain": [
       "[('EUR', 'Euro'),\n",
       " ('NAC', 'National currency'),\n",
       " ('PPS', 'Purchasing power standard (PPS)'),\n",
       " ('PC', 'Percentage')]"
      ]
     },
     "execution_count": 20,
     "metadata": {},
     "output_type": "execute_result"
    }
   ],
   "source": [
    "eurostat.get_dic('EARN_SES18_14','unit', full=False,)"
   ]
  },
  {
   "cell_type": "code",
   "execution_count": null,
   "metadata": {},
   "outputs": [],
   "source": []
  },
  {
   "attachments": {},
   "cell_type": "markdown",
   "metadata": {},
   "source": [
    "### Flag Check"
   ]
  },
  {
   "attachments": {},
   "cell_type": "markdown",
   "metadata": {},
   "source": [
    "For potential problems, it is good to check the data quality prior. Thereby we will import the data including the Flags which are:\n",
    " * b = break in time series, c = confidential, d = definition differs, see metadata, e = estimated, f = forecast, n = not significant, p = provisional, r = revised, s = Eurostat estimate, u = low reliability, z = not applicable.\n",
    "\n",
    "I will check  ***n,p,u*** among these flags for wage and employment data from Eurostat and record it to the data catalog. "
   ]
  },
  {
   "cell_type": "code",
   "execution_count": 75,
   "metadata": {},
   "outputs": [
    {
     "data": {
      "text/plain": [
       "array(['CZ', 'EA', 'EU15', 'EU25', 'LT', 'NL', 'NMS10', 'NO', 'SI', 'AT',\n",
       "       'BE', 'BG', 'CY', 'DE', 'DK', 'EA12', 'EE', 'EL', 'ES', 'FI', 'FR',\n",
       "       'HU', 'IE', 'IS', 'IT', 'LU', 'LV', 'MT', 'PL', 'PT', 'RO', 'SE',\n",
       "       'SK', 'UK'], dtype=object)"
      ]
     },
     "execution_count": 75,
     "metadata": {},
     "output_type": "execute_result"
    }
   ],
   "source": [
    "pd.unique(eurostat.get_data_df('EARN_SES_AGT14',True)[\"geo\\TIME_PERIOD\"])"
   ]
  },
  {
   "cell_type": "code",
   "execution_count": null,
   "metadata": {},
   "outputs": [],
   "source": []
  },
  {
   "cell_type": "code",
   "execution_count": 56,
   "metadata": {},
   "outputs": [
    {
     "data": {
      "text/plain": [
       "freq                       object\n",
       "age                        object\n",
       "unit                       object\n",
       "isco88                     object\n",
       "indic_se                   object\n",
       "sex                        object\n",
       "geo\\TIME_PERIOD            object\n",
       "2002_value                float64\n",
       "2002_flag                  object\n",
       "f                  string[python]\n",
       "dtype: object"
      ]
     },
     "execution_count": 56,
     "metadata": {},
     "output_type": "execute_result"
    }
   ],
   "source": [
    "df.dtypes"
   ]
  },
  {
   "cell_type": "code",
   "execution_count": 55,
   "metadata": {},
   "outputs": [],
   "source": [
    "# Convert the \"2002_flag\" column to string type\n",
    "df['f'] = df['2002_flag'].astype(\"string\")\n"
   ]
  },
  {
   "cell_type": "code",
   "execution_count": 67,
   "metadata": {},
   "outputs": [
    {
     "data": {
      "text/plain": [
       "geo\\TIME_PERIOD\n",
       "EA12    672\n",
       "EU15    672\n",
       "EU25    672\n",
       "Name: unit, dtype: int64"
      ]
     },
     "execution_count": 67,
     "metadata": {},
     "output_type": "execute_result"
    }
   ],
   "source": [
    "df.query('f == \"s\"').groupby(['geo\\TIME_PERIOD'])['unit'].count()"
   ]
  },
  {
   "attachments": {},
   "cell_type": "markdown",
   "metadata": {},
   "source": [
    "Start by importing *Eurostat **EARN_SES_AGT14** Mean hourly earnings by sex, age, occupation for 2002* 📀"
   ]
  },
  {
   "cell_type": "code",
   "execution_count": 17,
   "metadata": {},
   "outputs": [
    {
     "data": {
      "text/plain": [
       "DATAFLOW        object\n",
       "LAST UPDATE     object\n",
       "freq            object\n",
       "age             object\n",
       "unit            object\n",
       "isco88          object\n",
       "indic_se        object\n",
       "sex             object\n",
       "geo             object\n",
       "TIME_PERIOD      int64\n",
       "OBS_VALUE      float64\n",
       "OBS_FLAG        object\n",
       "dtype: object"
      ]
     },
     "execution_count": 17,
     "metadata": {},
     "output_type": "execute_result"
    }
   ],
   "source": [
    "df02 = pd.read_csv(f'{dl}/Eurostat/csv/EARN_SES_AGT14.csv')\n",
    "df02.dtypes"
   ]
  },
  {
   "cell_type": "code",
   "execution_count": null,
   "metadata": {},
   "outputs": [
    {
     "data": {
      "text/html": [
       "<div>\n",
       "<style scoped>\n",
       "    .dataframe tbody tr th:only-of-type {\n",
       "        vertical-align: middle;\n",
       "    }\n",
       "\n",
       "    .dataframe tbody tr th {\n",
       "        vertical-align: top;\n",
       "    }\n",
       "\n",
       "    .dataframe thead th {\n",
       "        text-align: right;\n",
       "    }\n",
       "</style>\n",
       "<table border=\"1\" class=\"dataframe\">\n",
       "  <thead>\n",
       "    <tr style=\"text-align: right;\">\n",
       "      <th></th>\n",
       "      <th>DATAFLOW</th>\n",
       "      <th>LAST UPDATE</th>\n",
       "      <th>freq</th>\n",
       "      <th>age</th>\n",
       "      <th>unit</th>\n",
       "      <th>isco88</th>\n",
       "      <th>indic_se</th>\n",
       "      <th>sex</th>\n",
       "      <th>geo</th>\n",
       "      <th>TIME_PERIOD</th>\n",
       "      <th>OBS_VALUE</th>\n",
       "      <th>OBS_FLAG</th>\n",
       "    </tr>\n",
       "  </thead>\n",
       "  <tbody>\n",
       "    <tr>\n",
       "      <th>count</th>\n",
       "      <td>36286</td>\n",
       "      <td>36286</td>\n",
       "      <td>36286</td>\n",
       "      <td>36286</td>\n",
       "      <td>36286</td>\n",
       "      <td>36286</td>\n",
       "      <td>36286</td>\n",
       "      <td>36286</td>\n",
       "      <td>36286</td>\n",
       "      <td>36286.0</td>\n",
       "      <td>36286.0</td>\n",
       "      <td>2016</td>\n",
       "    </tr>\n",
       "    <tr>\n",
       "      <th>unique</th>\n",
       "      <td>1</td>\n",
       "      <td>1</td>\n",
       "      <td>1</td>\n",
       "      <td>7</td>\n",
       "      <td>3</td>\n",
       "      <td>13</td>\n",
       "      <td>4</td>\n",
       "      <td>3</td>\n",
       "      <td>34</td>\n",
       "      <td>NaN</td>\n",
       "      <td>NaN</td>\n",
       "      <td>1</td>\n",
       "    </tr>\n",
       "  </tbody>\n",
       "</table>\n",
       "</div>"
      ],
      "text/plain": [
       "       DATAFLOW LAST UPDATE   freq    age   unit isco88 indic_se    sex   \n",
       "count     36286       36286  36286  36286  36286  36286    36286  36286  \\\n",
       "unique        1           1      1      7      3     13        4      3   \n",
       "\n",
       "          geo  TIME_PERIOD  OBS_VALUE OBS_FLAG  \n",
       "count   36286      36286.0    36286.0     2016  \n",
       "unique     34          NaN        NaN        1  "
      ]
     },
     "metadata": {},
     "output_type": "display_data"
    }
   ],
   "source": [
    "df02.describe(include='all')[0:2]"
   ]
  },
  {
   "cell_type": "code",
   "execution_count": null,
   "metadata": {},
   "outputs": [
    {
     "name": "stdout",
     "output_type": "stream",
     "text": [
      "['A']\n",
      "['TOTAL' 'UNK' 'Y30-39' 'Y40-49' 'Y50-59' 'Y_GE60' 'Y_LT30']\n",
      "['EUR' 'PC' 'PPS']\n",
      "['ISCO0' 'ISCO1' 'ISCO1-5' 'ISCO2' 'ISCO3' 'ISCO4' 'ISCO5' 'ISCO7'\n",
      " 'ISCO7-9' 'ISCO8' 'ISCO9' 'TOTAL' 'UNK']\n",
      "['ERN' 'OPAY' 'E_F_M_PC' 'OP_E_PC']\n",
      "['F' 'M' 'T']\n",
      "['CZ' 'EA' 'EU15' 'EU25' 'LT' 'NL' 'NMS10' 'NO' 'SI' 'AT' 'BE' 'BG' 'CY'\n",
      " 'DE' 'DK' 'EA12' 'EE' 'EL' 'ES' 'FI' 'FR' 'HU' 'IE' 'IS' 'IT' 'LU' 'LV'\n",
      " 'MT' 'PL' 'PT' 'RO' 'SE' 'SK' 'UK']\n",
      "[2002]\n"
     ]
    }
   ],
   "source": [
    "print(df02[\"freq\"].unique())\n",
    "print(df02[\"age\"].unique())\n",
    "print(df02[\"unit\"].unique())\n",
    "print(df02[\"isco88\"].unique())\n",
    "print(df02[\"indic_se\"].unique())\n",
    "print(df02[\"sex\"].unique())\n",
    "print(df02[\"geo\"].unique())\n",
    "print(df02[\"TIME_PERIOD\"].unique())"
   ]
  },
  {
   "cell_type": "code",
   "execution_count": null,
   "metadata": {},
   "outputs": [
    {
     "data": {
      "text/plain": [
       "DATAFLOW        object\n",
       "LAST UPDATE     object\n",
       "freq            object\n",
       "sizeclas        object\n",
       "age             object\n",
       "unit            object\n",
       "isco88          object\n",
       "indic_se        object\n",
       "sex             object\n",
       "geo             object\n",
       "TIME_PERIOD      int64\n",
       "OBS_VALUE      float64\n",
       "OBS_FLAG        object\n",
       "dtype: object"
      ]
     },
     "execution_count": 35,
     "metadata": {},
     "output_type": "execute_result"
    }
   ],
   "source": [
    "df06 = pd.read_csv(f'{cwd}Data/Eurostat/csv/EARN_SES06_14.csv')\n",
    "df06.dtypes"
   ]
  },
  {
   "cell_type": "code",
   "execution_count": null,
   "metadata": {},
   "outputs": [
    {
     "data": {
      "text/html": [
       "<div>\n",
       "<style scoped>\n",
       "    .dataframe tbody tr th:only-of-type {\n",
       "        vertical-align: middle;\n",
       "    }\n",
       "\n",
       "    .dataframe tbody tr th {\n",
       "        vertical-align: top;\n",
       "    }\n",
       "\n",
       "    .dataframe thead th {\n",
       "        text-align: right;\n",
       "    }\n",
       "</style>\n",
       "<table border=\"1\" class=\"dataframe\">\n",
       "  <thead>\n",
       "    <tr style=\"text-align: right;\">\n",
       "      <th></th>\n",
       "      <th>DATAFLOW</th>\n",
       "      <th>LAST UPDATE</th>\n",
       "      <th>freq</th>\n",
       "      <th>sizeclas</th>\n",
       "      <th>age</th>\n",
       "      <th>unit</th>\n",
       "      <th>isco88</th>\n",
       "      <th>indic_se</th>\n",
       "      <th>sex</th>\n",
       "      <th>geo</th>\n",
       "      <th>TIME_PERIOD</th>\n",
       "      <th>OBS_VALUE</th>\n",
       "      <th>OBS_FLAG</th>\n",
       "    </tr>\n",
       "  </thead>\n",
       "  <tbody>\n",
       "    <tr>\n",
       "      <th>count</th>\n",
       "      <td>61614</td>\n",
       "      <td>61614</td>\n",
       "      <td>61614</td>\n",
       "      <td>61614</td>\n",
       "      <td>61614</td>\n",
       "      <td>61614</td>\n",
       "      <td>61614</td>\n",
       "      <td>61614</td>\n",
       "      <td>61614</td>\n",
       "      <td>61614</td>\n",
       "      <td>61614.0</td>\n",
       "      <td>54440.0</td>\n",
       "      <td>7595</td>\n",
       "    </tr>\n",
       "    <tr>\n",
       "      <th>unique</th>\n",
       "      <td>1</td>\n",
       "      <td>1</td>\n",
       "      <td>1</td>\n",
       "      <td>2</td>\n",
       "      <td>7</td>\n",
       "      <td>3</td>\n",
       "      <td>14</td>\n",
       "      <td>4</td>\n",
       "      <td>3</td>\n",
       "      <td>35</td>\n",
       "      <td>NaN</td>\n",
       "      <td>NaN</td>\n",
       "      <td>2</td>\n",
       "    </tr>\n",
       "  </tbody>\n",
       "</table>\n",
       "</div>"
      ],
      "text/plain": [
       "       DATAFLOW LAST UPDATE   freq sizeclas    age   unit isco88 indic_se   \n",
       "count     61614       61614  61614    61614  61614  61614  61614    61614  \\\n",
       "unique        1           1      1        2      7      3     14        4   \n",
       "\n",
       "          sex    geo  TIME_PERIOD  OBS_VALUE OBS_FLAG  \n",
       "count   61614  61614      61614.0    54440.0     7595  \n",
       "unique      3     35          NaN        NaN        2  "
      ]
     },
     "metadata": {},
     "output_type": "display_data"
    }
   ],
   "source": [
    "df06.describe(include='all')[0:2]"
   ]
  },
  {
   "cell_type": "code",
   "execution_count": null,
   "metadata": {},
   "outputs": [
    {
     "name": "stdout",
     "output_type": "stream",
     "text": [
      "['A']\n",
      "['GE10' 'TOTAL']\n",
      "['TOTAL' 'UNK' 'Y30-39' 'Y40-49' 'Y50-59' 'Y_GE60' 'Y_LT30']\n",
      "['EUR' 'PC' 'PPS']\n",
      "['ISCO0' 'ISCO1' 'ISCO1-5' 'ISCO2' 'ISCO3' 'ISCO4' 'ISCO5' 'ISCO6' 'ISCO7'\n",
      " 'ISCO7-9' 'ISCO8' 'ISCO9' 'TOTAL' 'UNK']\n",
      "['ERN' 'OPAY' 'E_F_M_PC' 'OP_E_PC']\n",
      "['F' 'M' 'T']\n",
      "['DK' 'EA13' 'EA16' 'EL' 'EU15' 'EU25' 'EU27_2007' 'HU' 'LT' 'NL' 'NO'\n",
      " 'FI' 'AT' 'BE' 'BG' 'CY' 'CZ' 'DE' 'EE' 'ES' 'FR' 'IE' 'IS' 'IT' 'LU'\n",
      " 'LV' 'MT' 'PL' 'PT' 'RO' 'SE' 'SI' 'SK' 'TR' 'UK']\n",
      "[2006]\n"
     ]
    }
   ],
   "source": [
    "print(df06[\"freq\"].unique())\n",
    "print(df06[\"sizeclas\"].unique())\n",
    "print(df06[\"age\"].unique())\n",
    "print(df06[\"unit\"].unique())\n",
    "print(df06[\"isco88\"].unique())\n",
    "print(df06[\"indic_se\"].unique())\n",
    "print(df06[\"sex\"].unique())\n",
    "print(df06[\"geo\"].unique())\n",
    "print(df06[\"TIME_PERIOD\"].unique())"
   ]
  },
  {
   "attachments": {},
   "cell_type": "markdown",
   "metadata": {},
   "source": [
    "Start by importing *Eurostat **EARN_SES10_14** Mean hourly earnings by sex, age, occupation for 2010* 📀"
   ]
  },
  {
   "cell_type": "code",
   "execution_count": 83,
   "metadata": {},
   "outputs": [
    {
     "data": {
      "text/plain": [
       "DATAFLOW        object\n",
       "LAST UPDATE     object\n",
       "freq            object\n",
       "currency        object\n",
       "indic_se        object\n",
       "sizeclas        object\n",
       "isco08          object\n",
       "age             object\n",
       "sex             object\n",
       "geo             object\n",
       "TIME_PERIOD      int64\n",
       "OBS_VALUE      float64\n",
       "OBS_FLAG        object\n",
       "dtype: object"
      ]
     },
     "execution_count": 83,
     "metadata": {},
     "output_type": "execute_result"
    }
   ],
   "source": [
    "df10 = pd.read_csv(f'{cwd}Data/Eurostat/csv/EARN_SES10_14.csv')\n",
    "df10.dtypes"
   ]
  },
  {
   "cell_type": "code",
   "execution_count": 86,
   "metadata": {},
   "outputs": [
    {
     "data": {
      "text/html": [
       "<div>\n",
       "<style scoped>\n",
       "    .dataframe tbody tr th:only-of-type {\n",
       "        vertical-align: middle;\n",
       "    }\n",
       "\n",
       "    .dataframe tbody tr th {\n",
       "        vertical-align: top;\n",
       "    }\n",
       "\n",
       "    .dataframe thead th {\n",
       "        text-align: right;\n",
       "    }\n",
       "</style>\n",
       "<table border=\"1\" class=\"dataframe\">\n",
       "  <thead>\n",
       "    <tr style=\"text-align: right;\">\n",
       "      <th></th>\n",
       "      <th>DATAFLOW</th>\n",
       "      <th>LAST UPDATE</th>\n",
       "      <th>freq</th>\n",
       "      <th>currency</th>\n",
       "      <th>indic_se</th>\n",
       "      <th>sizeclas</th>\n",
       "      <th>isco08</th>\n",
       "      <th>age</th>\n",
       "      <th>sex</th>\n",
       "      <th>geo</th>\n",
       "      <th>TIME_PERIOD</th>\n",
       "      <th>OBS_VALUE</th>\n",
       "      <th>OBS_FLAG</th>\n",
       "    </tr>\n",
       "  </thead>\n",
       "  <tbody>\n",
       "    <tr>\n",
       "      <th>count</th>\n",
       "      <td>64628</td>\n",
       "      <td>64628</td>\n",
       "      <td>64628</td>\n",
       "      <td>64628</td>\n",
       "      <td>64628</td>\n",
       "      <td>64628</td>\n",
       "      <td>64628</td>\n",
       "      <td>64628</td>\n",
       "      <td>64628</td>\n",
       "      <td>64628</td>\n",
       "      <td>64628.0</td>\n",
       "      <td>63152.0</td>\n",
       "      <td>6223</td>\n",
       "    </tr>\n",
       "    <tr>\n",
       "      <th>unique</th>\n",
       "      <td>1</td>\n",
       "      <td>1</td>\n",
       "      <td>1</td>\n",
       "      <td>3</td>\n",
       "      <td>4</td>\n",
       "      <td>2</td>\n",
       "      <td>13</td>\n",
       "      <td>6</td>\n",
       "      <td>3</td>\n",
       "      <td>40</td>\n",
       "      <td>NaN</td>\n",
       "      <td>NaN</td>\n",
       "      <td>3</td>\n",
       "    </tr>\n",
       "  </tbody>\n",
       "</table>\n",
       "</div>"
      ],
      "text/plain": [
       "       DATAFLOW LAST UPDATE   freq currency indic_se sizeclas isco08    age   \n",
       "count     64628       64628  64628    64628    64628    64628  64628  64628  \\\n",
       "unique        1           1      1        3        4        2     13      6   \n",
       "\n",
       "          sex    geo  TIME_PERIOD  OBS_VALUE OBS_FLAG  \n",
       "count   64628  64628      64628.0    63152.0     6223  \n",
       "unique      3     40          NaN        NaN        3  "
      ]
     },
     "execution_count": 86,
     "metadata": {},
     "output_type": "execute_result"
    }
   ],
   "source": [
    "df10.describe(include='all')[0:2]"
   ]
  },
  {
   "cell_type": "code",
   "execution_count": 114,
   "metadata": {},
   "outputs": [
    {
     "name": "stdout",
     "output_type": "stream",
     "text": [
      "DATAFLOW\n",
      "LAST UPDATE\n",
      "freq\n",
      "currency\n",
      "indic_se\n",
      "sizeclas\n",
      "isco08\n",
      "age\n",
      "sex\n",
      "geo\n",
      "TIME_PERIOD\n",
      "OBS_FLAG\n"
     ]
    }
   ],
   "source": [
    "for i in df10.dtypes[df10.dtypes != \"float64\"].index:\n",
    "    print(i)"
   ]
  },
  {
   "cell_type": "code",
   "execution_count": 109,
   "metadata": {},
   "outputs": [
    {
     "name": "stdout",
     "output_type": "stream",
     "text": [
      "DATAFLOW\n",
      "LAST UPDATE\n",
      "freq\n",
      "currency\n",
      "indic_se\n",
      "sizeclas\n",
      "isco08\n",
      "age\n",
      "sex\n",
      "geo\n",
      "TIME_PERIOD\n",
      "OBS_VALUE\n",
      "OBS_FLAG\n"
     ]
    }
   ],
   "source": [
    "for i in df10.dtypes.index:\n",
    "    print(i)"
   ]
  },
  {
   "cell_type": "code",
   "execution_count": 115,
   "metadata": {},
   "outputs": [
    {
     "name": "stdout",
     "output_type": "stream",
     "text": [
      "['ESTAT:EARN_SES10_14(1.0)']\n",
      "['30/01/17 23:00:00']\n",
      "['A']\n",
      "['EUR' 'PC' 'PPS']\n",
      "['ERN' 'OPAY' 'E_F_M_PC' 'OP_E_PC']\n",
      "['GE10' 'TOTAL']\n",
      "['OC0' 'OC1' 'OC1-5' 'OC2' 'OC3' 'OC4' 'OC5' 'OC6' 'OC7' 'OC7-9' 'OC8'\n",
      " 'OC9' 'TOTAL']\n",
      "['TOTAL' 'Y30-39' 'Y40-49' 'Y50-59' 'Y_GE60' 'Y_LT30']\n",
      "['F' 'M' 'T']\n",
      "['EU25' 'EU27_2007' 'EU28' 'HU' 'EA13' 'EA16' 'EA17' 'EU15' 'HR' 'NL' 'NO'\n",
      " 'SI' 'AT' 'BE' 'BG' 'CH' 'CY' 'CZ' 'DE' 'DK' 'EE' 'EL' 'ES' 'FI' 'FR'\n",
      " 'IE' 'IS' 'IT' 'LT' 'LU' 'LV' 'MK' 'MT' 'PL' 'PT' 'RO' 'SE' 'SK' 'TR'\n",
      " 'UK']\n",
      "[2010]\n",
      "[ 7.72   nan 24.53 ... 29.85 24.72 33.61]\n",
      "['s' 'c' nan 'd']\n"
     ]
    }
   ],
   "source": [
    "for i in df10.dtypes.index:\n",
    "    print(df10[i].unique())\n",
    "    "
   ]
  },
  {
   "cell_type": "code",
   "execution_count": 116,
   "metadata": {},
   "outputs": [
    {
     "name": "stdout",
     "output_type": "stream",
     "text": [
      "['ESTAT:EARN_SES10_14(1.0)']\n",
      "['30/01/17 23:00:00']\n",
      "['A']\n",
      "['EUR' 'PC' 'PPS']\n",
      "['ERN' 'OPAY' 'E_F_M_PC' 'OP_E_PC']\n",
      "['GE10' 'TOTAL']\n",
      "['OC0' 'OC1' 'OC1-5' 'OC2' 'OC3' 'OC4' 'OC5' 'OC6' 'OC7' 'OC7-9' 'OC8'\n",
      " 'OC9' 'TOTAL']\n",
      "['TOTAL' 'Y30-39' 'Y40-49' 'Y50-59' 'Y_GE60' 'Y_LT30']\n",
      "['F' 'M' 'T']\n",
      "['EU25' 'EU27_2007' 'EU28' 'HU' 'EA13' 'EA16' 'EA17' 'EU15' 'HR' 'NL' 'NO'\n",
      " 'SI' 'AT' 'BE' 'BG' 'CH' 'CY' 'CZ' 'DE' 'DK' 'EE' 'EL' 'ES' 'FI' 'FR'\n",
      " 'IE' 'IS' 'IT' 'LT' 'LU' 'LV' 'MK' 'MT' 'PL' 'PT' 'RO' 'SE' 'SK' 'TR'\n",
      " 'UK']\n",
      "[2010]\n",
      "['s' 'c' nan 'd']\n"
     ]
    }
   ],
   "source": [
    "for i in df10.dtypes[df10.dtypes != \"float64\"].index:\n",
    "    print(df10[i].unique())\n",
    "    "
   ]
  },
  {
   "cell_type": "code",
   "execution_count": 71,
   "metadata": {},
   "outputs": [
    {
     "data": {
      "text/html": [
       "<div>\n",
       "<style scoped>\n",
       "    .dataframe tbody tr th:only-of-type {\n",
       "        vertical-align: middle;\n",
       "    }\n",
       "\n",
       "    .dataframe tbody tr th {\n",
       "        vertical-align: top;\n",
       "    }\n",
       "\n",
       "    .dataframe thead th {\n",
       "        text-align: right;\n",
       "    }\n",
       "</style>\n",
       "<table border=\"1\" class=\"dataframe\">\n",
       "  <thead>\n",
       "    <tr style=\"text-align: right;\">\n",
       "      <th></th>\n",
       "      <th>DATAFLOW</th>\n",
       "      <th>LAST UPDATE</th>\n",
       "      <th>freq</th>\n",
       "      <th>sizeclas</th>\n",
       "      <th>age</th>\n",
       "      <th>unit</th>\n",
       "      <th>isco88</th>\n",
       "      <th>indic_se</th>\n",
       "      <th>sex</th>\n",
       "      <th>geo</th>\n",
       "      <th>TIME_PERIOD</th>\n",
       "      <th>OBS_VALUE</th>\n",
       "      <th>OBS_FLAG</th>\n",
       "    </tr>\n",
       "  </thead>\n",
       "  <tbody>\n",
       "    <tr>\n",
       "      <th>0</th>\n",
       "      <td>ESTAT:EARN_SES06_14(1.0)</td>\n",
       "      <td>31/01/17 23:00:00</td>\n",
       "      <td>A</td>\n",
       "      <td>GE10</td>\n",
       "      <td>TOTAL</td>\n",
       "      <td>EUR</td>\n",
       "      <td>ISCO0</td>\n",
       "      <td>ERN</td>\n",
       "      <td>F</td>\n",
       "      <td>DK</td>\n",
       "      <td>2006</td>\n",
       "      <td>30.48</td>\n",
       "      <td>NaN</td>\n",
       "    </tr>\n",
       "    <tr>\n",
       "      <th>1</th>\n",
       "      <td>ESTAT:EARN_SES06_14(1.0)</td>\n",
       "      <td>31/01/17 23:00:00</td>\n",
       "      <td>A</td>\n",
       "      <td>GE10</td>\n",
       "      <td>TOTAL</td>\n",
       "      <td>EUR</td>\n",
       "      <td>ISCO0</td>\n",
       "      <td>ERN</td>\n",
       "      <td>F</td>\n",
       "      <td>EA13</td>\n",
       "      <td>2006</td>\n",
       "      <td>10.90</td>\n",
       "      <td>NaN</td>\n",
       "    </tr>\n",
       "    <tr>\n",
       "      <th>2</th>\n",
       "      <td>ESTAT:EARN_SES06_14(1.0)</td>\n",
       "      <td>31/01/17 23:00:00</td>\n",
       "      <td>A</td>\n",
       "      <td>GE10</td>\n",
       "      <td>TOTAL</td>\n",
       "      <td>EUR</td>\n",
       "      <td>ISCO0</td>\n",
       "      <td>ERN</td>\n",
       "      <td>F</td>\n",
       "      <td>EA16</td>\n",
       "      <td>2006</td>\n",
       "      <td>10.90</td>\n",
       "      <td>s</td>\n",
       "    </tr>\n",
       "    <tr>\n",
       "      <th>3</th>\n",
       "      <td>ESTAT:EARN_SES06_14(1.0)</td>\n",
       "      <td>31/01/17 23:00:00</td>\n",
       "      <td>A</td>\n",
       "      <td>GE10</td>\n",
       "      <td>TOTAL</td>\n",
       "      <td>EUR</td>\n",
       "      <td>ISCO0</td>\n",
       "      <td>ERN</td>\n",
       "      <td>F</td>\n",
       "      <td>EL</td>\n",
       "      <td>2006</td>\n",
       "      <td>NaN</td>\n",
       "      <td>c</td>\n",
       "    </tr>\n",
       "  </tbody>\n",
       "</table>\n",
       "</div>"
      ],
      "text/plain": [
       "                   DATAFLOW        LAST UPDATE freq sizeclas    age unit   \n",
       "0  ESTAT:EARN_SES06_14(1.0)  31/01/17 23:00:00    A     GE10  TOTAL  EUR  \\\n",
       "1  ESTAT:EARN_SES06_14(1.0)  31/01/17 23:00:00    A     GE10  TOTAL  EUR   \n",
       "2  ESTAT:EARN_SES06_14(1.0)  31/01/17 23:00:00    A     GE10  TOTAL  EUR   \n",
       "3  ESTAT:EARN_SES06_14(1.0)  31/01/17 23:00:00    A     GE10  TOTAL  EUR   \n",
       "\n",
       "  isco88 indic_se sex   geo  TIME_PERIOD  OBS_VALUE OBS_FLAG  \n",
       "0  ISCO0      ERN   F    DK         2006      30.48      NaN  \n",
       "1  ISCO0      ERN   F  EA13         2006      10.90      NaN  \n",
       "2  ISCO0      ERN   F  EA16         2006      10.90        s  \n",
       "3  ISCO0      ERN   F    EL         2006        NaN        c  "
      ]
     },
     "execution_count": 71,
     "metadata": {},
     "output_type": "execute_result"
    }
   ],
   "source": [
    "cwd=os.getcwd()[:-4]\n",
    "df18 = pd.read_csv(f'{cwd}Data/Eurostat/csv/EARN_SES18_14.csv')\n",
    "df14 = pd.read_csv(f'{cwd}Data/Eurostat/csv/EARN_SES14_14.csv')\n",
    "df10 = pd.read_csv(f'{cwd}Data/Eurostat/csv/EARN_SES10_14.csv')\n",
    "df06 = pd.read_csv(f'{cwd}Data/Eurostat/csv/EARN_SES06_14.csv')\n",
    "df06.head(4)\n"
   ]
  },
  {
   "cell_type": "code",
   "execution_count": 72,
   "metadata": {},
   "outputs": [
    {
     "data": {
      "text/plain": [
       "array(['OC0', 'OC1', 'OC1-5', 'OC2', 'OC3', 'OC4', 'OC5', 'OC6', 'OC7',\n",
       "       'OC7-9', 'OC8', 'OC9', 'TOTAL'], dtype=object)"
      ]
     },
     "execution_count": 72,
     "metadata": {},
     "output_type": "execute_result"
    }
   ],
   "source": [
    "df14.currency.unique()\n",
    "df14.geo.unique()\n",
    "df14.isco08.unique()"
   ]
  },
  {
   "cell_type": "code",
   "execution_count": 73,
   "metadata": {},
   "outputs": [
    {
     "data": {
      "text/plain": [
       "array(['ISCO0', 'ISCO1', 'ISCO1-5', 'ISCO2', 'ISCO3', 'ISCO4', 'ISCO5',\n",
       "       'ISCO6', 'ISCO7', 'ISCO7-9', 'ISCO8', 'ISCO9', 'TOTAL', 'UNK'],\n",
       "      dtype=object)"
      ]
     },
     "execution_count": 73,
     "metadata": {},
     "output_type": "execute_result"
    }
   ],
   "source": [
    "df06.isco88.unique()"
   ]
  },
  {
   "attachments": {},
   "cell_type": "markdown",
   "metadata": {
    "tags": []
   },
   "source": [
    "### Import of additional years"
   ]
  }
 ],
 "metadata": {
  "kernelspec": {
   "display_name": "Python 3",
   "language": "python",
   "name": "python3"
  },
  "language_info": {
   "codemirror_mode": {
    "name": "ipython",
    "version": 3
   },
   "file_extension": ".py",
   "mimetype": "text/x-python",
   "name": "python",
   "nbconvert_exporter": "python",
   "pygments_lexer": "ipython3",
   "version": "3.9.6"
  },
  "orig_nbformat": 4
 },
 "nbformat": 4,
 "nbformat_minor": 2
}
