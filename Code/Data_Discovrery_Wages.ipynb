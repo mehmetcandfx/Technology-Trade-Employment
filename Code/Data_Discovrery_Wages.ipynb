{
 "cells": [
  {
   "attachments": {},
   "cell_type": "markdown",
   "metadata": {},
   "source": [
    "# Ms Thesis Wage Data Discovery"
   ]
  },
  {
   "attachments": {},
   "cell_type": "markdown",
   "metadata": {},
   "source": [
    "### Overview:"
   ]
  },
  {
   "attachments": {},
   "cell_type": "markdown",
   "metadata": {},
   "source": [
    "**To-Do's:**\n",
    "* *Finish Data Gathering and Catalog Discovery for:*\n",
    " 1. Wage Data\n",
    " 2. Employment Data\n",
    " 3. Trade Data\n",
    " 4. FDI and FPI Data\n",
    " 5. Decomposed Output Data\n",
    " 6. Penn Table *(Controls)*\n"
   ]
  },
  {
   "attachments": {},
   "cell_type": "markdown",
   "metadata": {},
   "source": [
    "### Environment:"
   ]
  },
  {
   "cell_type": "code",
   "execution_count": 21,
   "metadata": {},
   "outputs": [],
   "source": [
    "#Packages\n",
    "\n",
    "import pandas as pd\n",
    "import os\n",
    "import eurostat\n",
    "\n",
    "#Constants\n",
    "\n",
    "dl=os.getcwd()[:-32]+'Data/Technology-Trade-Employment'"
   ]
  },
  {
   "attachments": {},
   "cell_type": "markdown",
   "metadata": {},
   "source": [
    "### Wages Data"
   ]
  },
  {
   "attachments": {},
   "cell_type": "markdown",
   "metadata": {},
   "source": [
    "Before discovering the data it is convenient to explain the datasets that will be used in the analysis briefly.\n",
    "Studies conducted in the field of wage premia generally rely on population surveys to analyze premiums on more categories such as gender, age group, economic activity, and most importantly, occupation. European-level population surveys are conducted once in 4 years accessible from 2002 to 2018 with the names: *\"European Community Household Panel (ECHP)\" and \"European Union Statistics on Income and Living Conditions (EU-SILC)\"*. It is important to mention that the original, or raw, survey data is disaggregated *(individual level)* and not open for public access. It is possible to obtain the so-called, **microdata** with the proper request, though due to extended delivery time and short thesis deadline, this research will be conducted by aggregated, *(by certain categories)* datasets of **Eurostat**.\n",
    "\n",
    "After browsi̇ng the Eurostat Database, I ended up with the following three different data sets for the years 2002, 2006, 2010, 2014, 2018:\n",
    "\n",
    "* Mean hourly earnings by sex, age, occupation for,\n",
    "* Mean hourly earnings by sex, economic activity and occupation *(Not available for 2002)*,\n",
    "* Mean hourly earnings by economic activity, sex, educational attainment level\n"
   ]
  },
  {
   "attachments": {},
   "cell_type": "markdown",
   "metadata": {},
   "source": [
    "For potential problems, it is good to check the data quality prior. Thereby we will import the data including the Flags which are:\n",
    " * b = break in time series, c = confidential, d = definition differs, see metadata, e = estimated, f = forecast, n = not significant, p = provisional, r = revised, s = Eurostat estimate, u = low reliability, z = not applicable.\n",
    "\n",
    "I will check  ***n,p,u*** among these flags for wage and employment data from Eurostat and record it to the data catalog. "
   ]
  },
  {
   "cell_type": "code",
   "execution_count": 30,
   "metadata": {},
   "outputs": [
    {
     "data": {
      "text/plain": [
       "['freq', 'age', 'unit', 'isco88', 'indic_se', 'sex', 'geo']"
      ]
     },
     "execution_count": 30,
     "metadata": {},
     "output_type": "execute_result"
    }
   ],
   "source": [
    "eurostat.get_pars('EARN_SES_AGT14')\n"
   ]
  },
  {
   "cell_type": "code",
   "execution_count": 53,
   "metadata": {},
   "outputs": [
    {
     "data": {
      "text/plain": [
       "2002_flag\n",
       "     34270\n",
       "s     2016\n",
       "Name: 2002_flag, dtype: int64"
      ]
     },
     "execution_count": 53,
     "metadata": {},
     "output_type": "execute_result"
    }
   ],
   "source": [
    "df=eurostat.get_data_df('EARN_SES_AGT14',True)\n",
    "df.groupby([\"2002_flag\"])[\"2002_flag\"].count()"
   ]
  },
  {
   "cell_type": "code",
   "execution_count": 56,
   "metadata": {},
   "outputs": [
    {
     "data": {
      "text/plain": [
       "freq                       object\n",
       "age                        object\n",
       "unit                       object\n",
       "isco88                     object\n",
       "indic_se                   object\n",
       "sex                        object\n",
       "geo\\TIME_PERIOD            object\n",
       "2002_value                float64\n",
       "2002_flag                  object\n",
       "f                  string[python]\n",
       "dtype: object"
      ]
     },
     "execution_count": 56,
     "metadata": {},
     "output_type": "execute_result"
    }
   ],
   "source": [
    "df.dtypes"
   ]
  },
  {
   "cell_type": "code",
   "execution_count": 55,
   "metadata": {},
   "outputs": [],
   "source": [
    "# Convert the \"2002_flag\" column to string type\n",
    "df['f'] = df['2002_flag'].astype(\"string\")\n"
   ]
  },
  {
   "cell_type": "code",
   "execution_count": 67,
   "metadata": {},
   "outputs": [
    {
     "data": {
      "text/plain": [
       "geo\\TIME_PERIOD\n",
       "EA12    672\n",
       "EU15    672\n",
       "EU25    672\n",
       "Name: unit, dtype: int64"
      ]
     },
     "execution_count": 67,
     "metadata": {},
     "output_type": "execute_result"
    }
   ],
   "source": [
    "df.query('f == \"s\"').groupby(['geo\\TIME_PERIOD'])['unit'].count()"
   ]
  },
  {
   "attachments": {},
   "cell_type": "markdown",
   "metadata": {},
   "source": [
    "Start by importing *Eurostat **EARN_SES_AGT14** Mean hourly earnings by sex, age, occupation for 2002* 📀"
   ]
  },
  {
   "cell_type": "code",
   "execution_count": 17,
   "metadata": {},
   "outputs": [
    {
     "data": {
      "text/plain": [
       "DATAFLOW        object\n",
       "LAST UPDATE     object\n",
       "freq            object\n",
       "age             object\n",
       "unit            object\n",
       "isco88          object\n",
       "indic_se        object\n",
       "sex             object\n",
       "geo             object\n",
       "TIME_PERIOD      int64\n",
       "OBS_VALUE      float64\n",
       "OBS_FLAG        object\n",
       "dtype: object"
      ]
     },
     "execution_count": 17,
     "metadata": {},
     "output_type": "execute_result"
    }
   ],
   "source": [
    "df02 = pd.read_csv(f'{dl}/Eurostat/csv/EARN_SES_AGT14.csv')\n",
    "df02.dtypes"
   ]
  },
  {
   "cell_type": "code",
   "execution_count": null,
   "metadata": {},
   "outputs": [
    {
     "data": {
      "text/html": [
       "<div>\n",
       "<style scoped>\n",
       "    .dataframe tbody tr th:only-of-type {\n",
       "        vertical-align: middle;\n",
       "    }\n",
       "\n",
       "    .dataframe tbody tr th {\n",
       "        vertical-align: top;\n",
       "    }\n",
       "\n",
       "    .dataframe thead th {\n",
       "        text-align: right;\n",
       "    }\n",
       "</style>\n",
       "<table border=\"1\" class=\"dataframe\">\n",
       "  <thead>\n",
       "    <tr style=\"text-align: right;\">\n",
       "      <th></th>\n",
       "      <th>DATAFLOW</th>\n",
       "      <th>LAST UPDATE</th>\n",
       "      <th>freq</th>\n",
       "      <th>age</th>\n",
       "      <th>unit</th>\n",
       "      <th>isco88</th>\n",
       "      <th>indic_se</th>\n",
       "      <th>sex</th>\n",
       "      <th>geo</th>\n",
       "      <th>TIME_PERIOD</th>\n",
       "      <th>OBS_VALUE</th>\n",
       "      <th>OBS_FLAG</th>\n",
       "    </tr>\n",
       "  </thead>\n",
       "  <tbody>\n",
       "    <tr>\n",
       "      <th>count</th>\n",
       "      <td>36286</td>\n",
       "      <td>36286</td>\n",
       "      <td>36286</td>\n",
       "      <td>36286</td>\n",
       "      <td>36286</td>\n",
       "      <td>36286</td>\n",
       "      <td>36286</td>\n",
       "      <td>36286</td>\n",
       "      <td>36286</td>\n",
       "      <td>36286.0</td>\n",
       "      <td>36286.0</td>\n",
       "      <td>2016</td>\n",
       "    </tr>\n",
       "    <tr>\n",
       "      <th>unique</th>\n",
       "      <td>1</td>\n",
       "      <td>1</td>\n",
       "      <td>1</td>\n",
       "      <td>7</td>\n",
       "      <td>3</td>\n",
       "      <td>13</td>\n",
       "      <td>4</td>\n",
       "      <td>3</td>\n",
       "      <td>34</td>\n",
       "      <td>NaN</td>\n",
       "      <td>NaN</td>\n",
       "      <td>1</td>\n",
       "    </tr>\n",
       "  </tbody>\n",
       "</table>\n",
       "</div>"
      ],
      "text/plain": [
       "       DATAFLOW LAST UPDATE   freq    age   unit isco88 indic_se    sex   \n",
       "count     36286       36286  36286  36286  36286  36286    36286  36286  \\\n",
       "unique        1           1      1      7      3     13        4      3   \n",
       "\n",
       "          geo  TIME_PERIOD  OBS_VALUE OBS_FLAG  \n",
       "count   36286      36286.0    36286.0     2016  \n",
       "unique     34          NaN        NaN        1  "
      ]
     },
     "metadata": {},
     "output_type": "display_data"
    }
   ],
   "source": [
    "df02.describe(include='all')[0:2]"
   ]
  },
  {
   "cell_type": "code",
   "execution_count": null,
   "metadata": {},
   "outputs": [
    {
     "name": "stdout",
     "output_type": "stream",
     "text": [
      "['A']\n",
      "['TOTAL' 'UNK' 'Y30-39' 'Y40-49' 'Y50-59' 'Y_GE60' 'Y_LT30']\n",
      "['EUR' 'PC' 'PPS']\n",
      "['ISCO0' 'ISCO1' 'ISCO1-5' 'ISCO2' 'ISCO3' 'ISCO4' 'ISCO5' 'ISCO7'\n",
      " 'ISCO7-9' 'ISCO8' 'ISCO9' 'TOTAL' 'UNK']\n",
      "['ERN' 'OPAY' 'E_F_M_PC' 'OP_E_PC']\n",
      "['F' 'M' 'T']\n",
      "['CZ' 'EA' 'EU15' 'EU25' 'LT' 'NL' 'NMS10' 'NO' 'SI' 'AT' 'BE' 'BG' 'CY'\n",
      " 'DE' 'DK' 'EA12' 'EE' 'EL' 'ES' 'FI' 'FR' 'HU' 'IE' 'IS' 'IT' 'LU' 'LV'\n",
      " 'MT' 'PL' 'PT' 'RO' 'SE' 'SK' 'UK']\n",
      "[2002]\n"
     ]
    }
   ],
   "source": [
    "print(df02[\"freq\"].unique())\n",
    "print(df02[\"age\"].unique())\n",
    "print(df02[\"unit\"].unique())\n",
    "print(df02[\"isco88\"].unique())\n",
    "print(df02[\"indic_se\"].unique())\n",
    "print(df02[\"sex\"].unique())\n",
    "print(df02[\"geo\"].unique())\n",
    "print(df02[\"TIME_PERIOD\"].unique())"
   ]
  },
  {
   "attachments": {},
   "cell_type": "markdown",
   "metadata": {},
   "source": [
    "Start by importing *Eurostat **EARN_SES06_14** Mean hourly earnings by sex, age, occupation for 2006* 📀"
   ]
  },
  {
   "cell_type": "code",
   "execution_count": null,
   "metadata": {},
   "outputs": [
    {
     "data": {
      "text/plain": [
       "DATAFLOW        object\n",
       "LAST UPDATE     object\n",
       "freq            object\n",
       "sizeclas        object\n",
       "age             object\n",
       "unit            object\n",
       "isco88          object\n",
       "indic_se        object\n",
       "sex             object\n",
       "geo             object\n",
       "TIME_PERIOD      int64\n",
       "OBS_VALUE      float64\n",
       "OBS_FLAG        object\n",
       "dtype: object"
      ]
     },
     "execution_count": 35,
     "metadata": {},
     "output_type": "execute_result"
    }
   ],
   "source": [
    "df06 = pd.read_csv(f'{cwd}Data/Eurostat/csv/EARN_SES06_14.csv')\n",
    "df06.dtypes"
   ]
  },
  {
   "cell_type": "code",
   "execution_count": null,
   "metadata": {},
   "outputs": [
    {
     "data": {
      "text/html": [
       "<div>\n",
       "<style scoped>\n",
       "    .dataframe tbody tr th:only-of-type {\n",
       "        vertical-align: middle;\n",
       "    }\n",
       "\n",
       "    .dataframe tbody tr th {\n",
       "        vertical-align: top;\n",
       "    }\n",
       "\n",
       "    .dataframe thead th {\n",
       "        text-align: right;\n",
       "    }\n",
       "</style>\n",
       "<table border=\"1\" class=\"dataframe\">\n",
       "  <thead>\n",
       "    <tr style=\"text-align: right;\">\n",
       "      <th></th>\n",
       "      <th>DATAFLOW</th>\n",
       "      <th>LAST UPDATE</th>\n",
       "      <th>freq</th>\n",
       "      <th>sizeclas</th>\n",
       "      <th>age</th>\n",
       "      <th>unit</th>\n",
       "      <th>isco88</th>\n",
       "      <th>indic_se</th>\n",
       "      <th>sex</th>\n",
       "      <th>geo</th>\n",
       "      <th>TIME_PERIOD</th>\n",
       "      <th>OBS_VALUE</th>\n",
       "      <th>OBS_FLAG</th>\n",
       "    </tr>\n",
       "  </thead>\n",
       "  <tbody>\n",
       "    <tr>\n",
       "      <th>count</th>\n",
       "      <td>61614</td>\n",
       "      <td>61614</td>\n",
       "      <td>61614</td>\n",
       "      <td>61614</td>\n",
       "      <td>61614</td>\n",
       "      <td>61614</td>\n",
       "      <td>61614</td>\n",
       "      <td>61614</td>\n",
       "      <td>61614</td>\n",
       "      <td>61614</td>\n",
       "      <td>61614.0</td>\n",
       "      <td>54440.0</td>\n",
       "      <td>7595</td>\n",
       "    </tr>\n",
       "    <tr>\n",
       "      <th>unique</th>\n",
       "      <td>1</td>\n",
       "      <td>1</td>\n",
       "      <td>1</td>\n",
       "      <td>2</td>\n",
       "      <td>7</td>\n",
       "      <td>3</td>\n",
       "      <td>14</td>\n",
       "      <td>4</td>\n",
       "      <td>3</td>\n",
       "      <td>35</td>\n",
       "      <td>NaN</td>\n",
       "      <td>NaN</td>\n",
       "      <td>2</td>\n",
       "    </tr>\n",
       "  </tbody>\n",
       "</table>\n",
       "</div>"
      ],
      "text/plain": [
       "       DATAFLOW LAST UPDATE   freq sizeclas    age   unit isco88 indic_se   \n",
       "count     61614       61614  61614    61614  61614  61614  61614    61614  \\\n",
       "unique        1           1      1        2      7      3     14        4   \n",
       "\n",
       "          sex    geo  TIME_PERIOD  OBS_VALUE OBS_FLAG  \n",
       "count   61614  61614      61614.0    54440.0     7595  \n",
       "unique      3     35          NaN        NaN        2  "
      ]
     },
     "metadata": {},
     "output_type": "display_data"
    }
   ],
   "source": [
    "df06.describe(include='all')[0:2]"
   ]
  },
  {
   "cell_type": "code",
   "execution_count": null,
   "metadata": {},
   "outputs": [
    {
     "name": "stdout",
     "output_type": "stream",
     "text": [
      "['A']\n",
      "['GE10' 'TOTAL']\n",
      "['TOTAL' 'UNK' 'Y30-39' 'Y40-49' 'Y50-59' 'Y_GE60' 'Y_LT30']\n",
      "['EUR' 'PC' 'PPS']\n",
      "['ISCO0' 'ISCO1' 'ISCO1-5' 'ISCO2' 'ISCO3' 'ISCO4' 'ISCO5' 'ISCO6' 'ISCO7'\n",
      " 'ISCO7-9' 'ISCO8' 'ISCO9' 'TOTAL' 'UNK']\n",
      "['ERN' 'OPAY' 'E_F_M_PC' 'OP_E_PC']\n",
      "['F' 'M' 'T']\n",
      "['DK' 'EA13' 'EA16' 'EL' 'EU15' 'EU25' 'EU27_2007' 'HU' 'LT' 'NL' 'NO'\n",
      " 'FI' 'AT' 'BE' 'BG' 'CY' 'CZ' 'DE' 'EE' 'ES' 'FR' 'IE' 'IS' 'IT' 'LU'\n",
      " 'LV' 'MT' 'PL' 'PT' 'RO' 'SE' 'SI' 'SK' 'TR' 'UK']\n",
      "[2006]\n"
     ]
    }
   ],
   "source": [
    "print(df06[\"freq\"].unique())\n",
    "print(df06[\"sizeclas\"].unique())\n",
    "print(df06[\"age\"].unique())\n",
    "print(df06[\"unit\"].unique())\n",
    "print(df06[\"isco88\"].unique())\n",
    "print(df06[\"indic_se\"].unique())\n",
    "print(df06[\"sex\"].unique())\n",
    "print(df06[\"geo\"].unique())\n",
    "print(df06[\"TIME_PERIOD\"].unique())"
   ]
  },
  {
   "attachments": {},
   "cell_type": "markdown",
   "metadata": {},
   "source": [
    "Start by importing *Eurostat **EARN_SES10_14** Mean hourly earnings by sex, age, occupation for 2010* 📀"
   ]
  },
  {
   "cell_type": "code",
   "execution_count": 83,
   "metadata": {},
   "outputs": [
    {
     "data": {
      "text/plain": [
       "DATAFLOW        object\n",
       "LAST UPDATE     object\n",
       "freq            object\n",
       "currency        object\n",
       "indic_se        object\n",
       "sizeclas        object\n",
       "isco08          object\n",
       "age             object\n",
       "sex             object\n",
       "geo             object\n",
       "TIME_PERIOD      int64\n",
       "OBS_VALUE      float64\n",
       "OBS_FLAG        object\n",
       "dtype: object"
      ]
     },
     "execution_count": 83,
     "metadata": {},
     "output_type": "execute_result"
    }
   ],
   "source": [
    "df10 = pd.read_csv(f'{cwd}Data/Eurostat/csv/EARN_SES10_14.csv')\n",
    "df10.dtypes"
   ]
  },
  {
   "cell_type": "code",
   "execution_count": 86,
   "metadata": {},
   "outputs": [
    {
     "data": {
      "text/html": [
       "<div>\n",
       "<style scoped>\n",
       "    .dataframe tbody tr th:only-of-type {\n",
       "        vertical-align: middle;\n",
       "    }\n",
       "\n",
       "    .dataframe tbody tr th {\n",
       "        vertical-align: top;\n",
       "    }\n",
       "\n",
       "    .dataframe thead th {\n",
       "        text-align: right;\n",
       "    }\n",
       "</style>\n",
       "<table border=\"1\" class=\"dataframe\">\n",
       "  <thead>\n",
       "    <tr style=\"text-align: right;\">\n",
       "      <th></th>\n",
       "      <th>DATAFLOW</th>\n",
       "      <th>LAST UPDATE</th>\n",
       "      <th>freq</th>\n",
       "      <th>currency</th>\n",
       "      <th>indic_se</th>\n",
       "      <th>sizeclas</th>\n",
       "      <th>isco08</th>\n",
       "      <th>age</th>\n",
       "      <th>sex</th>\n",
       "      <th>geo</th>\n",
       "      <th>TIME_PERIOD</th>\n",
       "      <th>OBS_VALUE</th>\n",
       "      <th>OBS_FLAG</th>\n",
       "    </tr>\n",
       "  </thead>\n",
       "  <tbody>\n",
       "    <tr>\n",
       "      <th>count</th>\n",
       "      <td>64628</td>\n",
       "      <td>64628</td>\n",
       "      <td>64628</td>\n",
       "      <td>64628</td>\n",
       "      <td>64628</td>\n",
       "      <td>64628</td>\n",
       "      <td>64628</td>\n",
       "      <td>64628</td>\n",
       "      <td>64628</td>\n",
       "      <td>64628</td>\n",
       "      <td>64628.0</td>\n",
       "      <td>63152.0</td>\n",
       "      <td>6223</td>\n",
       "    </tr>\n",
       "    <tr>\n",
       "      <th>unique</th>\n",
       "      <td>1</td>\n",
       "      <td>1</td>\n",
       "      <td>1</td>\n",
       "      <td>3</td>\n",
       "      <td>4</td>\n",
       "      <td>2</td>\n",
       "      <td>13</td>\n",
       "      <td>6</td>\n",
       "      <td>3</td>\n",
       "      <td>40</td>\n",
       "      <td>NaN</td>\n",
       "      <td>NaN</td>\n",
       "      <td>3</td>\n",
       "    </tr>\n",
       "  </tbody>\n",
       "</table>\n",
       "</div>"
      ],
      "text/plain": [
       "       DATAFLOW LAST UPDATE   freq currency indic_se sizeclas isco08    age   \n",
       "count     64628       64628  64628    64628    64628    64628  64628  64628  \\\n",
       "unique        1           1      1        3        4        2     13      6   \n",
       "\n",
       "          sex    geo  TIME_PERIOD  OBS_VALUE OBS_FLAG  \n",
       "count   64628  64628      64628.0    63152.0     6223  \n",
       "unique      3     40          NaN        NaN        3  "
      ]
     },
     "execution_count": 86,
     "metadata": {},
     "output_type": "execute_result"
    }
   ],
   "source": [
    "df10.describe(include='all')[0:2]"
   ]
  },
  {
   "cell_type": "code",
   "execution_count": 114,
   "metadata": {},
   "outputs": [
    {
     "name": "stdout",
     "output_type": "stream",
     "text": [
      "DATAFLOW\n",
      "LAST UPDATE\n",
      "freq\n",
      "currency\n",
      "indic_se\n",
      "sizeclas\n",
      "isco08\n",
      "age\n",
      "sex\n",
      "geo\n",
      "TIME_PERIOD\n",
      "OBS_FLAG\n"
     ]
    }
   ],
   "source": [
    "for i in df10.dtypes[df10.dtypes != \"float64\"].index:\n",
    "    print(i)"
   ]
  },
  {
   "cell_type": "code",
   "execution_count": 109,
   "metadata": {},
   "outputs": [
    {
     "name": "stdout",
     "output_type": "stream",
     "text": [
      "DATAFLOW\n",
      "LAST UPDATE\n",
      "freq\n",
      "currency\n",
      "indic_se\n",
      "sizeclas\n",
      "isco08\n",
      "age\n",
      "sex\n",
      "geo\n",
      "TIME_PERIOD\n",
      "OBS_VALUE\n",
      "OBS_FLAG\n"
     ]
    }
   ],
   "source": [
    "for i in df10.dtypes.index:\n",
    "    print(i)"
   ]
  },
  {
   "cell_type": "code",
   "execution_count": 115,
   "metadata": {},
   "outputs": [
    {
     "name": "stdout",
     "output_type": "stream",
     "text": [
      "['ESTAT:EARN_SES10_14(1.0)']\n",
      "['30/01/17 23:00:00']\n",
      "['A']\n",
      "['EUR' 'PC' 'PPS']\n",
      "['ERN' 'OPAY' 'E_F_M_PC' 'OP_E_PC']\n",
      "['GE10' 'TOTAL']\n",
      "['OC0' 'OC1' 'OC1-5' 'OC2' 'OC3' 'OC4' 'OC5' 'OC6' 'OC7' 'OC7-9' 'OC8'\n",
      " 'OC9' 'TOTAL']\n",
      "['TOTAL' 'Y30-39' 'Y40-49' 'Y50-59' 'Y_GE60' 'Y_LT30']\n",
      "['F' 'M' 'T']\n",
      "['EU25' 'EU27_2007' 'EU28' 'HU' 'EA13' 'EA16' 'EA17' 'EU15' 'HR' 'NL' 'NO'\n",
      " 'SI' 'AT' 'BE' 'BG' 'CH' 'CY' 'CZ' 'DE' 'DK' 'EE' 'EL' 'ES' 'FI' 'FR'\n",
      " 'IE' 'IS' 'IT' 'LT' 'LU' 'LV' 'MK' 'MT' 'PL' 'PT' 'RO' 'SE' 'SK' 'TR'\n",
      " 'UK']\n",
      "[2010]\n",
      "[ 7.72   nan 24.53 ... 29.85 24.72 33.61]\n",
      "['s' 'c' nan 'd']\n"
     ]
    }
   ],
   "source": [
    "for i in df10.dtypes.index:\n",
    "    print(df10[i].unique())\n",
    "    "
   ]
  },
  {
   "cell_type": "code",
   "execution_count": 116,
   "metadata": {},
   "outputs": [
    {
     "name": "stdout",
     "output_type": "stream",
     "text": [
      "['ESTAT:EARN_SES10_14(1.0)']\n",
      "['30/01/17 23:00:00']\n",
      "['A']\n",
      "['EUR' 'PC' 'PPS']\n",
      "['ERN' 'OPAY' 'E_F_M_PC' 'OP_E_PC']\n",
      "['GE10' 'TOTAL']\n",
      "['OC0' 'OC1' 'OC1-5' 'OC2' 'OC3' 'OC4' 'OC5' 'OC6' 'OC7' 'OC7-9' 'OC8'\n",
      " 'OC9' 'TOTAL']\n",
      "['TOTAL' 'Y30-39' 'Y40-49' 'Y50-59' 'Y_GE60' 'Y_LT30']\n",
      "['F' 'M' 'T']\n",
      "['EU25' 'EU27_2007' 'EU28' 'HU' 'EA13' 'EA16' 'EA17' 'EU15' 'HR' 'NL' 'NO'\n",
      " 'SI' 'AT' 'BE' 'BG' 'CH' 'CY' 'CZ' 'DE' 'DK' 'EE' 'EL' 'ES' 'FI' 'FR'\n",
      " 'IE' 'IS' 'IT' 'LT' 'LU' 'LV' 'MK' 'MT' 'PL' 'PT' 'RO' 'SE' 'SK' 'TR'\n",
      " 'UK']\n",
      "[2010]\n",
      "['s' 'c' nan 'd']\n"
     ]
    }
   ],
   "source": [
    "for i in df10.dtypes[df10.dtypes != \"float64\"].index:\n",
    "    print(df10[i].unique())\n",
    "    "
   ]
  },
  {
   "cell_type": "code",
   "execution_count": 71,
   "metadata": {},
   "outputs": [
    {
     "data": {
      "text/html": [
       "<div>\n",
       "<style scoped>\n",
       "    .dataframe tbody tr th:only-of-type {\n",
       "        vertical-align: middle;\n",
       "    }\n",
       "\n",
       "    .dataframe tbody tr th {\n",
       "        vertical-align: top;\n",
       "    }\n",
       "\n",
       "    .dataframe thead th {\n",
       "        text-align: right;\n",
       "    }\n",
       "</style>\n",
       "<table border=\"1\" class=\"dataframe\">\n",
       "  <thead>\n",
       "    <tr style=\"text-align: right;\">\n",
       "      <th></th>\n",
       "      <th>DATAFLOW</th>\n",
       "      <th>LAST UPDATE</th>\n",
       "      <th>freq</th>\n",
       "      <th>sizeclas</th>\n",
       "      <th>age</th>\n",
       "      <th>unit</th>\n",
       "      <th>isco88</th>\n",
       "      <th>indic_se</th>\n",
       "      <th>sex</th>\n",
       "      <th>geo</th>\n",
       "      <th>TIME_PERIOD</th>\n",
       "      <th>OBS_VALUE</th>\n",
       "      <th>OBS_FLAG</th>\n",
       "    </tr>\n",
       "  </thead>\n",
       "  <tbody>\n",
       "    <tr>\n",
       "      <th>0</th>\n",
       "      <td>ESTAT:EARN_SES06_14(1.0)</td>\n",
       "      <td>31/01/17 23:00:00</td>\n",
       "      <td>A</td>\n",
       "      <td>GE10</td>\n",
       "      <td>TOTAL</td>\n",
       "      <td>EUR</td>\n",
       "      <td>ISCO0</td>\n",
       "      <td>ERN</td>\n",
       "      <td>F</td>\n",
       "      <td>DK</td>\n",
       "      <td>2006</td>\n",
       "      <td>30.48</td>\n",
       "      <td>NaN</td>\n",
       "    </tr>\n",
       "    <tr>\n",
       "      <th>1</th>\n",
       "      <td>ESTAT:EARN_SES06_14(1.0)</td>\n",
       "      <td>31/01/17 23:00:00</td>\n",
       "      <td>A</td>\n",
       "      <td>GE10</td>\n",
       "      <td>TOTAL</td>\n",
       "      <td>EUR</td>\n",
       "      <td>ISCO0</td>\n",
       "      <td>ERN</td>\n",
       "      <td>F</td>\n",
       "      <td>EA13</td>\n",
       "      <td>2006</td>\n",
       "      <td>10.90</td>\n",
       "      <td>NaN</td>\n",
       "    </tr>\n",
       "    <tr>\n",
       "      <th>2</th>\n",
       "      <td>ESTAT:EARN_SES06_14(1.0)</td>\n",
       "      <td>31/01/17 23:00:00</td>\n",
       "      <td>A</td>\n",
       "      <td>GE10</td>\n",
       "      <td>TOTAL</td>\n",
       "      <td>EUR</td>\n",
       "      <td>ISCO0</td>\n",
       "      <td>ERN</td>\n",
       "      <td>F</td>\n",
       "      <td>EA16</td>\n",
       "      <td>2006</td>\n",
       "      <td>10.90</td>\n",
       "      <td>s</td>\n",
       "    </tr>\n",
       "    <tr>\n",
       "      <th>3</th>\n",
       "      <td>ESTAT:EARN_SES06_14(1.0)</td>\n",
       "      <td>31/01/17 23:00:00</td>\n",
       "      <td>A</td>\n",
       "      <td>GE10</td>\n",
       "      <td>TOTAL</td>\n",
       "      <td>EUR</td>\n",
       "      <td>ISCO0</td>\n",
       "      <td>ERN</td>\n",
       "      <td>F</td>\n",
       "      <td>EL</td>\n",
       "      <td>2006</td>\n",
       "      <td>NaN</td>\n",
       "      <td>c</td>\n",
       "    </tr>\n",
       "  </tbody>\n",
       "</table>\n",
       "</div>"
      ],
      "text/plain": [
       "                   DATAFLOW        LAST UPDATE freq sizeclas    age unit   \n",
       "0  ESTAT:EARN_SES06_14(1.0)  31/01/17 23:00:00    A     GE10  TOTAL  EUR  \\\n",
       "1  ESTAT:EARN_SES06_14(1.0)  31/01/17 23:00:00    A     GE10  TOTAL  EUR   \n",
       "2  ESTAT:EARN_SES06_14(1.0)  31/01/17 23:00:00    A     GE10  TOTAL  EUR   \n",
       "3  ESTAT:EARN_SES06_14(1.0)  31/01/17 23:00:00    A     GE10  TOTAL  EUR   \n",
       "\n",
       "  isco88 indic_se sex   geo  TIME_PERIOD  OBS_VALUE OBS_FLAG  \n",
       "0  ISCO0      ERN   F    DK         2006      30.48      NaN  \n",
       "1  ISCO0      ERN   F  EA13         2006      10.90      NaN  \n",
       "2  ISCO0      ERN   F  EA16         2006      10.90        s  \n",
       "3  ISCO0      ERN   F    EL         2006        NaN        c  "
      ]
     },
     "execution_count": 71,
     "metadata": {},
     "output_type": "execute_result"
    }
   ],
   "source": [
    "cwd=os.getcwd()[:-4]\n",
    "df18 = pd.read_csv(f'{cwd}Data/Eurostat/csv/EARN_SES18_14.csv')\n",
    "df14 = pd.read_csv(f'{cwd}Data/Eurostat/csv/EARN_SES14_14.csv')\n",
    "df10 = pd.read_csv(f'{cwd}Data/Eurostat/csv/EARN_SES10_14.csv')\n",
    "df06 = pd.read_csv(f'{cwd}Data/Eurostat/csv/EARN_SES06_14.csv')\n",
    "df06.head(4)\n"
   ]
  },
  {
   "cell_type": "code",
   "execution_count": 72,
   "metadata": {},
   "outputs": [
    {
     "data": {
      "text/plain": [
       "array(['OC0', 'OC1', 'OC1-5', 'OC2', 'OC3', 'OC4', 'OC5', 'OC6', 'OC7',\n",
       "       'OC7-9', 'OC8', 'OC9', 'TOTAL'], dtype=object)"
      ]
     },
     "execution_count": 72,
     "metadata": {},
     "output_type": "execute_result"
    }
   ],
   "source": [
    "df14.currency.unique()\n",
    "df14.geo.unique()\n",
    "df14.isco08.unique()"
   ]
  },
  {
   "cell_type": "code",
   "execution_count": 73,
   "metadata": {},
   "outputs": [
    {
     "data": {
      "text/plain": [
       "array(['ISCO0', 'ISCO1', 'ISCO1-5', 'ISCO2', 'ISCO3', 'ISCO4', 'ISCO5',\n",
       "       'ISCO6', 'ISCO7', 'ISCO7-9', 'ISCO8', 'ISCO9', 'TOTAL', 'UNK'],\n",
       "      dtype=object)"
      ]
     },
     "execution_count": 73,
     "metadata": {},
     "output_type": "execute_result"
    }
   ],
   "source": [
    "df06.isco88.unique()"
   ]
  },
  {
   "cell_type": "code",
   "execution_count": 74,
   "metadata": {},
   "outputs": [],
   "source": [
    "df18=df18.drop(['DATAFLOW', 'LAST UPDATE', 'freq','OBS_FLAG' ], axis=1)\n",
    "df_NL_18=df18[(df18[\"geo\"] == 'NL') & (df18[\"unit\"] == 'EUR') & (df18[\"isco08\"].isin(['OC1','OC5','OC9']))\n",
    "            & (df18[\"sex\"] == 'T') & (df18[\"age\"] == 'TOTAL') & (df18[\"sizeclas\"] == 'TOTAL')\n",
    "            & (df18[\"indic_se\"] == 'ERN' )]"
   ]
  },
  {
   "cell_type": "code",
   "execution_count": 75,
   "metadata": {},
   "outputs": [],
   "source": [
    "df14=df14.drop(['DATAFLOW', 'LAST UPDATE', 'freq','OBS_FLAG' ], axis=1)\n",
    "df_NL_14=df14[(df14[\"geo\"] == 'NL') & (df14[\"currency\"] == 'EUR') & (df14[\"isco08\"].isin(['OC1','OC5','OC9']))\n",
    "            & (df14[\"sex\"] == 'T') & (df14[\"age\"] == 'TOTAL') & (df14[\"sizeclas\"] == 'TOTAL')\n",
    "            & (df14[\"indic_se\"] == 'ERN' )]"
   ]
  },
  {
   "cell_type": "code",
   "execution_count": 76,
   "metadata": {},
   "outputs": [],
   "source": [
    "df10=df10.drop(['DATAFLOW', 'LAST UPDATE', 'freq','OBS_FLAG' ], axis=1)\n",
    "df_NL_10=df10[(df10[\"geo\"] == 'NL') & (df10[\"currency\"] == 'EUR') & (df10[\"isco08\"].isin(['OC1','OC5','OC9']))\n",
    "            & (df10[\"sex\"] == 'T') & (df10[\"age\"] == 'TOTAL') & (df10[\"sizeclas\"] == 'TOTAL')\n",
    "            & (df10[\"indic_se\"] == 'ERN' )]"
   ]
  },
  {
   "cell_type": "code",
   "execution_count": 77,
   "metadata": {},
   "outputs": [],
   "source": [
    "df06=df06.drop(['DATAFLOW', 'LAST UPDATE', 'freq','OBS_FLAG'], axis=1)\n",
    "df_NL_06=df06[(df06[\"geo\"] == 'NL') & (df06[\"unit\"] == 'EUR')& (df06[\"isco88\"].isin(['ISCO1','ISCO5','ISCO9']))\n",
    "            & (df06[\"sex\"] == 'T') & (df06[\"age\"] == 'TOTAL') & (df06[\"sizeclas\"] == 'TOTAL')\n",
    "            & (df06[\"indic_se\"] == 'ERN' )]"
   ]
  },
  {
   "attachments": {},
   "cell_type": "markdown",
   "metadata": {
    "tags": []
   },
   "source": [
    "### Import of additional years"
   ]
  },
  {
   "cell_type": "code",
   "execution_count": 78,
   "metadata": {},
   "outputs": [
    {
     "data": {
      "text/html": [
       "<div>\n",
       "<style scoped>\n",
       "    .dataframe tbody tr th:only-of-type {\n",
       "        vertical-align: middle;\n",
       "    }\n",
       "\n",
       "    .dataframe tbody tr th {\n",
       "        vertical-align: top;\n",
       "    }\n",
       "\n",
       "    .dataframe thead th {\n",
       "        text-align: right;\n",
       "    }\n",
       "</style>\n",
       "<table border=\"1\" class=\"dataframe\">\n",
       "  <thead>\n",
       "    <tr style=\"text-align: right;\">\n",
       "      <th></th>\n",
       "      <th>age</th>\n",
       "      <th>indic_se</th>\n",
       "      <th>isco08</th>\n",
       "      <th>sex</th>\n",
       "      <th>sizeclas</th>\n",
       "      <th>unit</th>\n",
       "      <th>geo</th>\n",
       "      <th>TIME_PERIOD</th>\n",
       "      <th>OBS_VALUE</th>\n",
       "    </tr>\n",
       "  </thead>\n",
       "  <tbody>\n",
       "    <tr>\n",
       "      <th>692</th>\n",
       "      <td>TOTAL</td>\n",
       "      <td>ERN</td>\n",
       "      <td>OC1</td>\n",
       "      <td>T</td>\n",
       "      <td>TOTAL</td>\n",
       "      <td>EUR</td>\n",
       "      <td>NL</td>\n",
       "      <td>2018</td>\n",
       "      <td>33.51</td>\n",
       "    </tr>\n",
       "    <tr>\n",
       "      <th>3302</th>\n",
       "      <td>TOTAL</td>\n",
       "      <td>ERN</td>\n",
       "      <td>OC5</td>\n",
       "      <td>T</td>\n",
       "      <td>TOTAL</td>\n",
       "      <td>EUR</td>\n",
       "      <td>NL</td>\n",
       "      <td>2018</td>\n",
       "      <td>12.97</td>\n",
       "    </tr>\n",
       "    <tr>\n",
       "      <th>6374</th>\n",
       "      <td>TOTAL</td>\n",
       "      <td>ERN</td>\n",
       "      <td>OC9</td>\n",
       "      <td>T</td>\n",
       "      <td>TOTAL</td>\n",
       "      <td>EUR</td>\n",
       "      <td>NL</td>\n",
       "      <td>2018</td>\n",
       "      <td>10.46</td>\n",
       "    </tr>\n",
       "  </tbody>\n",
       "</table>\n",
       "</div>"
      ],
      "text/plain": [
       "        age indic_se isco08 sex sizeclas unit geo  TIME_PERIOD  OBS_VALUE\n",
       "692   TOTAL      ERN    OC1   T    TOTAL  EUR  NL         2018      33.51\n",
       "3302  TOTAL      ERN    OC5   T    TOTAL  EUR  NL         2018      12.97\n",
       "6374  TOTAL      ERN    OC9   T    TOTAL  EUR  NL         2018      10.46"
      ]
     },
     "execution_count": 78,
     "metadata": {},
     "output_type": "execute_result"
    }
   ],
   "source": [
    "df_NL_18"
   ]
  },
  {
   "cell_type": "code",
   "execution_count": 79,
   "metadata": {},
   "outputs": [
    {
     "data": {
      "text/html": [
       "<div>\n",
       "<style scoped>\n",
       "    .dataframe tbody tr th:only-of-type {\n",
       "        vertical-align: middle;\n",
       "    }\n",
       "\n",
       "    .dataframe tbody tr th {\n",
       "        vertical-align: top;\n",
       "    }\n",
       "\n",
       "    .dataframe thead th {\n",
       "        text-align: right;\n",
       "    }\n",
       "</style>\n",
       "<table border=\"1\" class=\"dataframe\">\n",
       "  <thead>\n",
       "    <tr style=\"text-align: right;\">\n",
       "      <th></th>\n",
       "      <th>currency</th>\n",
       "      <th>indic_se</th>\n",
       "      <th>sizeclas</th>\n",
       "      <th>isco08</th>\n",
       "      <th>age</th>\n",
       "      <th>sex</th>\n",
       "      <th>geo</th>\n",
       "      <th>TIME_PERIOD</th>\n",
       "      <th>OBS_VALUE</th>\n",
       "    </tr>\n",
       "  </thead>\n",
       "  <tbody>\n",
       "    <tr>\n",
       "      <th>8835</th>\n",
       "      <td>EUR</td>\n",
       "      <td>ERN</td>\n",
       "      <td>TOTAL</td>\n",
       "      <td>OC1</td>\n",
       "      <td>TOTAL</td>\n",
       "      <td>T</td>\n",
       "      <td>NL</td>\n",
       "      <td>2014</td>\n",
       "      <td>30.50</td>\n",
       "    </tr>\n",
       "    <tr>\n",
       "      <th>10565</th>\n",
       "      <td>EUR</td>\n",
       "      <td>ERN</td>\n",
       "      <td>TOTAL</td>\n",
       "      <td>OC5</td>\n",
       "      <td>TOTAL</td>\n",
       "      <td>T</td>\n",
       "      <td>NL</td>\n",
       "      <td>2014</td>\n",
       "      <td>12.34</td>\n",
       "    </tr>\n",
       "    <tr>\n",
       "      <th>12191</th>\n",
       "      <td>EUR</td>\n",
       "      <td>ERN</td>\n",
       "      <td>TOTAL</td>\n",
       "      <td>OC9</td>\n",
       "      <td>TOTAL</td>\n",
       "      <td>T</td>\n",
       "      <td>NL</td>\n",
       "      <td>2014</td>\n",
       "      <td>10.42</td>\n",
       "    </tr>\n",
       "  </tbody>\n",
       "</table>\n",
       "</div>"
      ],
      "text/plain": [
       "      currency indic_se sizeclas isco08    age sex geo  TIME_PERIOD  OBS_VALUE\n",
       "8835       EUR      ERN    TOTAL    OC1  TOTAL   T  NL         2014      30.50\n",
       "10565      EUR      ERN    TOTAL    OC5  TOTAL   T  NL         2014      12.34\n",
       "12191      EUR      ERN    TOTAL    OC9  TOTAL   T  NL         2014      10.42"
      ]
     },
     "execution_count": 79,
     "metadata": {},
     "output_type": "execute_result"
    }
   ],
   "source": [
    "df_NL_14"
   ]
  },
  {
   "cell_type": "code",
   "execution_count": 80,
   "metadata": {},
   "outputs": [
    {
     "data": {
      "text/html": [
       "<div>\n",
       "<style scoped>\n",
       "    .dataframe tbody tr th:only-of-type {\n",
       "        vertical-align: middle;\n",
       "    }\n",
       "\n",
       "    .dataframe tbody tr th {\n",
       "        vertical-align: top;\n",
       "    }\n",
       "\n",
       "    .dataframe thead th {\n",
       "        text-align: right;\n",
       "    }\n",
       "</style>\n",
       "<table border=\"1\" class=\"dataframe\">\n",
       "  <thead>\n",
       "    <tr style=\"text-align: right;\">\n",
       "      <th></th>\n",
       "      <th>currency</th>\n",
       "      <th>indic_se</th>\n",
       "      <th>sizeclas</th>\n",
       "      <th>isco08</th>\n",
       "      <th>age</th>\n",
       "      <th>sex</th>\n",
       "      <th>geo</th>\n",
       "      <th>TIME_PERIOD</th>\n",
       "      <th>OBS_VALUE</th>\n",
       "    </tr>\n",
       "  </thead>\n",
       "  <tbody>\n",
       "    <tr>\n",
       "      <th>8731</th>\n",
       "      <td>EUR</td>\n",
       "      <td>ERN</td>\n",
       "      <td>TOTAL</td>\n",
       "      <td>OC1</td>\n",
       "      <td>TOTAL</td>\n",
       "      <td>T</td>\n",
       "      <td>NL</td>\n",
       "      <td>2010</td>\n",
       "      <td>28.15</td>\n",
       "    </tr>\n",
       "    <tr>\n",
       "      <th>10257</th>\n",
       "      <td>EUR</td>\n",
       "      <td>ERN</td>\n",
       "      <td>TOTAL</td>\n",
       "      <td>OC5</td>\n",
       "      <td>TOTAL</td>\n",
       "      <td>T</td>\n",
       "      <td>NL</td>\n",
       "      <td>2010</td>\n",
       "      <td>12.16</td>\n",
       "    </tr>\n",
       "    <tr>\n",
       "      <th>11678</th>\n",
       "      <td>EUR</td>\n",
       "      <td>ERN</td>\n",
       "      <td>TOTAL</td>\n",
       "      <td>OC9</td>\n",
       "      <td>TOTAL</td>\n",
       "      <td>T</td>\n",
       "      <td>NL</td>\n",
       "      <td>2010</td>\n",
       "      <td>10.04</td>\n",
       "    </tr>\n",
       "  </tbody>\n",
       "</table>\n",
       "</div>"
      ],
      "text/plain": [
       "      currency indic_se sizeclas isco08    age sex geo  TIME_PERIOD  OBS_VALUE\n",
       "8731       EUR      ERN    TOTAL    OC1  TOTAL   T  NL         2010      28.15\n",
       "10257      EUR      ERN    TOTAL    OC5  TOTAL   T  NL         2010      12.16\n",
       "11678      EUR      ERN    TOTAL    OC9  TOTAL   T  NL         2010      10.04"
      ]
     },
     "execution_count": 80,
     "metadata": {},
     "output_type": "execute_result"
    }
   ],
   "source": [
    "df_NL_10"
   ]
  },
  {
   "cell_type": "code",
   "execution_count": 81,
   "metadata": {},
   "outputs": [
    {
     "data": {
      "text/html": [
       "<div>\n",
       "<style scoped>\n",
       "    .dataframe tbody tr th:only-of-type {\n",
       "        vertical-align: middle;\n",
       "    }\n",
       "\n",
       "    .dataframe tbody tr th {\n",
       "        vertical-align: top;\n",
       "    }\n",
       "\n",
       "    .dataframe thead th {\n",
       "        text-align: right;\n",
       "    }\n",
       "</style>\n",
       "<table border=\"1\" class=\"dataframe\">\n",
       "  <thead>\n",
       "    <tr style=\"text-align: right;\">\n",
       "      <th></th>\n",
       "      <th>sizeclas</th>\n",
       "      <th>age</th>\n",
       "      <th>unit</th>\n",
       "      <th>isco88</th>\n",
       "      <th>indic_se</th>\n",
       "      <th>sex</th>\n",
       "      <th>geo</th>\n",
       "      <th>TIME_PERIOD</th>\n",
       "      <th>OBS_VALUE</th>\n",
       "    </tr>\n",
       "  </thead>\n",
       "  <tbody>\n",
       "    <tr>\n",
       "      <th>40932</th>\n",
       "      <td>TOTAL</td>\n",
       "      <td>TOTAL</td>\n",
       "      <td>EUR</td>\n",
       "      <td>ISCO1</td>\n",
       "      <td>ERN</td>\n",
       "      <td>T</td>\n",
       "      <td>NL</td>\n",
       "      <td>2006</td>\n",
       "      <td>23.60</td>\n",
       "    </tr>\n",
       "    <tr>\n",
       "      <th>41412</th>\n",
       "      <td>TOTAL</td>\n",
       "      <td>TOTAL</td>\n",
       "      <td>EUR</td>\n",
       "      <td>ISCO5</td>\n",
       "      <td>ERN</td>\n",
       "      <td>T</td>\n",
       "      <td>NL</td>\n",
       "      <td>2006</td>\n",
       "      <td>11.03</td>\n",
       "    </tr>\n",
       "    <tr>\n",
       "      <th>41941</th>\n",
       "      <td>TOTAL</td>\n",
       "      <td>TOTAL</td>\n",
       "      <td>EUR</td>\n",
       "      <td>ISCO9</td>\n",
       "      <td>ERN</td>\n",
       "      <td>T</td>\n",
       "      <td>NL</td>\n",
       "      <td>2006</td>\n",
       "      <td>9.73</td>\n",
       "    </tr>\n",
       "  </tbody>\n",
       "</table>\n",
       "</div>"
      ],
      "text/plain": [
       "      sizeclas    age unit isco88 indic_se sex geo  TIME_PERIOD  OBS_VALUE\n",
       "40932    TOTAL  TOTAL  EUR  ISCO1      ERN   T  NL         2006      23.60\n",
       "41412    TOTAL  TOTAL  EUR  ISCO5      ERN   T  NL         2006      11.03\n",
       "41941    TOTAL  TOTAL  EUR  ISCO9      ERN   T  NL         2006       9.73"
      ]
     },
     "execution_count": 81,
     "metadata": {},
     "output_type": "execute_result"
    }
   ],
   "source": [
    "df_NL_06"
   ]
  },
  {
   "cell_type": "code",
   "execution_count": null,
   "metadata": {},
   "outputs": [],
   "source": []
  },
  {
   "cell_type": "code",
   "execution_count": 82,
   "metadata": {},
   "outputs": [
    {
     "data": {
      "text/html": [
       "<div>\n",
       "<style scoped>\n",
       "    .dataframe tbody tr th:only-of-type {\n",
       "        vertical-align: middle;\n",
       "    }\n",
       "\n",
       "    .dataframe tbody tr th {\n",
       "        vertical-align: top;\n",
       "    }\n",
       "\n",
       "    .dataframe thead th {\n",
       "        text-align: right;\n",
       "    }\n",
       "</style>\n",
       "<table border=\"1\" class=\"dataframe\">\n",
       "  <thead>\n",
       "    <tr style=\"text-align: right;\">\n",
       "      <th></th>\n",
       "      <th>sizeclas</th>\n",
       "      <th>age</th>\n",
       "      <th>unit</th>\n",
       "      <th>isco88</th>\n",
       "      <th>indic_se</th>\n",
       "      <th>sex</th>\n",
       "      <th>geo</th>\n",
       "      <th>TIME_PERIOD</th>\n",
       "      <th>OBS_VALUE</th>\n",
       "      <th>currency</th>\n",
       "      <th>isco08</th>\n",
       "    </tr>\n",
       "  </thead>\n",
       "  <tbody>\n",
       "    <tr>\n",
       "      <th>40932</th>\n",
       "      <td>TOTAL</td>\n",
       "      <td>TOTAL</td>\n",
       "      <td>EUR</td>\n",
       "      <td>ISCO1</td>\n",
       "      <td>ERN</td>\n",
       "      <td>T</td>\n",
       "      <td>NL</td>\n",
       "      <td>2006</td>\n",
       "      <td>23.60</td>\n",
       "      <td>NaN</td>\n",
       "      <td>NaN</td>\n",
       "    </tr>\n",
       "    <tr>\n",
       "      <th>41412</th>\n",
       "      <td>TOTAL</td>\n",
       "      <td>TOTAL</td>\n",
       "      <td>EUR</td>\n",
       "      <td>ISCO5</td>\n",
       "      <td>ERN</td>\n",
       "      <td>T</td>\n",
       "      <td>NL</td>\n",
       "      <td>2006</td>\n",
       "      <td>11.03</td>\n",
       "      <td>NaN</td>\n",
       "      <td>NaN</td>\n",
       "    </tr>\n",
       "    <tr>\n",
       "      <th>41941</th>\n",
       "      <td>TOTAL</td>\n",
       "      <td>TOTAL</td>\n",
       "      <td>EUR</td>\n",
       "      <td>ISCO9</td>\n",
       "      <td>ERN</td>\n",
       "      <td>T</td>\n",
       "      <td>NL</td>\n",
       "      <td>2006</td>\n",
       "      <td>9.73</td>\n",
       "      <td>NaN</td>\n",
       "      <td>NaN</td>\n",
       "    </tr>\n",
       "    <tr>\n",
       "      <th>8731</th>\n",
       "      <td>TOTAL</td>\n",
       "      <td>TOTAL</td>\n",
       "      <td>NaN</td>\n",
       "      <td>NaN</td>\n",
       "      <td>ERN</td>\n",
       "      <td>T</td>\n",
       "      <td>NL</td>\n",
       "      <td>2010</td>\n",
       "      <td>28.15</td>\n",
       "      <td>EUR</td>\n",
       "      <td>OC1</td>\n",
       "    </tr>\n",
       "    <tr>\n",
       "      <th>10257</th>\n",
       "      <td>TOTAL</td>\n",
       "      <td>TOTAL</td>\n",
       "      <td>NaN</td>\n",
       "      <td>NaN</td>\n",
       "      <td>ERN</td>\n",
       "      <td>T</td>\n",
       "      <td>NL</td>\n",
       "      <td>2010</td>\n",
       "      <td>12.16</td>\n",
       "      <td>EUR</td>\n",
       "      <td>OC5</td>\n",
       "    </tr>\n",
       "    <tr>\n",
       "      <th>11678</th>\n",
       "      <td>TOTAL</td>\n",
       "      <td>TOTAL</td>\n",
       "      <td>NaN</td>\n",
       "      <td>NaN</td>\n",
       "      <td>ERN</td>\n",
       "      <td>T</td>\n",
       "      <td>NL</td>\n",
       "      <td>2010</td>\n",
       "      <td>10.04</td>\n",
       "      <td>EUR</td>\n",
       "      <td>OC9</td>\n",
       "    </tr>\n",
       "    <tr>\n",
       "      <th>8835</th>\n",
       "      <td>TOTAL</td>\n",
       "      <td>TOTAL</td>\n",
       "      <td>NaN</td>\n",
       "      <td>NaN</td>\n",
       "      <td>ERN</td>\n",
       "      <td>T</td>\n",
       "      <td>NL</td>\n",
       "      <td>2014</td>\n",
       "      <td>30.50</td>\n",
       "      <td>EUR</td>\n",
       "      <td>OC1</td>\n",
       "    </tr>\n",
       "    <tr>\n",
       "      <th>10565</th>\n",
       "      <td>TOTAL</td>\n",
       "      <td>TOTAL</td>\n",
       "      <td>NaN</td>\n",
       "      <td>NaN</td>\n",
       "      <td>ERN</td>\n",
       "      <td>T</td>\n",
       "      <td>NL</td>\n",
       "      <td>2014</td>\n",
       "      <td>12.34</td>\n",
       "      <td>EUR</td>\n",
       "      <td>OC5</td>\n",
       "    </tr>\n",
       "    <tr>\n",
       "      <th>12191</th>\n",
       "      <td>TOTAL</td>\n",
       "      <td>TOTAL</td>\n",
       "      <td>NaN</td>\n",
       "      <td>NaN</td>\n",
       "      <td>ERN</td>\n",
       "      <td>T</td>\n",
       "      <td>NL</td>\n",
       "      <td>2014</td>\n",
       "      <td>10.42</td>\n",
       "      <td>EUR</td>\n",
       "      <td>OC9</td>\n",
       "    </tr>\n",
       "    <tr>\n",
       "      <th>692</th>\n",
       "      <td>TOTAL</td>\n",
       "      <td>TOTAL</td>\n",
       "      <td>EUR</td>\n",
       "      <td>NaN</td>\n",
       "      <td>ERN</td>\n",
       "      <td>T</td>\n",
       "      <td>NL</td>\n",
       "      <td>2018</td>\n",
       "      <td>33.51</td>\n",
       "      <td>NaN</td>\n",
       "      <td>OC1</td>\n",
       "    </tr>\n",
       "    <tr>\n",
       "      <th>3302</th>\n",
       "      <td>TOTAL</td>\n",
       "      <td>TOTAL</td>\n",
       "      <td>EUR</td>\n",
       "      <td>NaN</td>\n",
       "      <td>ERN</td>\n",
       "      <td>T</td>\n",
       "      <td>NL</td>\n",
       "      <td>2018</td>\n",
       "      <td>12.97</td>\n",
       "      <td>NaN</td>\n",
       "      <td>OC5</td>\n",
       "    </tr>\n",
       "    <tr>\n",
       "      <th>6374</th>\n",
       "      <td>TOTAL</td>\n",
       "      <td>TOTAL</td>\n",
       "      <td>EUR</td>\n",
       "      <td>NaN</td>\n",
       "      <td>ERN</td>\n",
       "      <td>T</td>\n",
       "      <td>NL</td>\n",
       "      <td>2018</td>\n",
       "      <td>10.46</td>\n",
       "      <td>NaN</td>\n",
       "      <td>OC9</td>\n",
       "    </tr>\n",
       "  </tbody>\n",
       "</table>\n",
       "</div>"
      ],
      "text/plain": [
       "      sizeclas    age unit isco88 indic_se sex geo  TIME_PERIOD  OBS_VALUE   \n",
       "40932    TOTAL  TOTAL  EUR  ISCO1      ERN   T  NL         2006      23.60  \\\n",
       "41412    TOTAL  TOTAL  EUR  ISCO5      ERN   T  NL         2006      11.03   \n",
       "41941    TOTAL  TOTAL  EUR  ISCO9      ERN   T  NL         2006       9.73   \n",
       "8731     TOTAL  TOTAL  NaN    NaN      ERN   T  NL         2010      28.15   \n",
       "10257    TOTAL  TOTAL  NaN    NaN      ERN   T  NL         2010      12.16   \n",
       "11678    TOTAL  TOTAL  NaN    NaN      ERN   T  NL         2010      10.04   \n",
       "8835     TOTAL  TOTAL  NaN    NaN      ERN   T  NL         2014      30.50   \n",
       "10565    TOTAL  TOTAL  NaN    NaN      ERN   T  NL         2014      12.34   \n",
       "12191    TOTAL  TOTAL  NaN    NaN      ERN   T  NL         2014      10.42   \n",
       "692      TOTAL  TOTAL  EUR    NaN      ERN   T  NL         2018      33.51   \n",
       "3302     TOTAL  TOTAL  EUR    NaN      ERN   T  NL         2018      12.97   \n",
       "6374     TOTAL  TOTAL  EUR    NaN      ERN   T  NL         2018      10.46   \n",
       "\n",
       "      currency isco08  \n",
       "40932      NaN    NaN  \n",
       "41412      NaN    NaN  \n",
       "41941      NaN    NaN  \n",
       "8731       EUR    OC1  \n",
       "10257      EUR    OC5  \n",
       "11678      EUR    OC9  \n",
       "8835       EUR    OC1  \n",
       "10565      EUR    OC5  \n",
       "12191      EUR    OC9  \n",
       "692        NaN    OC1  \n",
       "3302       NaN    OC5  \n",
       "6374       NaN    OC9  "
      ]
     },
     "execution_count": 82,
     "metadata": {},
     "output_type": "execute_result"
    }
   ],
   "source": [
    "pd.concat([df_NL_06,df_NL_10,df_NL_14,df_NL_18]).head(12)"
   ]
  }
 ],
 "metadata": {
  "kernelspec": {
   "display_name": "Python 3",
   "language": "python",
   "name": "python3"
  },
  "language_info": {
   "codemirror_mode": {
    "name": "ipython",
    "version": 3
   },
   "file_extension": ".py",
   "mimetype": "text/x-python",
   "name": "python",
   "nbconvert_exporter": "python",
   "pygments_lexer": "ipython3",
   "version": "3.9.6"
  },
  "orig_nbformat": 4
 },
 "nbformat": 4,
 "nbformat_minor": 2
}
